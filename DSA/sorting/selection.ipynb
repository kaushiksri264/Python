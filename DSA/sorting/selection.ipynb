{
 "cells": [
  {
   "cell_type": "code",
   "execution_count": null,
   "id": "18207985",
   "metadata": {},
   "outputs": [
    {
     "name": "stdout",
     "output_type": "stream",
     "text": [
      "Selection_Sort: [9, 13, 20, 24, 46, 52]\n"
     ]
    }
   ],
   "source": [
    "#Brute Force - Time Complexity - O(n*n), Space Compexity = O(1)\n",
    "class SelectionSorter:\n",
    "    def __init__(self,numbers):\n",
    "        self.numbers = numbers\n",
    "\n",
    "    def selection_sort(self):\n",
    "        if not self.numbers:\n",
    "            return self.numbers\n",
    "        n = len(self.numbers)\n",
    "        for i in range(n):\n",
    "            min_index = i\n",
    "            for j in range(i + 1, n):\n",
    "                if self.numbers[j] < self.numbers[min_index]:\n",
    "                    min_index = j\n",
    "            self.numbers[i], self.numbers[min_index] = self.numbers[min_index], self.numbers[i]\n",
    "        return self.numbers\n",
    "    \n",
    "def main():\n",
    "    numbers = [13,46,24,52,20,9]\n",
    "    sorter = SelectionSorter(numbers)\n",
    "    sort_numbers = sorter.selection_sort()\n",
    "    print(\"Selection_Sort:\", sort_numbers)\n",
    "\n",
    "if __name__ == \"__main__\":\n",
    "    main()\n",
    "\n"
   ]
  },
  {
   "cell_type": "code",
   "execution_count": null,
   "id": "667dea95",
   "metadata": {},
   "outputs": [],
   "source": [
    "\n"
   ]
  }
 ],
 "metadata": {
  "kernelspec": {
   "display_name": "Python 3",
   "language": "python",
   "name": "python3"
  },
  "language_info": {
   "codemirror_mode": {
    "name": "ipython",
    "version": 3
   },
   "file_extension": ".py",
   "mimetype": "text/x-python",
   "name": "python",
   "nbconvert_exporter": "python",
   "pygments_lexer": "ipython3",
   "version": "3.12.11"
  }
 },
 "nbformat": 4,
 "nbformat_minor": 5
}
