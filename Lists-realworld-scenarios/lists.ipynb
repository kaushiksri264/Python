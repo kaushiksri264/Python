{
 "cells": [
  {
   "cell_type": "markdown",
   "id": "e863e523",
   "metadata": {},
   "source": [
    "#### Manage ToDo List"
   ]
  },
  {
   "cell_type": "code",
   "execution_count": 6,
   "id": "c351c059",
   "metadata": {},
   "outputs": [
    {
     "name": "stdout",
     "output_type": "stream",
     "text": [
      "Don't forget to pay Utility Bills\n",
      "To_Do_List:  ['Buy Groceries', 'Pay Bills', 'Schedule a meeting', 'Go for a run']\n",
      "-Buy Groceries\n",
      "-Pay Bills\n",
      "-Schedule a meeting\n",
      "-Go for a run\n"
     ]
    }
   ],
   "source": [
    "to_do_List = [\"Buy Groceries\", \"Clean the house\", \"Pay Bills\"]\n",
    "##Adding to task\n",
    "to_do_List.append(\"Schedule a meeting\")\n",
    "to_do_List.append(\"Go for a run\")\n",
    "\n",
    "##Removing a completed task\n",
    "to_do_List.remove(\"Clean the house\")\n",
    "\n",
    "##Checking if a task in the list\n",
    "if \"Pay Bills\" in to_do_List:\n",
    "    print(\"Don't forget to pay Utility Bills\")\n",
    "\n",
    "print(\"To_Do_List: \",to_do_List)\n",
    "for task in to_do_List:\n",
    "    print(f\"-{task}\")"
   ]
  },
  {
   "cell_type": "markdown",
   "id": "feaf0fe8",
   "metadata": {},
   "source": [
    "#### Organizing Student Grades"
   ]
  },
  {
   "cell_type": "code",
   "execution_count": 8,
   "metadata": {},
   "outputs": [
    {
     "name": "stdout",
     "output_type": "stream",
     "text": [
      "Average grades:  90.00\n",
      "Highest grades: 95\n",
      "Lowest grades: 85\n"
     ]
    }
   ],
   "source": [
    "##Organizing student grades\n",
    "grades = [85,92,90,88]\n",
    "\n",
    "## Adding a new grade\n",
    "grades.append(95)\n",
    "\n",
    "##Calculate the Avg grades\n",
    "avg_grades = sum(grades) / len(grades)\n",
    "print(f\"Average grades: {avg_grades: .2f}\")\n",
    "\n",
    "##Finding highest and lowest grades\n",
    "highest_grades = max(grades)\n",
    "lowest_grades = min(grades)\n",
    "print(f\"Highest grades: {highest_grades}\")\n",
    "print(f\"Lowest grades: {lowest_grades}\")"
   ]
  },
  {
   "cell_type": "markdown",
   "id": "bee9fdaf",
   "metadata": {},
   "source": [
    "#### Managing the Inventory"
   ]
  },
  {
   "cell_type": "code",
   "execution_count": 13,
   "metadata": {},
   "outputs": [
    {
     "name": "stdout",
     "output_type": "stream",
     "text": [
      "Inventory_Fruits: ['Apple', 'Banana', 'Oranges', 'Peach']\n",
      "Oranges is in stock\n",
      "Inventory List:\n",
      "-Apple\n",
      "-Banana\n",
      "-Oranges\n",
      "-Strawberry\n"
     ]
    }
   ],
   "source": [
    "##Managing an inventory\n",
    "inventory_fruits = [\"Apple\",\"Banana\",\"Oranges\",\"Peach\"]\n",
    "\n",
    "#Print\n",
    "print(f\"Inventory_Fruits: {inventory_fruits}\")\n",
    "\n",
    "#add to inventory\n",
    "inventory_fruits.append(\"Strawberry\")\n",
    "\n",
    "#Remove from inventory\n",
    "inventory_fruits.remove(\"Peach\")\n",
    "\n",
    "#Check if the product is available in the inventory\n",
    "product = \"Oranges\"\n",
    "\n",
    "if product in inventory_fruits:\n",
    "    print(f\"{product} is in stock\")\n",
    "else:\n",
    "    print(f\"{product} is not in stock\")\n",
    "\n",
    "#Printing the Inventory\n",
    "print(f\"Inventory List:\")\n",
    "for item in inventory_fruits:\n",
    "    print(f\"-{item}\")"
   ]
  },
  {
   "cell_type": "markdown",
   "id": "b990a6c4",
   "metadata": {},
   "source": [
    "#### Collecting User FeedBack"
   ]
  },
  {
   "cell_type": "code",
   "execution_count": 17,
   "id": "b6eae29a",
   "metadata": {},
   "outputs": [
    {
     "name": "stdout",
     "output_type": "stream",
     "text": [
      "FeedBack count: 2\n",
      "User FeedBack: \n",
      "-Great Service!\n",
      "-Very Satisfied\n",
      "- Could be better\n",
      "- Excellent Experience\n",
      "-Not happy with the service\n"
     ]
    }
   ],
   "source": [
    "#Collecting user feedback\n",
    "feedback = [\"Great Service!\", \"Very Satisfied\", \" Could be better\", \" Excellent Experience\"]\n",
    "\n",
    "#Adding a feedback\n",
    "feedback.append(\"Not happy with the service\")\n",
    "\n",
    "#Counting specific feedback\n",
    "pos_feedback = sum(1 for comment in feedback if \"great\" in comment.lower() or \"excellent\" in comment.lower())\n",
    "print(f\"FeedBack count: {pos_feedback}\")\n",
    "\n",
    "#printing all feedback\n",
    "print(\"User FeedBack: \")\n",
    "for comment in feedback:\n",
    "    print(f\"-{comment}\")"
   ]
  },
  {
   "cell_type": "code",
   "execution_count": null,
   "id": "594dfa60",
   "metadata": {},
   "outputs": [],
   "source": []
  },
  {
   "cell_type": "code",
   "execution_count": null,
   "id": "c814bd69",
   "metadata": {},
   "outputs": [],
   "source": []
  },
  {
   "cell_type": "code",
   "execution_count": null,
   "metadata": {},
   "outputs": [],
   "source": []
  },
  {
   "cell_type": "code",
   "execution_count": null,
   "metadata": {},
   "outputs": [],
   "source": []
  },
  {
   "cell_type": "code",
   "execution_count": null,
   "metadata": {},
   "outputs": [],
   "source": []
  },
  {
   "cell_type": "code",
   "execution_count": null,
   "metadata": {},
   "outputs": [],
   "source": []
  },
  {
   "cell_type": "code",
   "execution_count": null,
   "metadata": {},
   "outputs": [],
   "source": []
  },
  {
   "cell_type": "code",
   "execution_count": null,
   "id": "6a2e4e44",
   "metadata": {},
   "outputs": [],
   "source": []
  },
  {
   "cell_type": "code",
   "execution_count": null,
   "id": "5be29300",
   "metadata": {},
   "outputs": [],
   "source": []
  },
  {
   "cell_type": "code",
   "execution_count": null,
   "metadata": {},
   "outputs": [],
   "source": []
  },
  {
   "cell_type": "code",
   "execution_count": null,
   "metadata": {},
   "outputs": [],
   "source": []
  },
  {
   "cell_type": "code",
   "execution_count": null,
   "id": "c2d7fc23",
   "metadata": {},
   "outputs": [],
   "source": []
  },
  {
   "cell_type": "code",
   "execution_count": null,
   "metadata": {},
   "outputs": [],
   "source": []
  },
  {
   "cell_type": "code",
   "execution_count": null,
   "id": "06d4e7d1",
   "metadata": {},
   "outputs": [],
   "source": []
  },
  {
   "cell_type": "code",
   "execution_count": null,
   "id": "3b1e75e4",
   "metadata": {},
   "outputs": [],
   "source": []
  },
  {
   "cell_type": "code",
   "execution_count": null,
   "id": "255fa851",
   "metadata": {},
   "outputs": [],
   "source": []
  },
  {
   "cell_type": "code",
   "execution_count": null,
   "metadata": {},
   "outputs": [],
   "source": []
  },
  {
   "cell_type": "code",
   "execution_count": null,
   "metadata": {},
   "outputs": [],
   "source": []
  },
  {
   "cell_type": "code",
   "execution_count": null,
   "metadata": {},
   "outputs": [],
   "source": []
  },
  {
   "cell_type": "code",
   "execution_count": null,
   "id": "316e26da",
   "metadata": {},
   "outputs": [],
   "source": []
  },
  {
   "cell_type": "code",
   "execution_count": null,
   "id": "c09a21fa",
   "metadata": {},
   "outputs": [],
   "source": []
  },
  {
   "cell_type": "code",
   "execution_count": null,
   "metadata": {},
   "outputs": [],
   "source": []
  },
  {
   "cell_type": "code",
   "execution_count": null,
   "id": "0cb7cea7",
   "metadata": {},
   "outputs": [],
   "source": []
  },
  {
   "cell_type": "code",
   "execution_count": null,
   "id": "379cb1a4",
   "metadata": {},
   "outputs": [],
   "source": []
  },
  {
   "cell_type": "code",
   "execution_count": null,
   "id": "b77d594d",
   "metadata": {},
   "outputs": [],
   "source": []
  }
 ],
 "metadata": {
  "kernelspec": {
   "display_name": "Python 3",
   "language": "python",
   "name": "python3"
  },
  "language_info": {
   "codemirror_mode": {
    "name": "ipython",
    "version": 3
   },
   "file_extension": ".py",
   "mimetype": "text/x-python",
   "name": "python",
   "nbconvert_exporter": "python",
   "pygments_lexer": "ipython3",
   "version": "3.12.11"
  }
 },
 "nbformat": 4,
 "nbformat_minor": 5
}
