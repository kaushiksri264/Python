{
 "cells": [
  {
   "cell_type": "markdown",
   "id": "7353ee83",
   "metadata": {},
   "source": [
    "#### Map\n",
    "#### map() function applies a given function to all items in an input list(or any other iterables) and returns a map object(an iterator). this is useful in the list comprehension"
   ]
  },
  {
   "cell_type": "code",
   "execution_count": 1,
   "id": "429e4d00",
   "metadata": {},
   "outputs": [
    {
     "data": {
      "text/plain": [
       "16"
      ]
     },
     "execution_count": 1,
     "metadata": {},
     "output_type": "execute_result"
    }
   ],
   "source": [
    "##sqaure number\n",
    "def sqaure(x):\n",
    "    return x**2\n",
    "sqaure(4)"
   ]
  },
  {
   "cell_type": "code",
   "execution_count": 2,
   "id": "d7a1b9e8",
   "metadata": {},
   "outputs": [
    {
     "name": "stdout",
     "output_type": "stream",
     "text": [
      "1\n",
      "4\n",
      "9\n",
      "16\n",
      "25\n",
      "36\n"
     ]
    }
   ],
   "source": [
    "##List of numbers\n",
    "numbers = [1,2,3,4,5,6]\n",
    "def squares(x):\n",
    "    for num in x:\n",
    "        print(num**2)\n",
    "squares(numbers)"
   ]
  },
  {
   "cell_type": "code",
   "execution_count": 5,
   "id": "0d5e91cf",
   "metadata": {},
   "outputs": [
    {
     "name": "stdout",
     "output_type": "stream",
     "text": [
      "[1, 4, 9, 16, 25, 36]\n"
     ]
    }
   ],
   "source": [
    "##map\n",
    "numbers = [1,2,3,4,5,6]\n",
    "num= list(map(lambda x:x**2, numbers))\n",
    "print(num)"
   ]
  },
  {
   "cell_type": "code",
   "execution_count": 6,
   "id": "5ebfd4ad",
   "metadata": {},
   "outputs": [
    {
     "data": {
      "text/plain": [
       "[5, 7, 9]"
      ]
     },
     "execution_count": 6,
     "metadata": {},
     "output_type": "execute_result"
    }
   ],
   "source": [
    "##Map multipule iterables\n",
    "numbers1 = [1,2,3]\n",
    "numbers2 = [4,5,6]\n",
    "list(map(lambda x,y : x + y, numbers1, numbers2))\n"
   ]
  },
  {
   "cell_type": "code",
   "execution_count": 7,
   "id": "eb0a7f52",
   "metadata": {},
   "outputs": [
    {
     "name": "stdout",
     "output_type": "stream",
     "text": [
      "[1, 2, 3, 4, 5, 6]\n"
     ]
    }
   ],
   "source": [
    "##map() -> to convert a list of strings to integers\n",
    "str_numbers = ['1','2','3','4','5','6']\n",
    "int_numbers = list(map(int, str_numbers))\n",
    "print(int_numbers)"
   ]
  },
  {
   "cell_type": "code",
   "execution_count": 9,
   "id": "32643f54",
   "metadata": {},
   "outputs": [
    {
     "name": "stdout",
     "output_type": "stream",
     "text": [
      "['APPLE', 'BANANA', 'ORANGE', 'GRAPES']\n"
     ]
    }
   ],
   "source": [
    "words = ['apple','banana','orange','grapes']\n",
    "caps = list(map(str.upper,words))\n",
    "print(caps)"
   ]
  },
  {
   "cell_type": "code",
   "execution_count": 14,
   "id": "9f0d8379",
   "metadata": {},
   "outputs": [
    {
     "name": "stdout",
     "output_type": "stream",
     "text": [
      "['Samaeul', 'Johnson']\n"
     ]
    }
   ],
   "source": [
    "person = [{\n",
    "    'name' : 'Samaeul',\n",
    "    'age' : 25\n",
    "},\n",
    "{\n",
    "    'name' : 'Johnson',\n",
    "    'age' : 29\n",
    "}\n",
    "]\n",
    "\n",
    "def get_name(person):\n",
    "    return person['name']\n",
    "\n",
    "print(list(map(get_name,person)))"
   ]
  },
  {
   "cell_type": "code",
   "execution_count": null,
   "id": "902ae556",
   "metadata": {},
   "outputs": [],
   "source": []
  },
  {
   "cell_type": "code",
   "execution_count": null,
   "id": "8da6e18c",
   "metadata": {},
   "outputs": [],
   "source": []
  },
  {
   "cell_type": "code",
   "execution_count": null,
   "id": "068e12fe",
   "metadata": {},
   "outputs": [],
   "source": []
  },
  {
   "cell_type": "code",
   "execution_count": null,
   "id": "81d42243",
   "metadata": {},
   "outputs": [],
   "source": []
  },
  {
   "cell_type": "code",
   "execution_count": null,
   "id": "f6d3bac7",
   "metadata": {},
   "outputs": [],
   "source": []
  },
  {
   "cell_type": "code",
   "execution_count": null,
   "id": "2ec4424a",
   "metadata": {},
   "outputs": [],
   "source": []
  },
  {
   "cell_type": "code",
   "execution_count": null,
   "id": "70aefb7f",
   "metadata": {},
   "outputs": [],
   "source": []
  },
  {
   "cell_type": "code",
   "execution_count": null,
   "id": "c8c0a2cc",
   "metadata": {},
   "outputs": [],
   "source": []
  },
  {
   "cell_type": "code",
   "execution_count": null,
   "id": "b3bca4b1",
   "metadata": {},
   "outputs": [],
   "source": []
  },
  {
   "cell_type": "code",
   "execution_count": null,
   "id": "0383ee1e",
   "metadata": {},
   "outputs": [],
   "source": []
  },
  {
   "cell_type": "code",
   "execution_count": null,
   "id": "50e0369b",
   "metadata": {},
   "outputs": [],
   "source": []
  },
  {
   "cell_type": "code",
   "execution_count": null,
   "id": "2e66db0e",
   "metadata": {},
   "outputs": [],
   "source": []
  }
 ],
 "metadata": {
  "kernelspec": {
   "display_name": "Python 3",
   "language": "python",
   "name": "python3"
  },
  "language_info": {
   "codemirror_mode": {
    "name": "ipython",
    "version": 3
   },
   "file_extension": ".py",
   "mimetype": "text/x-python",
   "name": "python",
   "nbconvert_exporter": "python",
   "pygments_lexer": "ipython3",
   "version": "3.12.11"
  }
 },
 "nbformat": 4,
 "nbformat_minor": 5
}
