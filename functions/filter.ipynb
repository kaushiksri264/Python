{
 "cells": [
  {
   "cell_type": "markdown",
   "id": "697140cd",
   "metadata": {},
   "source": [
    "#### Filter\n",
    "#### The filter() function constructs an iterator from elements of an iterable for which a function return true. It is used to filter out items from a list (or any other iterable) based on a condition."
   ]
  },
  {
   "cell_type": "code",
   "execution_count": 1,
   "id": "da13f345",
   "metadata": {},
   "outputs": [
    {
     "data": {
      "text/plain": [
       "True"
      ]
     },
     "execution_count": 1,
     "metadata": {},
     "output_type": "execute_result"
    }
   ],
   "source": [
    "def even(num):\n",
    "    if num%2==0:\n",
    "        return True\n",
    "even(20)"
   ]
  },
  {
   "cell_type": "code",
   "execution_count": 4,
   "id": "4841b7cc",
   "metadata": {},
   "outputs": [
    {
     "data": {
      "text/plain": [
       "[2, 4, 6, 8, 10, 12, 14]"
      ]
     },
     "execution_count": 4,
     "metadata": {},
     "output_type": "execute_result"
    }
   ],
   "source": [
    "numbers = [1,2,3,4,5,6,7,8,9,10,11,12,13,14]\n",
    "list(filter(even,numbers))"
   ]
  },
  {
   "cell_type": "code",
   "execution_count": null,
   "id": "8cb7d510",
   "metadata": {},
   "outputs": [
    {
     "name": "stdout",
     "output_type": "stream",
     "text": [
      "[6, 7, 8, 9, 10, 11, 12, 13, 14]\n"
     ]
    }
   ],
   "source": [
    "##Filter with Lambda function\n",
    "numbers = [1,2,3,4,5,6,7,8,9,10,11,12,13,14]\n",
    "greater_than_five = list(filter(lambda n : n > 5, numbers))\n",
    "print(greater_than_five)"
   ]
  },
  {
   "cell_type": "code",
   "execution_count": 6,
   "id": "91450a1c",
   "metadata": {},
   "outputs": [
    {
     "name": "stdout",
     "output_type": "stream",
     "text": [
      "[6, 8, 10, 12, 14]\n"
     ]
    }
   ],
   "source": [
    "##Filter with lambda function with multipule conditions\n",
    "even_or_odd_with_greater_than_five = list(filter(lambda n : n > 5 and n%2==0, numbers))\n",
    "print(even_or_odd_with_greater_than_five)"
   ]
  },
  {
   "cell_type": "code",
   "execution_count": 8,
   "id": "c56df2a8",
   "metadata": {},
   "outputs": [
    {
     "data": {
      "text/plain": [
       "[{'name': 'kaushik', 'age': 26},\n",
       " {'name': 'Sri', 'age': 29},\n",
       " {'name': 'Mark', 'age': 30}]"
      ]
     },
     "execution_count": 8,
     "metadata": {},
     "output_type": "execute_result"
    }
   ],
   "source": [
    "##filter() to check if the age is greater than 25 in dictionaries\n",
    "person =[{'name' : 'kaushik','age': 26},{'name': 'Sri','age' : 29},{'name':'Mark', 'age':30}]\n",
    "def age_greater(person):\n",
    "    return person['age'] > 25\n",
    "list(filter(age_greater,person))"
   ]
  },
  {
   "cell_type": "code",
   "execution_count": null,
   "id": "fe64d5e4",
   "metadata": {},
   "outputs": [],
   "source": []
  },
  {
   "cell_type": "code",
   "execution_count": null,
   "id": "d8bcdb5a",
   "metadata": {},
   "outputs": [],
   "source": []
  },
  {
   "cell_type": "code",
   "execution_count": null,
   "id": "8d60fa72",
   "metadata": {},
   "outputs": [],
   "source": []
  },
  {
   "cell_type": "code",
   "execution_count": null,
   "id": "54b4fbc1",
   "metadata": {},
   "outputs": [],
   "source": []
  },
  {
   "cell_type": "code",
   "execution_count": null,
   "id": "3c72e679",
   "metadata": {},
   "outputs": [],
   "source": []
  },
  {
   "cell_type": "code",
   "execution_count": null,
   "id": "5092d5ab",
   "metadata": {},
   "outputs": [],
   "source": []
  }
 ],
 "metadata": {
  "kernelspec": {
   "display_name": "Python 3",
   "language": "python",
   "name": "python3"
  },
  "language_info": {
   "codemirror_mode": {
    "name": "ipython",
    "version": 3
   },
   "file_extension": ".py",
   "mimetype": "text/x-python",
   "name": "python",
   "nbconvert_exporter": "python",
   "pygments_lexer": "ipython3",
   "version": "3.12.11"
  }
 },
 "nbformat": 4,
 "nbformat_minor": 5
}
