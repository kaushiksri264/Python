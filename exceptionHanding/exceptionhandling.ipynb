{
 "cells": [
  {
   "cell_type": "markdown",
   "id": "035fd71c",
   "metadata": {},
   "source": [
    "#### Exeption Handling"
   ]
  },
  {
   "cell_type": "code",
   "execution_count": 2,
   "id": "c72e2f9f",
   "metadata": {},
   "outputs": [
    {
     "ename": "NameError",
     "evalue": "name 'b' is not defined",
     "output_type": "error",
     "traceback": [
      "\u001b[31m---------------------------------------------------------------------------\u001b[39m",
      "\u001b[31mNameError\u001b[39m                                 Traceback (most recent call last)",
      "\u001b[36mCell\u001b[39m\u001b[36m \u001b[39m\u001b[32mIn[2]\u001b[39m\u001b[32m, line 1\u001b[39m\n\u001b[32m----> \u001b[39m\u001b[32m1\u001b[39m a = \u001b[43mb\u001b[49m\n",
      "\u001b[31mNameError\u001b[39m: name 'b' is not defined"
     ]
    }
   ],
   "source": [
    "a = b"
   ]
  },
  {
   "cell_type": "code",
   "execution_count": 1,
   "id": "f54727c1",
   "metadata": {},
   "outputs": [
    {
     "name": "stdout",
     "output_type": "stream",
     "text": [
      "name b is not defined\n"
     ]
    }
   ],
   "source": [
    "##Exception handling - try,except\n",
    "try:\n",
    "    a = b\n",
    "except:\n",
    "    print(\"name b is not defined\")"
   ]
  },
  {
   "cell_type": "code",
   "execution_count": 3,
   "id": "337ebdcb",
   "metadata": {},
   "outputs": [
    {
     "name": "stdout",
     "output_type": "stream",
     "text": [
      "Error is:name 'b' is not defined\n"
     ]
    }
   ],
   "source": [
    "try:\n",
    "    a = b\n",
    "except NameError as e:\n",
    "    print(f\"Error is:{e}\")"
   ]
  },
  {
   "cell_type": "code",
   "execution_count": 4,
   "id": "16656306",
   "metadata": {},
   "outputs": [
    {
     "ename": "ZeroDivisionError",
     "evalue": "division by zero",
     "output_type": "error",
     "traceback": [
      "\u001b[31m---------------------------------------------------------------------------\u001b[39m",
      "\u001b[31mZeroDivisionError\u001b[39m                         Traceback (most recent call last)",
      "\u001b[36mCell\u001b[39m\u001b[36m \u001b[39m\u001b[32mIn[4]\u001b[39m\u001b[32m, line 1\u001b[39m\n\u001b[32m----> \u001b[39m\u001b[32m1\u001b[39m \u001b[32;43m1\u001b[39;49m\u001b[43m/\u001b[49m\u001b[32;43m0\u001b[39;49m\n",
      "\u001b[31mZeroDivisionError\u001b[39m: division by zero"
     ]
    }
   ],
   "source": [
    "1/0"
   ]
  },
  {
   "cell_type": "code",
   "execution_count": 9,
   "id": "6912faec",
   "metadata": {},
   "outputs": [
    {
     "name": "stdout",
     "output_type": "stream",
     "text": [
      "division by zero\n",
      "Enter value greater than 0 in denominator\n"
     ]
    }
   ],
   "source": [
    "try:\n",
    "    result = 1/0\n",
    "except ZeroDivisionError as e:\n",
    "    print(e)\n",
    "    print(\"Enter value greater than 0 in denominator\")"
   ]
  },
  {
   "cell_type": "code",
   "execution_count": 10,
   "id": "68fa4606",
   "metadata": {},
   "outputs": [
    {
     "ename": "NameError",
     "evalue": "name 'cc' is not defined",
     "output_type": "error",
     "traceback": [
      "\u001b[31m---------------------------------------------------------------------------\u001b[39m",
      "\u001b[31mNameError\u001b[39m                                 Traceback (most recent call last)",
      "\u001b[36mCell\u001b[39m\u001b[36m \u001b[39m\u001b[32mIn[10]\u001b[39m\u001b[32m, line 3\u001b[39m\n\u001b[32m      1\u001b[39m \u001b[38;5;28;01mtry\u001b[39;00m:\n\u001b[32m      2\u001b[39m     result = \u001b[32m1\u001b[39m/\u001b[32m2\u001b[39m\n\u001b[32m----> \u001b[39m\u001b[32m3\u001b[39m     a = \u001b[43mcc\u001b[49m \n\u001b[32m      4\u001b[39m \u001b[38;5;28;01mexcept\u001b[39;00m \u001b[38;5;167;01mZeroDivisionError\u001b[39;00m \u001b[38;5;28;01mas\u001b[39;00m e:\n\u001b[32m      5\u001b[39m     \u001b[38;5;28mprint\u001b[39m(e)\n",
      "\u001b[31mNameError\u001b[39m: name 'cc' is not defined"
     ]
    }
   ],
   "source": [
    "try:\n",
    "    result = 1/2\n",
    "    a = cc \n",
    "except ZeroDivisionError as e:\n",
    "    print(e)"
   ]
  },
  {
   "cell_type": "code",
   "execution_count": 11,
   "id": "b410f233",
   "metadata": {},
   "outputs": [
    {
     "name": "stdout",
     "output_type": "stream",
     "text": [
      "name 'b' is not defined\n"
     ]
    }
   ],
   "source": [
    "try:\n",
    "    result = 1/2\n",
    "    a = b\n",
    "except ZeroDivisionError as e:\n",
    "    print(e)\n",
    "except Exception as e1:\n",
    "    print(e1)"
   ]
  },
  {
   "cell_type": "code",
   "execution_count": null,
   "id": "7f900efa",
   "metadata": {},
   "outputs": [
    {
     "name": "stdout",
     "output_type": "stream",
     "text": [
      "Error is : invalid literal for int() with base 10: 'kaushik'\n"
     ]
    }
   ],
   "source": [
    "##try,except,else - If any error is encounterd else block is not executed\n",
    "try:\n",
    "    num = int(input(\"Enter a number\"))\n",
    "    result = 10/num\n",
    "except ValueError as ex:\n",
    "    print(f\"Error is : {ex}\")\n",
    "except ZeroDivisionError as ex1:\n",
    "    print(f\"Error is : {ex1}\")\n",
    "except Exception as ex2:\n",
    "    print(ex2)\n",
    "else:\n",
    "    print(f\"result:{result}\")"
   ]
  },
  {
   "cell_type": "code",
   "execution_count": 16,
   "id": "c01f8b30",
   "metadata": {},
   "outputs": [
    {
     "name": "stdout",
     "output_type": "stream",
     "text": [
      "Error is : division by zero\n",
      "Execution is compelete\n"
     ]
    }
   ],
   "source": [
    "##try,except,else,finally - If any error is encounterd or not finally block is executed\n",
    "try:\n",
    "    num = int(input(\"Enter a number\"))\n",
    "    result = 10/num\n",
    "except ValueError as ex:\n",
    "    print(f\"Error is : {ex}\")\n",
    "except ZeroDivisionError as ex1:\n",
    "    print(f\"Error is : {ex1}\")\n",
    "except Exception as ex2:\n",
    "    print(ex2)\n",
    "else:\n",
    "    print(f\"result:{result}\")\n",
    "finally:\n",
    "    print(\"Execution is compelete\")"
   ]
  },
  {
   "cell_type": "code",
   "execution_count": 23,
   "id": "bda7d5a5",
   "metadata": {},
   "outputs": [
    {
     "name": "stdout",
     "output_type": "stream",
     "text": [
      "name 'b' is not defined\n",
      "file is closed\n"
     ]
    }
   ],
   "source": [
    "##File handling in exception handling\n",
    "try:\n",
    "    file = open('example.txt','r')\n",
    "    content = file.read()\n",
    "    a = b\n",
    "    print(content)\n",
    "except FileNotFoundError:\n",
    "    print(\"File does not exist!\")\n",
    "except Exception as ex:\n",
    "    print(ex)\n",
    "finally:\n",
    "    if 'file' in locals() or not file.closed():\n",
    "        file.close()\n",
    "        print(\"file is closed\")\n"
   ]
  },
  {
   "cell_type": "code",
   "execution_count": null,
   "id": "5565c6c1",
   "metadata": {},
   "outputs": [],
   "source": []
  },
  {
   "cell_type": "code",
   "execution_count": null,
   "id": "d2fd10e2",
   "metadata": {},
   "outputs": [],
   "source": []
  },
  {
   "cell_type": "code",
   "execution_count": null,
   "id": "fd3e62f5",
   "metadata": {},
   "outputs": [],
   "source": []
  },
  {
   "cell_type": "code",
   "execution_count": null,
   "id": "50216891",
   "metadata": {},
   "outputs": [],
   "source": []
  },
  {
   "cell_type": "code",
   "execution_count": null,
   "id": "cf0ee547",
   "metadata": {},
   "outputs": [],
   "source": []
  },
  {
   "cell_type": "code",
   "execution_count": null,
   "id": "8658c745",
   "metadata": {},
   "outputs": [],
   "source": []
  },
  {
   "cell_type": "markdown",
   "id": "766f38a0",
   "metadata": {},
   "source": [
    "#### Exception Handling"
   ]
  },
  {
   "cell_type": "markdown",
   "id": "a1018f8a",
   "metadata": {},
   "source": []
  }
 ],
 "metadata": {
  "kernelspec": {
   "display_name": "Python 3",
   "language": "python",
   "name": "python3"
  },
  "language_info": {
   "codemirror_mode": {
    "name": "ipython",
    "version": 3
   },
   "file_extension": ".py",
   "mimetype": "text/x-python",
   "name": "python",
   "nbconvert_exporter": "python",
   "pygments_lexer": "ipython3",
   "version": "3.12.11"
  }
 },
 "nbformat": 4,
 "nbformat_minor": 5
}
