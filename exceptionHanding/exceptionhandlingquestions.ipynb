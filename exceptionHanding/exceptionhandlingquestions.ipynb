{
 "cells": [
  {
   "cell_type": "markdown",
   "metadata": {},
   "source": [
    "# Module: Exception Handling Assignments\n",
    "## Lesson: Exception Handling with try, except, and finally\n",
    "### Assignment 1: Handling Division by Zero\n",
    "\n",
    "Write a function that takes two integers as input and returns their division. Use try, except, and finally blocks to handle division by zero and print an appropriate message.\n",
    "\n",
    "### Assignment 2: File Reading with Exception Handling\n",
    "\n",
    "Write a function that reads the contents of a file named `data.txt`. Use try, except, and finally blocks to handle file not found errors and ensure the file is properly closed.\n",
    "\n",
    "### Assignment 3: Handling Multiple Exceptions\n",
    "\n",
    "Write a function that takes a list of integers and returns their sum. Use try, except, and finally blocks to handle TypeError if a non-integer value is encountered and print an appropriate message.\n",
    "\n",
    "### Assignment 4: Exception Handling in User Input\n",
    "\n",
    "Write a function that prompts the user to enter an integer. Use try, except, and finally blocks to handle ValueError if the user enters a non-integer value and print an appropriate message.\n",
    "\n",
    "### Assignment 5: Exception Handling in Dictionary Access\n",
    "\n",
    "Write a function that takes a dictionary and a key as input and returns the value associated with the key. Use try, except, and finally blocks to handle KeyError if the key is not found in the dictionary and print an appropriate message.\n",
    "\n",
    "### Assignment 6: Nested Exception Handling\n",
    "\n",
    "Write a function that performs nested exception handling. It should first attempt to convert a string to an integer, and then attempt to divide by that integer. Use nested try, except, and finally blocks to handle ValueError and ZeroDivisionError and print appropriate messages.\n",
    "\n",
    "### Assignment 7: Exception Handling in List Operations\n",
    "\n",
    "Write a function that takes a list and an index as input and returns the element at the given index. Use try, except, and finally blocks to handle IndexError if the index is out of range and print an appropriate message.\n",
    "\n",
    "### Assignment 8: Exception Handling in Network Operations\n",
    "\n",
    "Write a function that attempts to open a URL and read its contents. Use try, except, and finally blocks to handle network-related errors and print an appropriate message.\n",
    "\n",
    "### Assignment 9: Exception Handling in JSON Parsing\n",
    "\n",
    "Write a function that attempts to parse a JSON string. Use try, except, and finally blocks to handle JSONDecodeError if the string is not a valid JSON and print an appropriate message.\n",
    "\n",
    "### Assignment 10: Custom Exception Handling\n",
    "\n",
    "Define a custom exception named `NegativeNumberError`. Write a function that raises this exception if a negative number is encountered in a list. Use try, except, and finally blocks to handle the custom exception and print an appropriate message.\n",
    "\n",
    "### Assignment 11: Exception Handling in Function Calls\n",
    "\n",
    "Write a function that calls another function which may raise an exception. Use try, except, and finally blocks to handle the exception and print an appropriate message.\n",
    "\n",
    "### Assignment 12: Exception Handling in Class Methods\n",
    "\n",
    "Define a class with a method that performs a division operation. Use try, except, and finally blocks within the method to handle division by zero and print an appropriate message.\n",
    "\n",
    "### Assignment 13: Exception Handling in Data Conversion\n",
    "\n",
    "Write a function that takes a list of strings and converts them to integers. Use try, except, and finally blocks to handle ValueError if a string cannot be converted and print an appropriate message.\n",
    "\n",
    "### Assignment 14: Exception Handling in List Comprehensions\n",
    "\n",
    "Write a function that uses a list comprehension to convert a list of strings to integers. Use try, except, and finally blocks within the list comprehension to handle ValueError and print an appropriate message.\n",
    "\n",
    "### Assignment 15: Exception Handling in File Writing\n",
    "\n",
    "Write a function that attempts to write a list of strings to a file. Use try, except, and finally blocks to handle IOError and ensure the file is properly closed."
   ]
  },
  {
   "cell_type": "code",
   "execution_count": 3,
   "id": "c1936126",
   "metadata": {},
   "outputs": [
    {
     "name": "stdout",
     "output_type": "stream",
     "text": [
      "2.0\n",
      "Execution is complete\n"
     ]
    }
   ],
   "source": [
    "try:\n",
    "    num1 = int(input(\"Enter num1: \"))\n",
    "    num2 = int(input(\"Enter num2: \"))\n",
    "    result = num1/num2\n",
    "    print(result)\n",
    "except ZeroDivisionError:\n",
    "    print(\"Enter a number greater than zero in the denominator!\")\n",
    "except Exception as e:\n",
    "    print(e)\n",
    "finally:\n",
    "    print(\"Execution is complete\")"
   ]
  },
  {
   "cell_type": "code",
   "execution_count": 5,
   "id": "76b8d0f6",
   "metadata": {},
   "outputs": [
    {
     "name": "stdout",
     "output_type": "stream",
     "text": [
      "File is not found!\n"
     ]
    }
   ],
   "source": [
    "try:\n",
    "    file = open('data.txt','r')\n",
    "    content = file.read()\n",
    "    print(content)\n",
    "except FileNotFoundError:\n",
    "    print(\"File is not found!\")\n",
    "finally:\n",
    "    try:\n",
    "        if file in locals() or not file.closed():\n",
    "            file.close()\n",
    "            print(\"File is closed\")\n",
    "    except NameError:\n",
    "        pass\n"
   ]
  },
  {
   "cell_type": "code",
   "execution_count": 9,
   "id": "6e1b7769",
   "metadata": {},
   "outputs": [
    {
     "name": "stdout",
     "output_type": "stream",
     "text": [
      "Execution Completed\n",
      "15\n"
     ]
    }
   ],
   "source": [
    "def Mul_ex(list_numbers):\n",
    "    try:\n",
    "        result = sum(num for num in list_numbers)\n",
    "    except TypeError:\n",
    "        print(\"Invalid value is in the list -> str is not int\")\n",
    "    finally:\n",
    "        print(\"Execution Completed\")\n",
    "        print(result)\n",
    "\n",
    "list_num = [1,2,3,4,5]\n",
    "Mul_ex(list_num)"
   ]
  },
  {
   "cell_type": "code",
   "execution_count": 13,
   "id": "2565b70b",
   "metadata": {},
   "outputs": [
    {
     "name": "stdout",
     "output_type": "stream",
     "text": [
      "Execution completed\n",
      "10\n"
     ]
    }
   ],
   "source": [
    "#4\n",
    "def value_Error():\n",
    "    try:\n",
    "        val = int(input(\"Enter a Value\"))\n",
    "    except ValueError as e:\n",
    "        print(f\"Error:{e}\")\n",
    "        val = None\n",
    "    finally:\n",
    "        print(\"Execution completed\")\n",
    "    return val\n",
    "\n",
    "print(value_Error())"
   ]
  },
  {
   "cell_type": "code",
   "execution_count": 28,
   "id": "ed6fc887",
   "metadata": {},
   "outputs": [
    {
     "name": "stdout",
     "output_type": "stream",
     "text": [
      "Execution is completed\n",
      "ksudhik\n"
     ]
    }
   ],
   "source": [
    "#5\n",
    "def dictionary(_dict,k):\n",
    "    try:\n",
    "        lst = _dict[k]\n",
    "    except KeyError:\n",
    "        print(\"Key is not in the Dictionary\")\n",
    "        lst = None\n",
    "    finally:\n",
    "        print(\"Execution is completed\")\n",
    "        print(lst)\n",
    "\n",
    "_dict = {'name':'Sri','name':'ksudhik'}\n",
    "key = 'name'\n",
    "dictionary(_dict,key)\n"
   ]
  },
  {
   "cell_type": "code",
   "execution_count": 50,
   "id": "f5ed2b06",
   "metadata": {},
   "outputs": [
    {
     "name": "stdout",
     "output_type": "stream",
     "text": [
      "Conversion is Completed!\n",
      "result should be greateer than 0\n",
      "Division is complete!\n",
      "Nested_Exception is executed successfully\n"
     ]
    }
   ],
   "source": [
    "#6\n",
    "def nested_exception(str):\n",
    "    try:\n",
    "        try:\n",
    "            num= int(str)\n",
    "        except ValueError:\n",
    "            print(f\"Expected int but number is string\")\n",
    "            num = None\n",
    "        finally:\n",
    "            print(\"Conversion is Completed!\")\n",
    "        if num is not None:\n",
    "            try:\n",
    "                result = 10/num\n",
    "            except ZeroDivisionError:\n",
    "                print(\"result should be greateer than 0\")\n",
    "                result = None\n",
    "            finally:\n",
    "                print(\"Division is complete!\")\n",
    "            return result\n",
    "    finally:\n",
    "        print(\"Nested_Exception is executed successfully\")\n",
    "\n",
    "nested_exception('0')\n",
    "\n"
   ]
  },
  {
   "cell_type": "code",
   "execution_count": 54,
   "id": "e20b7117",
   "metadata": {},
   "outputs": [
    {
     "name": "stdout",
     "output_type": "stream",
     "text": [
      "List Operation is executed\n"
     ]
    },
    {
     "data": {
      "text/plain": [
       "3"
      ]
     },
     "execution_count": 54,
     "metadata": {},
     "output_type": "execute_result"
    }
   ],
   "source": [
    "#7\n",
    "\n",
    "def list_operations(lst,i):\n",
    "    try:\n",
    "        element = lst[i]\n",
    "    except IndexError as e:\n",
    "        print(f\"Error is: {e}\")\n",
    "        element = None\n",
    "    finally:\n",
    "        print(\"List Operation is executed\")\n",
    "    return element\n",
    "\n",
    "lst = [1,2,3,4]\n",
    "list_operations(lst,2)"
   ]
  },
  {
   "cell_type": "code",
   "execution_count": 60,
   "id": "797f8774",
   "metadata": {},
   "outputs": [
    {
     "name": "stdout",
     "output_type": "stream",
     "text": [
      "Execution Complete!\n",
      "{\n",
      "  \"userId\": 1,\n",
      "  \"id\": 1,\n",
      "  \"title\": \"sunt aut facere repellat provident occaecati excepturi optio reprehenderit\",\n",
      "  \"body\": \"quia et suscipit\\nsuscipit recusandae consequuntur expedita et cum\\nreprehenderit molestiae ut ut quas totam\\nnostrum rerum est autem sunt rem eveniet architecto\"\n",
      "}\n",
      "Network Error: HTTPSConnectionPool(host='nonexisting-url.com', port=443): Max retries exceeded with url: /post/1 (Caused by NameResolutionError(\"<urllib3.connection.HTTPSConnection object at 0x118d66360>: Failed to resolve 'nonexisting-url.com' ([Errno 8] nodename nor servname provided, or not known)\"))\n",
      "Execution Complete!\n",
      "None\n"
     ]
    }
   ],
   "source": [
    "#8 For nEtwork operations we need to import requests\n",
    "import requests\n",
    "\n",
    "def read_url(url):\n",
    "    try:\n",
    "        response = requests.get(url)\n",
    "        response.raise_for_status()\n",
    "        return response.text\n",
    "    except requests.RequestException as e:\n",
    "        print(f\"Network Error: {e}\")\n",
    "        return None\n",
    "    finally:\n",
    "        print(\"Execution Complete!\")\n",
    "\n",
    "print(read_url('https://jsonplaceholder.typicode.com/posts/1'))\n",
    "print(read_url('https://nonexisting-url.com/post/1'))\n",
    "\n"
   ]
  },
  {
   "cell_type": "code",
   "execution_count": 67,
   "id": "5421451f",
   "metadata": {},
   "outputs": [
    {
     "name": "stdout",
     "output_type": "stream",
     "text": [
      "Execution Complete\n",
      "{'name': 'John', 'age': 30}\n",
      "JSON error:Expecting value: line 1 column 1 (char 0)\n",
      "Execution Complete\n",
      "None\n"
     ]
    }
   ],
   "source": [
    "#9 - son.loads() is a method in Python’s built-in json module that parses a JSON-formatted string and converts it into a Python object.\n",
    "import json\n",
    "def parse_json(json_string):\n",
    "    try:\n",
    "        data = json.loads(json_string)\n",
    "        return data\n",
    "    except json.JSONDecodeError as e:\n",
    "        print(f\"JSON error:{e}\")\n",
    "        return None\n",
    "    finally:\n",
    "        print(\"Execution Complete\")\n",
    "\n",
    "print(parse_json('{\"name\" : \"John\", \"age\" : 30}'))\n",
    "print(parse_json('Invalid JSON'))"
   ]
  },
  {
   "cell_type": "code",
   "execution_count": 69,
   "id": "d96ba2db",
   "metadata": {},
   "outputs": [
    {
     "name": "stdout",
     "output_type": "stream",
     "text": [
      "Error: Negative number found: -1\n",
      "Execution Complete\n"
     ]
    }
   ],
   "source": [
    "#Custom Exception Handling\n",
    "class NegativeNumberExceptionError(Exception):\n",
    "    pass\n",
    "\n",
    "def check_for_negatives(lst):\n",
    "    try:\n",
    "        for num in lst:\n",
    "            if num < 0:\n",
    "                raise NegativeNumberExceptionError(f\"Negative number found: {num}\")\n",
    "    except NegativeNumberExceptionError as e:\n",
    "        print(f\"Error: {e}\")\n",
    "    finally:\n",
    "        print(\"Execution Complete\")\n",
    "\n",
    "lst = [1,2,3,4,-1,6]\n",
    "check_for_negatives(lst)"
   ]
  },
  {
   "cell_type": "code",
   "execution_count": 72,
   "id": "71745a3e",
   "metadata": {},
   "outputs": [
    {
     "name": "stdout",
     "output_type": "stream",
     "text": [
      "Error : An Error occured in risky_function\n",
      "Execution Complete\n"
     ]
    }
   ],
   "source": [
    "## Functioncall\n",
    "def risky_function():\n",
    "    raise ValueError(\"An Error occured in risky_function\")\n",
    "\n",
    "def safe_function():\n",
    "    try:\n",
    "        risky_function()\n",
    "    except ValueError as e:\n",
    "        print(f\"Error : {e}\")\n",
    "    finally:\n",
    "        print(\"Execution Complete\")\n",
    "\n",
    "safe_function()"
   ]
  },
  {
   "cell_type": "code",
   "execution_count": 74,
   "id": "5c4b7dd0",
   "metadata": {},
   "outputs": [
    {
     "name": "stdout",
     "output_type": "stream",
     "text": [
      "Error:division by zero\n",
      "Execution Complete!\n",
      "None\n"
     ]
    }
   ],
   "source": [
    "#Exception handling in class\n",
    "class Calculator:\n",
    "    def division(self,a,b):\n",
    "        try:\n",
    "            result = a / b \n",
    "        except ZeroDivisionError as e:\n",
    "            print(f\"Error:{e}\")\n",
    "            result = None\n",
    "        finally:\n",
    "            print(\"Execution Complete!\")\n",
    "        return result\n",
    "\n",
    "calc = Calculator()\n",
    "print(calc.division(10,0))"
   ]
  },
  {
   "cell_type": "code",
   "execution_count": 76,
   "id": "d9f836cf",
   "metadata": {},
   "outputs": [
    {
     "name": "stdout",
     "output_type": "stream",
     "text": [
      "Conversrion_list is executed\n",
      "2\n"
     ]
    }
   ],
   "source": [
    "#13\n",
    "def convert_string(lis):\n",
    "    try:\n",
    "        for i in lis:\n",
    "            value = int(i)\n",
    "    except ValueError as e:\n",
    "        print(f\"Error : {e}\")\n",
    "        value = None\n",
    "    finally:\n",
    "        print(\"Conversrion_list is executed\")\n",
    "    return value\n",
    "\n",
    "lis = ['1', '2']\n",
    "print(convert_string(lis))\n",
    "    "
   ]
  },
  {
   "cell_type": "code",
   "execution_count": 78,
   "id": "6e6d0aaf",
   "metadata": {},
   "outputs": [
    {
     "name": "stdout",
     "output_type": "stream",
     "text": [
      "List_Comprehension_convert is executed!\n",
      "[5]\n"
     ]
    }
   ],
   "source": [
    "#14 List conversion\n",
    "def list_comprehension_convert(lis):\n",
    "    try:\n",
    "        value = [int(i) for i in lis]\n",
    "    except ValueError as e:\n",
    "         print(f\"Error : {e}\")\n",
    "         value = None\n",
    "    finally:\n",
    "        print(\"List_Comprehension_convert is executed!\")\n",
    "    return value\n",
    "\n",
    "lis = ['5']\n",
    "print(list_comprehension_convert(lis))"
   ]
  },
  {
   "cell_type": "code",
   "execution_count": 80,
   "id": "8b926689",
   "metadata": {},
   "outputs": [
    {
     "name": "stdout",
     "output_type": "stream",
     "text": [
      "None\n"
     ]
    }
   ],
   "source": [
    "#15\n",
    "def ioError(file_name, lis):\n",
    "    try:\n",
    "        file = open(file_name, 'w')\n",
    "        for i in lis:\n",
    "            file.write(i + '\\n')\n",
    "    except IOError as e:\n",
    "        print(f\"Error : {e}\")\n",
    "    finally:\n",
    "        try:\n",
    "            file.close()\n",
    "        except NameError:\n",
    "            pass\n",
    "\n",
    "lis = ['Sri', 'Kaushik']\n",
    "file_path = 'example.txt'\n",
    "print(ioError(file_path,lis))"
   ]
  },
  {
   "cell_type": "code",
   "execution_count": null,
   "id": "4458e3c5",
   "metadata": {},
   "outputs": [],
   "source": []
  },
  {
   "cell_type": "code",
   "execution_count": null,
   "id": "47edaea0",
   "metadata": {},
   "outputs": [],
   "source": []
  },
  {
   "cell_type": "code",
   "execution_count": null,
   "metadata": {},
   "outputs": [],
   "source": []
  }
 ],
 "metadata": {
  "kernelspec": {
   "display_name": "Python 3",
   "language": "python",
   "name": "python3"
  },
  "language_info": {
   "codemirror_mode": {
    "name": "ipython",
    "version": 3
   },
   "file_extension": ".py",
   "mimetype": "text/x-python",
   "name": "python",
   "nbconvert_exporter": "python",
   "pygments_lexer": "ipython3",
   "version": "3.12.11"
  }
 },
 "nbformat": 4,
 "nbformat_minor": 5
}
