{
 "cells": [
  {
   "cell_type": "markdown",
   "id": "01b94626",
   "metadata": {},
   "source": [
    "#### Custom Exception "
   ]
  },
  {
   "cell_type": "code",
   "execution_count": 2,
   "id": "8e7b7bb3",
   "metadata": {},
   "outputs": [],
   "source": [
    "class Error(Exception):\n",
    "    pass\n",
    "\n",
    "class dobException(Error):\n",
    "    pass"
   ]
  },
  {
   "cell_type": "code",
   "execution_count": 7,
   "id": "4c89af7c",
   "metadata": {},
   "outputs": [
    {
     "name": "stdout",
     "output_type": "stream",
     "text": [
      "your eligible to apply for exam\n"
     ]
    }
   ],
   "source": [
    "year = int(input(\"Enter the year\"))\n",
    "age = 2025 - year\n",
    "\n",
    "try:\n",
    "    if age <= 30 and age >=20:\n",
    "        print(\"your eligible to apply for exam\")\n",
    "    else:\n",
    "        raise dobException\n",
    "except dobException:\n",
    "        print(\"your age does not meet criteria!\")"
   ]
  },
  {
   "cell_type": "markdown",
   "id": "deb144f5",
   "metadata": {},
   "source": []
  }
 ],
 "metadata": {
  "kernelspec": {
   "display_name": "Python 3",
   "language": "python",
   "name": "python3"
  },
  "language_info": {
   "codemirror_mode": {
    "name": "ipython",
    "version": 3
   },
   "file_extension": ".py",
   "mimetype": "text/x-python",
   "name": "python",
   "nbconvert_exporter": "python",
   "pygments_lexer": "ipython3",
   "version": "3.12.11"
  }
 },
 "nbformat": 4,
 "nbformat_minor": 5
}
