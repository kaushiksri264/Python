{
 "cells": [
  {
   "cell_type": "markdown",
   "id": "7269557e",
   "metadata": {},
   "source": [
    "#### Magic Method - It is also known as dunder method (double uder score methods), are special methods that start and end with double underscores.These methods enabled you to define the behaviour of objects for built-in operations, such as arthematic operations, comparision and more."
   ]
  },
  {
   "cell_type": "markdown",
   "id": "c54a68bc",
   "metadata": {},
   "source": [
    "#### Magic Methods: \n",
    "Magic Methods are pre-defined methods in python that ypu can ovveride to change the behaviour of your objects.\n",
    "- __init__ : Initialize new instance of a class\n",
    "- __str__ : return the string representation of the object\n",
    "- __repr__ : returns an official string representation of the object\n",
    "- __len__ : return the length of an object\n",
    "- __getitem:__ : gets an item from a container\n",
    "- __setitem__: sets an item from a container"
   ]
  },
  {
   "cell_type": "code",
   "execution_count": null,
   "id": "0850ebc6",
   "metadata": {},
   "outputs": [],
   "source": [
    "class Person:\n",
    "    def __init__(self,name, age):\n",
    "        self.name = name\n",
    "        self.age = age\n",
    "    \n",
    "    def __str__(self):\n",
    "       return f\"{self.name},{self.age} years old\"\n",
    "\n",
    "    def __repr__(self):\n",
    "        return f\"Person(name = {self.name}, age = {self.age})\"\n",
    "\n",
    "person = Person(\"kaushik\",26)\n",
    "print(person)\n",
    "print(repr(person))\n",
    "#print(person.age)\n"
   ]
  },
  {
   "cell_type": "markdown",
   "id": "eb9b778f",
   "metadata": {},
   "source": [
    "#### Operator Overloading allows you to define the behaviour of Operators(+,-,*, etc). of custom objects. \n",
    "you can achieve this by overriding specific magic methods in class\n",
    "- __add__(self,other) : adds two objects using + operator.\n",
    "- __sub__(self,other) : subtracts two objects using - operator.\n",
    "- __mul__(self,other) : multiply two objects using * operator.\n",
    "- __truediv__(self, other) : Divides two objects using / operator.\n",
    "- __eq__ : Checks two objects are equals using == operator\n",
    "- __lt__ : checks if one object is less than another  using < operator"
   ]
  },
  {
   "cell_type": "code",
   "execution_count": 21,
   "id": "e1f5c961",
   "metadata": {},
   "outputs": [
    {
     "name": "stdout",
     "output_type": "stream",
     "text": [
      "Vector(0,0)\n"
     ]
    }
   ],
   "source": [
    "class Vector:\n",
    "    def __init__(self,x,y):\n",
    "        self.x = x\n",
    "        self.y = y\n",
    "    \n",
    "    def __add__(self,other):\n",
    "        return Vector(self.x + other.x, self.y + other.y)\n",
    "\n",
    "    def __sub__(self,other):\n",
    "        return Vector(self.x - other.x, self.y - other.y)\n",
    "    \n",
    "    def __mul__(self,other):\n",
    "        return Vector(self.x * other.x, self.y * other.y)\n",
    "\n",
    "    def __truediv__(self,other):\n",
    "        return Vector(self.x / other.x, self.y / other.y)\n",
    "\n",
    "    def __eq__(self,other):\n",
    "        return Vector(self.x == other.x, self.y == other.y)\n",
    "\n",
    "    def __repr__(self):\n",
    "        return f\"Vector({self.x},{self.y})\"\n",
    "\n",
    "vec1 = Vector(2,3)\n",
    "vec2 = Vector(2,3)\n",
    "vec3 = vec1 - vec2\n",
    "print(repr(vec3))"
   ]
  },
  {
   "cell_type": "code",
   "execution_count": null,
   "id": "6033cc1d",
   "metadata": {},
   "outputs": [],
   "source": []
  }
 ],
 "metadata": {
  "kernelspec": {
   "display_name": "Python 3",
   "language": "python",
   "name": "python3"
  },
  "language_info": {
   "codemirror_mode": {
    "name": "ipython",
    "version": 3
   },
   "file_extension": ".py",
   "mimetype": "text/x-python",
   "name": "python",
   "nbconvert_exporter": "python",
   "pygments_lexer": "ipython3",
   "version": "3.12.11"
  }
 },
 "nbformat": 4,
 "nbformat_minor": 5
}
