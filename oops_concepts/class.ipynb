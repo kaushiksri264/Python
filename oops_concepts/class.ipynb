{
 "cells": [
  {
   "cell_type": "code",
   "execution_count": 2,
   "id": "768b3ca4",
   "metadata": {},
   "outputs": [
    {
     "name": "stdout",
     "output_type": "stream",
     "text": [
      "<__main__.Car object at 0x111ca67e0>\n",
      "<__main__.Car object at 0x111ca6b40>\n"
     ]
    }
   ],
   "source": [
    "#Class is a blue print creating for the object\n",
    "class Car:\n",
    "    pass\n",
    "\n",
    "audi = Car()\n",
    "bmw = Car() \n",
    "\n",
    "print(audi)\n",
    "print(bmw)"
   ]
  },
  {
   "cell_type": "code",
   "execution_count": 10,
   "id": "586310e5",
   "metadata": {},
   "outputs": [
    {
     "name": "stdout",
     "output_type": "stream",
     "text": [
      "<__main__.Dog object at 0x111e65f70>\n",
      "Buddy\n",
      "3\n"
     ]
    }
   ],
   "source": [
    "##Instable Variable and methods\n",
    "class Dog:\n",
    "    #Constructor \n",
    "    def __init__(self,name,age):# Is used to access the instance variable of class\n",
    "        self.name = name\n",
    "        self.age = age\n",
    "#creating objects\n",
    "dog1 =Dog(\"Buddy\",3)\n",
    "print(dog1)\n",
    "print(dog1.name)\n",
    "print(dog1.age)"
   ]
  },
  {
   "cell_type": "code",
   "execution_count": 14,
   "id": "6fec9acc",
   "metadata": {},
   "outputs": [
    {
     "name": "stdout",
     "output_type": "stream",
     "text": [
      "Bruce says woof\n"
     ]
    }
   ],
   "source": [
    "##Class defined with instance methods\n",
    "class Dog:\n",
    "    def __init__(self,name,age):\n",
    "        self.name=name\n",
    "        self.age=age\n",
    "\n",
    "    def bark(self):\n",
    "        print(f\"{self.name} says woof\")\n",
    "\n",
    "dog1 = Dog(\"Bruce\",2)\n",
    "dog1.bark()"
   ]
  },
  {
   "cell_type": "code",
   "execution_count": 19,
   "id": "aa2ecbfe",
   "metadata": {},
   "outputs": [
    {
     "name": "stdout",
     "output_type": "stream",
     "text": [
      "5000\n",
      "2000 is deposited. New Balance is 7000\n",
      "1000 is withdrawn. New Balance is 6000\n"
     ]
    }
   ],
   "source": [
    "#Banking\n",
    "class BankAccount:\n",
    "    #Constructor\n",
    "    def __init__(self,user,balance=0):\n",
    "        self.user = user\n",
    "        self.balance = balance\n",
    "    #Method where amount is depsoited to account\n",
    "    def deposite(self,amount):\n",
    "        self.balance += amount\n",
    "        print(f\"{amount} is deposited. New Balance is {self.balance}\")\n",
    "    \n",
    "    def withdraw(self,amount):\n",
    "        if amount > self.balance:\n",
    "            print(f\"Insufficient funds: {amount} > {self.balance}\")\n",
    "        else:\n",
    "            self.balance -= amount\n",
    "            print(f\"{amount} is withdrawn. New Balance is {self.balance}\")\n",
    "\n",
    "    def get_Balance(self):\n",
    "        return self.balance\n",
    "#Create Object\n",
    "account = BankAccount(\"Kaushik\",5000)\n",
    "print(account.balance)\n",
    "account.deposite(2000)\n",
    "#account.withdraw(10000)\n",
    "account.withdraw(1000)\n"
   ]
  },
  {
   "cell_type": "code",
   "execution_count": null,
   "id": "6f97d2b6",
   "metadata": {},
   "outputs": [],
   "source": []
  },
  {
   "cell_type": "code",
   "execution_count": null,
   "id": "cf8dde80",
   "metadata": {},
   "outputs": [],
   "source": []
  },
  {
   "cell_type": "code",
   "execution_count": null,
   "id": "cc4b7648",
   "metadata": {},
   "outputs": [],
   "source": []
  },
  {
   "cell_type": "code",
   "execution_count": null,
   "id": "657fe194",
   "metadata": {},
   "outputs": [],
   "source": []
  },
  {
   "cell_type": "code",
   "execution_count": null,
   "id": "c0bd1b5c",
   "metadata": {},
   "outputs": [],
   "source": []
  },
  {
   "cell_type": "code",
   "execution_count": null,
   "id": "c3e82192",
   "metadata": {},
   "outputs": [],
   "source": []
  },
  {
   "cell_type": "code",
   "execution_count": null,
   "id": "986fa720",
   "metadata": {},
   "outputs": [],
   "source": []
  },
  {
   "cell_type": "code",
   "execution_count": null,
   "id": "8b9a3a9a",
   "metadata": {},
   "outputs": [],
   "source": []
  },
  {
   "cell_type": "code",
   "execution_count": null,
   "id": "e12f3a27",
   "metadata": {},
   "outputs": [],
   "source": []
  },
  {
   "cell_type": "code",
   "execution_count": null,
   "id": "35f8cc62",
   "metadata": {},
   "outputs": [],
   "source": []
  },
  {
   "cell_type": "code",
   "execution_count": null,
   "id": "573369f6",
   "metadata": {},
   "outputs": [],
   "source": []
  }
 ],
 "metadata": {
  "kernelspec": {
   "display_name": "Python 3",
   "language": "python",
   "name": "python3"
  },
  "language_info": {
   "codemirror_mode": {
    "name": "ipython",
    "version": 3
   },
   "file_extension": ".py",
   "mimetype": "text/x-python",
   "name": "python",
   "nbconvert_exporter": "python",
   "pygments_lexer": "ipython3",
   "version": "3.12.11"
  }
 },
 "nbformat": 4,
 "nbformat_minor": 5
}
