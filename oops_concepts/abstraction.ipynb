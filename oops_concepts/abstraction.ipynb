{
 "cells": [
  {
   "cell_type": "markdown",
   "id": "94493ec0",
   "metadata": {},
   "source": [
    "#### Abstraction is the concept of hiding the complex implementation details and showing only the necessary feature of an object. This reduces programming complexity and effort. "
   ]
  },
  {
   "cell_type": "markdown",
   "id": "416f1a6e",
   "metadata": {},
   "source": [
    " "
   ]
  }
 ],
 "metadata": {
  "kernelspec": {
   "display_name": "Python 3",
   "language": "python",
   "name": "python3"
  },
  "language_info": {
   "name": "python",
   "version": "3.12.11"
  }
 },
 "nbformat": 4,
 "nbformat_minor": 5
}
