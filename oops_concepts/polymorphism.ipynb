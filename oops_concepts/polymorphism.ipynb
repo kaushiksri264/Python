{
 "cells": [
  {
   "cell_type": "markdown",
   "id": "a684addb",
   "metadata": {},
   "source": [
    "#### Polymorphism - It is the concept in Object-Oriented programming where the objects in different classes are to be treated as the objects of the super class. It provide ways to perform a single task in many form. Achieved through overriding and interfaces."
   ]
  },
  {
   "cell_type": "markdown",
   "id": "2424601f",
   "metadata": {},
   "source": [
    "#### method Overriding allows a child class to provide a specific implementation of a method that is already defined in the parent class"
   ]
  },
  {
   "cell_type": "code",
   "execution_count": 5,
   "id": "2c4474be",
   "metadata": {},
   "outputs": [
    {
     "name": "stdout",
     "output_type": "stream",
     "text": [
      "Dogs say woof woof!\n",
      "Cats say meow meow!\n",
      "Dogs say woof woof!\n",
      "None\n"
     ]
    }
   ],
   "source": [
    "#Base class\n",
    "class Animal:\n",
    "    def speak():\n",
    "        print(\"Animal Speaks!\")\n",
    "\n",
    "#Derived class-1\n",
    "class Dog(Animal):\n",
    "    def speak(self):\n",
    "        print(\"Dogs say woof woof!\")\n",
    "\n",
    "#Derived class-2\n",
    "class Cat(Animal):\n",
    "    def speak(self):\n",
    "        print(\"Cats say meow meow!\")\n",
    "#Function to demonstrate polymorphism\n",
    "def animal_speak(animal):\n",
    "    print(animal.speak())\n",
    "\n",
    "dog = Dog()\n",
    "cat = Cat()\n",
    "\n",
    "dog.speak()\n",
    "cat.speak()\n",
    "animal_speak(dog)"
   ]
  },
  {
   "cell_type": "code",
   "execution_count": 21,
   "id": "5d3ec81e",
   "metadata": {},
   "outputs": [
    {
     "name": "stdout",
     "output_type": "stream",
     "text": [
      "20\n",
      "28\n"
     ]
    },
    {
     "data": {
      "text/plain": [
       "'The area is 20'"
      ]
     },
     "execution_count": 21,
     "metadata": {},
     "output_type": "execute_result"
    }
   ],
   "source": [
    "import math\n",
    "class Shape:\n",
    "    def __area__(self):\n",
    "        print(\"Area of the figure\")\n",
    "\n",
    "class Rectangle(Shape):\n",
    "    def __init__(self,width,height):\n",
    "        self.width = width\n",
    "        self.height = height\n",
    "    \n",
    "    def area(self):\n",
    "        return self.width * self.height\n",
    "    \n",
    "class Circle(Shape):\n",
    "    def __init__(self,radius):\n",
    "        self.radius = radius\n",
    "    \n",
    "    def area(self):\n",
    "        return int(math.pi * self.radius * self.radius)\n",
    "\n",
    "\n",
    "def area_shape(shape):\n",
    "    return f\"The area is {shape.area()}\"\n",
    "\n",
    "rectangle = Rectangle(4,5)\n",
    "print(rectangle.area())\n",
    "\n",
    "circle = Circle(3)\n",
    "print(circle.area())\n",
    "\n",
    "area_shape(rectangle)"
   ]
  },
  {
   "cell_type": "code",
   "execution_count": null,
   "id": "292324f8",
   "metadata": {},
   "outputs": [],
   "source": [
    "##Polymorphism - Abstract Base Class (ABCs)\n",
    "#Abstract Base Class is used to create common methods for a group of related objects.\n",
    "#They can enforce derived class to implement a paticular method, promoting consistency accross or different implementations     "
   ]
  },
  {
   "cell_type": "code",
   "execution_count": 30,
   "id": "72d317ba",
   "metadata": {},
   "outputs": [
    {
     "name": "stdout",
     "output_type": "stream",
     "text": [
      "Car Engine is started.\n",
      "MotorBike engine is started.\n",
      "Car Engine is started.\n"
     ]
    }
   ],
   "source": [
    "from abc import ABC,abstractmethod\n",
    "class Vehicle(ABC):\n",
    "    @abstractmethod\n",
    "    def start_engine():\n",
    "        pass\n",
    "\n",
    "class Car(Vehicle):\n",
    "    def start_engine(self):\n",
    "        print(\"Car Engine is started.\")\n",
    "\n",
    "\n",
    "class MotorBike(Vehicle):\n",
    "    def start_engine(self):\n",
    "        print(\"MotorBike engine is started.\")\n",
    "\n",
    "\n",
    "def engine_start(vehicle):\n",
    "    return vehicle.start_engine()\n",
    "    \n",
    "car = Car()\n",
    "car.start_engine()\n",
    "\n",
    "bike = MotorBike()\n",
    "bike.start_engine()\n",
    "\n",
    "\n",
    "engine_start(car)"
   ]
  },
  {
   "cell_type": "code",
   "execution_count": null,
   "id": "9e513372",
   "metadata": {},
   "outputs": [],
   "source": []
  },
  {
   "cell_type": "code",
   "execution_count": null,
   "id": "37fecc58",
   "metadata": {},
   "outputs": [],
   "source": []
  },
  {
   "cell_type": "code",
   "execution_count": null,
   "id": "2a0db72f",
   "metadata": {},
   "outputs": [],
   "source": []
  },
  {
   "cell_type": "code",
   "execution_count": null,
   "id": "12665c96",
   "metadata": {},
   "outputs": [],
   "source": []
  },
  {
   "cell_type": "code",
   "execution_count": null,
   "id": "998ba505",
   "metadata": {},
   "outputs": [],
   "source": []
  },
  {
   "cell_type": "code",
   "execution_count": null,
   "id": "1123bc15",
   "metadata": {},
   "outputs": [],
   "source": []
  },
  {
   "cell_type": "code",
   "execution_count": null,
   "id": "2565e812",
   "metadata": {},
   "outputs": [],
   "source": []
  },
  {
   "cell_type": "code",
   "execution_count": null,
   "id": "1582b757",
   "metadata": {},
   "outputs": [],
   "source": []
  },
  {
   "cell_type": "code",
   "execution_count": null,
   "id": "b88d2a29",
   "metadata": {},
   "outputs": [],
   "source": []
  },
  {
   "cell_type": "code",
   "execution_count": null,
   "id": "4594c522",
   "metadata": {},
   "outputs": [],
   "source": []
  },
  {
   "cell_type": "code",
   "execution_count": null,
   "id": "3a2c3680",
   "metadata": {},
   "outputs": [],
   "source": []
  },
  {
   "cell_type": "code",
   "execution_count": null,
   "id": "32ab2b30",
   "metadata": {},
   "outputs": [],
   "source": []
  },
  {
   "cell_type": "code",
   "execution_count": null,
   "id": "7a7d2035",
   "metadata": {},
   "outputs": [],
   "source": []
  },
  {
   "cell_type": "code",
   "execution_count": null,
   "id": "f6c1a768",
   "metadata": {},
   "outputs": [],
   "source": []
  },
  {
   "cell_type": "code",
   "execution_count": null,
   "id": "18cdb7dd",
   "metadata": {},
   "outputs": [],
   "source": []
  },
  {
   "cell_type": "code",
   "execution_count": null,
   "id": "9593609d",
   "metadata": {},
   "outputs": [],
   "source": []
  },
  {
   "cell_type": "markdown",
   "id": "f8ba6ea7",
   "metadata": {},
   "source": []
  }
 ],
 "metadata": {
  "kernelspec": {
   "display_name": "Python 3",
   "language": "python",
   "name": "python3"
  },
  "language_info": {
   "codemirror_mode": {
    "name": "ipython",
    "version": 3
   },
   "file_extension": ".py",
   "mimetype": "text/x-python",
   "name": "python",
   "nbconvert_exporter": "python",
   "pygments_lexer": "ipython3",
   "version": "3.12.11"
  }
 },
 "nbformat": 4,
 "nbformat_minor": 5
}
