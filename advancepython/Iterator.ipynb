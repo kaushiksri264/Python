{
 "cells": [
  {
   "cell_type": "markdown",
   "id": "86baaef6",
   "metadata": {},
   "source": [
    "#### Iterators are advanced python concept that allowed for advanced looping and memory management. \n",
    "With Iterators you can access colletions sequentially with exposing the underlying structure "
   ]
  },
  {
   "cell_type": "code",
   "execution_count": 1,
   "id": "7b94de0f",
   "metadata": {},
   "outputs": [],
   "source": [
    "my_list = [1,2,3,4,5,6]"
   ]
  },
  {
   "cell_type": "code",
   "execution_count": 20,
   "id": "cdfc4681",
   "metadata": {},
   "outputs": [
    {
     "name": "stdout",
     "output_type": "stream",
     "text": [
      "<list_iterator object at 0x1130114b0>\n"
     ]
    }
   ],
   "source": [
    "iterator = iter(my_list)\n",
    "print(iterator)"
   ]
  },
  {
   "cell_type": "code",
   "execution_count": 19,
   "id": "ed864ea1",
   "metadata": {},
   "outputs": [
    {
     "ename": "StopIteration",
     "evalue": "",
     "output_type": "error",
     "traceback": [
      "\u001b[31m---------------------------------------------------------------------------\u001b[39m",
      "\u001b[31mStopIteration\u001b[39m                             Traceback (most recent call last)",
      "\u001b[36mCell\u001b[39m\u001b[36m \u001b[39m\u001b[32mIn[19]\u001b[39m\u001b[32m, line 1\u001b[39m\n\u001b[32m----> \u001b[39m\u001b[32m1\u001b[39m \u001b[38;5;28;43mnext\u001b[39;49m\u001b[43m(\u001b[49m\u001b[43miterator\u001b[49m\u001b[43m)\u001b[49m\n",
      "\u001b[31mStopIteration\u001b[39m: "
     ]
    }
   ],
   "source": [
    "next(iterator)"
   ]
  },
  {
   "cell_type": "code",
   "execution_count": 29,
   "id": "16bda46e",
   "metadata": {},
   "outputs": [
    {
     "name": "stdout",
     "output_type": "stream",
     "text": [
      "Stop Iteration there are no elements in the list\n"
     ]
    }
   ],
   "source": [
    "try:\n",
    "    next(iterator)\n",
    "except StopIteration:\n",
    "    print(\"Stop Iteration there are no elements in the list\")"
   ]
  }
 ],
 "metadata": {
  "kernelspec": {
   "display_name": "Python 3",
   "language": "python",
   "name": "python3"
  },
  "language_info": {
   "codemirror_mode": {
    "name": "ipython",
    "version": 3
   },
   "file_extension": ".py",
   "mimetype": "text/x-python",
   "name": "python",
   "nbconvert_exporter": "python",
   "pygments_lexer": "ipython3",
   "version": "3.12.11"
  }
 },
 "nbformat": 4,
 "nbformat_minor": 5
}
