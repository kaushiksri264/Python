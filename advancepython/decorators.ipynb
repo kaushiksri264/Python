{
 "cells": [
  {
   "cell_type": "markdown",
   "id": "585b206a",
   "metadata": {},
   "source": [
    "#### Decoraters - In python is allows to modify the behaviour of a function or class method. They are commonly used to add functionality or methods without modifying the actual code. "
   ]
  },
  {
   "cell_type": "code",
   "execution_count": 11,
   "id": "bcbd7137",
   "metadata": {},
   "outputs": [
    {
     "name": "stdout",
     "output_type": "stream",
     "text": [
      "Hi, Welcome to Python Course!\n"
     ]
    }
   ],
   "source": [
    "##Function Copy\n",
    "def welcome():\n",
    "    print(\"Hi, Welcome to Python Course!\")\n",
    "\n",
    "welcome()"
   ]
  },
  {
   "cell_type": "code",
   "execution_count": 12,
   "id": "f908dfaa",
   "metadata": {},
   "outputs": [
    {
     "name": "stdout",
     "output_type": "stream",
     "text": [
      "Hi, Welcome to Python Course!\n",
      "Hi, Welcome to Python Course!\n"
     ]
    }
   ],
   "source": [
    "wel = welcome\n",
    "wel()\n",
    "del welcome\n",
    "wel()\n"
   ]
  },
  {
   "cell_type": "code",
   "execution_count": 15,
   "id": "94e41feb",
   "metadata": {},
   "outputs": [
    {
     "name": "stdout",
     "output_type": "stream",
     "text": [
      "Wecome to python course!\n",
      "Closures Method is the current topic.\n"
     ]
    }
   ],
   "source": [
    "##Closure - In closure methods takes local variable outside the sub methods as well\n",
    "def welcome_course():\n",
    "    msg = \"Welcome\"\n",
    "    def sub_welcome_course():\n",
    "        print(\"Wecome to python course!\")\n",
    "        print(\"Closures Method is the current topic.\")\n",
    "    return sub_welcome_course()\n",
    "\n",
    "welcome_course()"
   ]
  },
  {
   "cell_type": "code",
   "execution_count": 16,
   "id": "a0099cb5",
   "metadata": {},
   "outputs": [
    {
     "name": "stdout",
     "output_type": "stream",
     "text": [
      "Wecome to python course!\n",
      "Welcome\n",
      "Closures Method is the current topic.\n"
     ]
    }
   ],
   "source": [
    "def welcome_course():\n",
    "    msg = \"Welcome\"\n",
    "    def sub_welcome_course():\n",
    "        print(\"Wecome to python course!\")\n",
    "        print(msg)\n",
    "        print(\"Closures Method is the current topic.\")\n",
    "    return sub_welcome_course()\n",
    "\n",
    "welcome_course()"
   ]
  },
  {
   "cell_type": "code",
   "execution_count": 17,
   "id": "fca8195b",
   "metadata": {},
   "outputs": [
    {
     "name": "stdout",
     "output_type": "stream",
     "text": [
      "Wecome to python course!\n",
      "You hand Hands-on the following topic\n",
      "Closures Method is the current topic.\n"
     ]
    }
   ],
   "source": [
    "def welcome_course(msg):\n",
    "    def sub_welcome_course():\n",
    "        print(\"Wecome to python course!\")\n",
    "        print(msg)\n",
    "        print(\"Closures Method is the current topic.\")\n",
    "    return sub_welcome_course()\n",
    "\n",
    "welcome_course(\"You hand Hands-on the following topic\")"
   ]
  },
  {
   "cell_type": "code",
   "execution_count": 23,
   "id": "574ab68c",
   "metadata": {},
   "outputs": [
    {
     "name": "stdout",
     "output_type": "stream",
     "text": [
      "Wecome to python course!\n",
      "\n",
      "Closures Method is the current topic.\n"
     ]
    }
   ],
   "source": [
    "def welcome_course(func):\n",
    "    msg = \"Welcome\"\n",
    "    def sub_welcome_course():\n",
    "        print(\"Wecome to python course!\")\n",
    "        func()\n",
    "        print(\"Closures Method is the current topic.\")\n",
    "    return sub_welcome_course()\n",
    "\n",
    "welcome_course(print)"
   ]
  },
  {
   "cell_type": "code",
   "execution_count": 27,
   "id": "43de43e5",
   "metadata": {},
   "outputs": [
    {
     "name": "stdout",
     "output_type": "stream",
     "text": [
      "Wecome to python course!\n",
      "7\n",
      "Closures Method is the current topic.\n"
     ]
    }
   ],
   "source": [
    "def welcome_course(func,lst):\n",
    "    msg = \"Welcome\"\n",
    "    def sub_welcome_course():\n",
    "        print(\"Wecome to python course!\")\n",
    "        print(func(lst))\n",
    "        print(\"Closures Method is the current topic.\")\n",
    "    return sub_welcome_course()\n",
    "\n",
    "welcome_course(len,[1,2,3,4,5,5,6])"
   ]
  },
  {
   "cell_type": "code",
   "execution_count": 33,
   "id": "9bde8bf6",
   "metadata": {},
   "outputs": [
    {
     "ename": "TypeError",
     "evalue": "main_welcome() missing 1 required positional argument: 'func'",
     "output_type": "error",
     "traceback": [
      "\u001b[31m---------------------------------------------------------------------------\u001b[39m",
      "\u001b[31mTypeError\u001b[39m                                 Traceback (most recent call last)",
      "\u001b[36mCell\u001b[39m\u001b[36m \u001b[39m\u001b[32mIn[33]\u001b[39m\u001b[32m, line 9\u001b[39m\n\u001b[32m      6\u001b[39m         \u001b[38;5;28mprint\u001b[39m(\u001b[33m\"\u001b[39m\u001b[33mLearn decorators!\u001b[39m\u001b[33m\"\u001b[39m)\n\u001b[32m      7\u001b[39m     \u001b[38;5;28;01mreturn\u001b[39;00m sub_welcome()\n\u001b[32m----> \u001b[39m\u001b[32m9\u001b[39m \u001b[43mmain_welcome\u001b[49m\u001b[43m(\u001b[49m\u001b[43m)\u001b[49m\n",
      "\u001b[31mTypeError\u001b[39m: main_welcome() missing 1 required positional argument: 'func'"
     ]
    }
   ],
   "source": [
    "##Decorator\n",
    "def main_welcome(func):\n",
    "    def sub_welcome():\n",
    "        print(\"Welcome, tp python course!\")\n",
    "        func()\n",
    "        print(\"Learn decorators!\")\n",
    "    return sub_welcome()\n",
    "\n",
    "main_welcome()"
   ]
  },
  {
   "cell_type": "code",
   "execution_count": 34,
   "id": "4469ee8a",
   "metadata": {},
   "outputs": [],
   "source": [
    "def course_introduction():\n",
    "    print(\"This is a advance python course!\")\n"
   ]
  },
  {
   "cell_type": "code",
   "execution_count": null,
   "id": "d45f2ebe",
   "metadata": {},
   "outputs": [
    {
     "name": "stdout",
     "output_type": "stream",
     "text": [
      "Welcome, tp python course!\n",
      "This is a advance python course!\n",
      "Learn decorators!\n"
     ]
    }
   ],
   "source": [
    "main_welcome(course_introduction)   "
   ]
  },
  {
   "cell_type": "code",
   "execution_count": 37,
   "id": "8295b342",
   "metadata": {},
   "outputs": [
    {
     "name": "stdout",
     "output_type": "stream",
     "text": [
      "Welcome, tp python course!\n",
      "This is an advance python course!\n",
      "Learn decorators!\n"
     ]
    }
   ],
   "source": [
    "@main_welcome\n",
    "def course_introducton():\n",
    "    print(\"This is an advance python course!\")"
   ]
  },
  {
   "cell_type": "code",
   "execution_count": 47,
   "id": "f39e7e97",
   "metadata": {},
   "outputs": [],
   "source": [
    "def repeat(n):\n",
    "    def decorator(func):\n",
    "        def wrapper(*args,**kwargs):\n",
    "            for _ in range(n):\n",
    "                func(*args,**kwargs)\n",
    "        return wrapper\n",
    "    return decorator"
   ]
  },
  {
   "cell_type": "code",
   "execution_count": 48,
   "id": "a6625e47",
   "metadata": {},
   "outputs": [],
   "source": [
    "@repeat(3)\n",
    "def say_Hello():\n",
    "    print(\"Hi\")"
   ]
  },
  {
   "cell_type": "code",
   "execution_count": 49,
   "id": "de74a03e",
   "metadata": {},
   "outputs": [
    {
     "name": "stdout",
     "output_type": "stream",
     "text": [
      "Hi\n",
      "Hi\n",
      "Hi\n"
     ]
    }
   ],
   "source": [
    "say_Hello()"
   ]
  },
  {
   "cell_type": "markdown",
   "id": "cc7172b0",
   "metadata": {},
   "source": []
  }
 ],
 "metadata": {
  "kernelspec": {
   "display_name": "Python 3",
   "language": "python",
   "name": "python3"
  },
  "language_info": {
   "codemirror_mode": {
    "name": "ipython",
    "version": 3
   },
   "file_extension": ".py",
   "mimetype": "text/x-python",
   "name": "python",
   "nbconvert_exporter": "python",
   "pygments_lexer": "ipython3",
   "version": "3.12.11"
  }
 },
 "nbformat": 4,
 "nbformat_minor": 5
}
