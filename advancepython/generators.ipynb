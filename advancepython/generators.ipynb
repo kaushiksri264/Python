{
 "cells": [
  {
   "cell_type": "markdown",
   "id": "004381d1",
   "metadata": {},
   "source": [
    "#### Generators - Generators are simple way to create iterators. THey use the yield keyword to produce a value lazily,\n",
    "which means the generate values on fly and do not store in the memory.\n"
   ]
  },
  {
   "cell_type": "code",
   "execution_count": 8,
   "id": "22bac409",
   "metadata": {},
   "outputs": [],
   "source": [
    "def square(n):\n",
    "    for i in range(n):\n",
    "        yield i**2\n"
   ]
  },
  {
   "cell_type": "code",
   "execution_count": 9,
   "id": "aace56a2",
   "metadata": {},
   "outputs": [
    {
     "data": {
      "text/plain": [
       "<generator object square at 0x113a27920>"
      ]
     },
     "execution_count": 9,
     "metadata": {},
     "output_type": "execute_result"
    }
   ],
   "source": [
    "square(3)"
   ]
  },
  {
   "cell_type": "code",
   "execution_count": 10,
   "id": "5a467409",
   "metadata": {},
   "outputs": [
    {
     "name": "stdout",
     "output_type": "stream",
     "text": [
      "0\n",
      "1\n",
      "4\n"
     ]
    }
   ],
   "source": [
    "for i in square(3):\n",
    "    print(i)"
   ]
  },
  {
   "cell_type": "code",
   "execution_count": 13,
   "id": "1786630a",
   "metadata": {},
   "outputs": [
    {
     "name": "stdout",
     "output_type": "stream",
     "text": [
      "0\n",
      "1\n",
      "4\n"
     ]
    }
   ],
   "source": [
    "a = sqaure(3)\n",
    "a"
   ]
  },
  {
   "cell_type": "code",
   "execution_count": 14,
   "id": "5fd654c0",
   "metadata": {},
   "outputs": [
    {
     "ename": "TypeError",
     "evalue": "'NoneType' object is not an iterator",
     "output_type": "error",
     "traceback": [
      "\u001b[31m---------------------------------------------------------------------------\u001b[39m",
      "\u001b[31mTypeError\u001b[39m                                 Traceback (most recent call last)",
      "\u001b[36mCell\u001b[39m\u001b[36m \u001b[39m\u001b[32mIn[14]\u001b[39m\u001b[32m, line 1\u001b[39m\n\u001b[32m----> \u001b[39m\u001b[32m1\u001b[39m \u001b[38;5;28;43mnext\u001b[39;49m\u001b[43m(\u001b[49m\u001b[43ma\u001b[49m\u001b[43m)\u001b[49m\n",
      "\u001b[31mTypeError\u001b[39m: 'NoneType' object is not an iterator"
     ]
    }
   ],
   "source": [
    "next(a)"
   ]
  },
  {
   "cell_type": "code",
   "execution_count": 15,
   "id": "dca68f50",
   "metadata": {},
   "outputs": [],
   "source": [
    "def my_generator():\n",
    "    yield 1\n",
    "    yield 2\n",
    "    yield 3"
   ]
  },
  {
   "cell_type": "code",
   "execution_count": 23,
   "id": "e0b5db59",
   "metadata": {},
   "outputs": [
    {
     "data": {
      "text/plain": [
       "<generator object my_generator at 0x113b6e1f0>"
      ]
     },
     "execution_count": 23,
     "metadata": {},
     "output_type": "execute_result"
    }
   ],
   "source": [
    "gen = my_generator()\n",
    "gen"
   ]
  },
  {
   "cell_type": "code",
   "execution_count": 21,
   "id": "74b29beb",
   "metadata": {},
   "outputs": [
    {
     "ename": "StopIteration",
     "evalue": "",
     "output_type": "error",
     "traceback": [
      "\u001b[31m---------------------------------------------------------------------------\u001b[39m",
      "\u001b[31mStopIteration\u001b[39m                             Traceback (most recent call last)",
      "\u001b[36mCell\u001b[39m\u001b[36m \u001b[39m\u001b[32mIn[21]\u001b[39m\u001b[32m, line 1\u001b[39m\n\u001b[32m----> \u001b[39m\u001b[32m1\u001b[39m \u001b[38;5;28;43mnext\u001b[39;49m\u001b[43m(\u001b[49m\u001b[43mgen\u001b[49m\u001b[43m)\u001b[49m\n",
      "\u001b[31mStopIteration\u001b[39m: "
     ]
    }
   ],
   "source": [
    "next(gen)"
   ]
  },
  {
   "cell_type": "code",
   "execution_count": 24,
   "id": "360eb656",
   "metadata": {},
   "outputs": [
    {
     "name": "stdout",
     "output_type": "stream",
     "text": [
      "1\n",
      "2\n",
      "3\n"
     ]
    }
   ],
   "source": [
    "for val in gen:\n",
    "    print(val)"
   ]
  },
  {
   "cell_type": "markdown",
   "id": "92891097",
   "metadata": {},
   "source": [
    "#### Generators are particularly useful for reading large files because they allow you to process one line at a time without loading the entire file in memory "
   ]
  },
  {
   "cell_type": "code",
   "execution_count": 25,
   "id": "e1a5317d",
   "metadata": {},
   "outputs": [],
   "source": [
    "def read_file(file_name):\n",
    "    with open(file_name,'r')as file:\n",
    "        for line in file:\n",
    "            yield line"
   ]
  },
  {
   "cell_type": "code",
   "execution_count": 27,
   "id": "39fa249e",
   "metadata": {},
   "outputs": [
    {
     "name": "stdout",
     "output_type": "stream",
     "text": [
      "Artificial Intelligence (AI) is rapidly transforming various aspects of life, with applications ranging from healthcare to business and beyond. AI's ability to automate tasks, analyze data, and generate insights is driving innovation and efficiency across industries. While AI offers numerous benefits, it also presents ethical considerations and challenges that require careful attention.\n",
      "Key Aspects of AI:\n",
      "Versatility and Efficiency:\n",
      ".\n",
      "AI excels at automating tasks, enhancing productivity, and optimizing processes. For example, AI can analyze vast datasets to identify patterns and trends that humans might miss, leading to more informed decision-making.\n",
      "Innovation and Problem-Solving:\n",
      ".\n",
      "AI is a powerful tool for innovation, enabling researchers to tackle complex challenges in fields like medicine, climate science, and materials science.\n",
      "Ethical Considerations:\n",
      ".\n",
      "As AI becomes more sophisticated, it's crucial to address ethical concerns related to bias, fairness, privacy, and accountability.\n",
      "The Future of Work:\n",
      ".\n",
      "AI is transforming the job market, automating some tasks while creating new opportunities in fields like AI development, data science, and AI-related roles.\n",
      "Generative AI:\n",
      ".\n",
      "Generative AI models like ChatGPT are gaining prominence, enabling the creation of new content, including text, images, and code.\n",
      "Human-Centered AI:\n",
      ".\n",
      "A key trend is the development of human-centered AI approaches, which focus on integrating AI systems into existing workflows and addressing the needs of users.\n",
      "AI in Healthcare:\n",
      ".\n",
      "AI is revolutionizing healthcare, assisting with tasks like diagnosis, treatment planning, and drug discovery.\n",
      "Examples of AI in Action:\n",
      "Healthcare: AI-powered tools are being used to diagnose diseases, personalize treatment plans, and accelerate drug discovery.\n",
      "Business: AI is automating tasks, improving customer service, and optimizing supply chains.\n",
      "Education: AI is personalizing learning experiences and providing feedback to students.\n",
      "Transportation: AI is powering self-driving cars and optimizing traffic flow.\n",
      "Manufacturing: AI is improving efficiency and quality control in manufacturing processes.\n",
      "Challenges and Considerations:\n",
      "Bias and Fairness:\n",
      "AI systems can inherit biases from the data they are trained on, leading to unfair or discriminatory outcomes.\n",
      "Data Privacy and Security:\n",
      "AI systems rely on vast amounts of data, raising concerns about data privacy and security.\n",
      "Transparency and Explainability:\n"
     ]
    }
   ],
   "source": [
    "file_name = 'sample.txt'\n",
    "for line in read_file(file_name):\n",
    "    print(line.strip())"
   ]
  },
  {
   "cell_type": "markdown",
   "id": "2a53f8fe",
   "metadata": {},
   "source": []
  }
 ],
 "metadata": {
  "kernelspec": {
   "display_name": "Python 3",
   "language": "python",
   "name": "python3"
  },
  "language_info": {
   "codemirror_mode": {
    "name": "ipython",
    "version": 3
   },
   "file_extension": ".py",
   "mimetype": "text/x-python",
   "name": "python",
   "nbconvert_exporter": "python",
   "pygments_lexer": "ipython3",
   "version": "3.12.11"
  }
 },
 "nbformat": 4,
 "nbformat_minor": 5
}
