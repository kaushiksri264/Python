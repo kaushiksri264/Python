{
 "cells": [
  {
   "cell_type": "markdown",
   "id": "6211e2d1",
   "metadata": {},
   "source": [
    "#### Conditional Statements\n"
   ]
  },
  {
   "cell_type": "code",
   "execution_count": null,
   "id": "45a7ef0c",
   "metadata": {},
   "outputs": [
    {
     "name": "stdout",
     "output_type": "stream",
     "text": [
      "num is positive\n",
      "num is even\n"
     ]
    }
   ],
   "source": [
    "##Nested if statement\n",
    "num = int(input(\"Enter a number\"))\n",
    "\n",
    "if(num >= 0):\n",
    "    print(\"num is positive\")\n",
    "    if(num % 2 == 0):\n",
    "        print(\"num is even\")\n",
    "    else:\n",
    "        print(\"num is odd\")\n",
    "else:\n",
    "    print(\"num is negative\")"
   ]
  },
  {
   "cell_type": "code",
   "execution_count": 3,
   "metadata": {},
   "outputs": [
    {
     "name": "stdout",
     "output_type": "stream",
     "text": [
      "2024 is a leap year\n"
     ]
    }
   ],
   "source": [
    "##Practice Example\n",
    "year = int(input(\"enter a year\"))\n",
    "\n",
    "if(year % 4 == 0):\n",
    "    if(year%100 == 0):\n",
    "        if(year%400 == 0):\n",
    "            print(f\"{year} is a leap year\")\n",
    "        else:\n",
    "            print(f\"{year} is not a leap year\")\n",
    "    else:\n",
    "        print(f\"{year} is a leap year\")\n",
    "else:\n",
    "    print(f\"{year} is not a leap year\")"
   ]
  },
  {
   "cell_type": "code",
   "execution_count": 7,
   "id": "9fd925d9",
   "metadata": {},
   "outputs": [
    {
     "name": "stdout",
     "output_type": "stream",
     "text": [
      "Result: Error!, Division by Zero\n"
     ]
    }
   ],
   "source": [
    "## Simple calculator\n",
    "num1 = int(input(\"enter first number\"))\n",
    "num2 = int(input(\"enter second number\"))\n",
    "operations = input(\"Enter operations (+, -, *, /): \")\n",
    "\n",
    "if(operations == \"+\"):\n",
    "    result = num1 + num2\n",
    "elif(operations == \"-\"):\n",
    "    result = num1 - num2\n",
    "elif(operations == \"*\"):\n",
    "    result = num1 * num2\n",
    "elif(operations == \"/\"):\n",
    "    if(num2 != 0):\n",
    "        result = num1 / num2\n",
    "    else:\n",
    "        result = \"Error!, Division by Zero\"\n",
    "else:\n",
    "    result = \"Invalid Operation\"\n",
    "\n",
    "print(f\"Result: {result}\")"
   ]
  },
  {
   "cell_type": "code",
   "execution_count": 10,
   "id": "3500d89f",
   "metadata": {},
   "outputs": [
    {
     "name": "stdout",
     "output_type": "stream",
     "text": [
      "Price: $20\n"
     ]
    }
   ],
   "source": [
    "## Ticket Price based on age\n",
    "age = int(input(\"Enter age: \"))\n",
    "is_student = input(\"Are you a student? (yes/no): \").lower()\n",
    "\n",
    "if(age <= 5):\n",
    "    price = \"Free\"\n",
    "elif(age <= 12):\n",
    "    price = \"$10\"\n",
    "elif(age <= 17):\n",
    "    if(is_student == \"yes\"):\n",
    "        price = \"$12\"\n",
    "    else:\n",
    "        price = \"$15\"\n",
    "elif(age <= 65):\n",
    "    if(is_student == \"yes\"):\n",
    "        price = \"$20\"\n",
    "    else:\n",
    "        price = \"$25\"\n",
    "else:\n",
    "    price = \"$30\"\n",
    "\n",
    "print(f\"Price: {price}\")"
   ]
  },
  {
   "cell_type": "code",
   "execution_count": null,
   "id": "108937b0",
   "metadata": {},
   "outputs": [],
   "source": []
  },
  {
   "cell_type": "code",
   "execution_count": null,
   "id": "2ef27901",
   "metadata": {},
   "outputs": [],
   "source": []
  },
  {
   "cell_type": "code",
   "execution_count": null,
   "id": "f5b76523",
   "metadata": {},
   "outputs": [],
   "source": []
  },
  {
   "cell_type": "code",
   "execution_count": null,
   "id": "194ffa46",
   "metadata": {},
   "outputs": [],
   "source": []
  },
  {
   "cell_type": "code",
   "execution_count": null,
   "id": "0acc936d",
   "metadata": {},
   "outputs": [],
   "source": []
  }
 ],
 "metadata": {
  "kernelspec": {
   "display_name": "Python 3",
   "language": "python",
   "name": "python3"
  },
  "language_info": {
   "codemirror_mode": {
    "name": "ipython",
    "version": 3
   },
   "file_extension": ".py",
   "mimetype": "text/x-python",
   "name": "python",
   "nbconvert_exporter": "python",
   "pygments_lexer": "ipython3",
   "version": "3.12.11"
  }
 },
 "nbformat": 4,
 "nbformat_minor": 5
}
