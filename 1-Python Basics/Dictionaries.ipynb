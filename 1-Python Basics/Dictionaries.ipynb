{
 "cells": [
  {
   "cell_type": "markdown",
   "id": "836f03c9",
   "metadata": {},
   "source": [
    "#### Dictionaries - Dictionaries are unordered collection of items. They Store data in  key-value pairs. keys are unique and immutable, while values can be of anytime"
   ]
  },
  {
   "cell_type": "code",
   "execution_count": 1,
   "metadata": {},
   "outputs": [
    {
     "name": "stdout",
     "output_type": "stream",
     "text": [
      "{} <class 'dict'>\n"
     ]
    }
   ],
   "source": [
    "##Creatig dictionaries\n",
    "empty_dict = {}\n",
    "print(empty_dict,type(empty_dict))"
   ]
  },
  {
   "cell_type": "code",
   "execution_count": 2,
   "metadata": {},
   "outputs": [
    {
     "name": "stdout",
     "output_type": "stream",
     "text": [
      "{'name': 'Sam', 'age': 32, 'grade': 'A'}\n"
     ]
    }
   ],
   "source": [
    "student = {\n",
    "    \"name\" : \"Sam\",\n",
    "    \"age\" : 32,\n",
    "    \"grade\" : 'A'\n",
    "}\n",
    "print(student)"
   ]
  },
  {
   "cell_type": "code",
   "execution_count": 4,
   "metadata": {},
   "outputs": [
    {
     "name": "stdout",
     "output_type": "stream",
     "text": [
      "{'name': 32, 'grade': 'A'}\n"
     ]
    }
   ],
   "source": [
    "##Error\n",
    "student = {\n",
    "    \"name\" : \"Sam\",\n",
    "    \"name\" : 32,\n",
    "    \"grade\" : 'A'\n",
    "}\n",
    "print(student)"
   ]
  },
  {
   "cell_type": "code",
   "execution_count": 7,
   "metadata": {},
   "outputs": [
    {
     "name": "stdout",
     "output_type": "stream",
     "text": [
      "{'name': 'Sam', 'age': 32, 'grade': 'A'}\n",
      "A\n",
      "Sam\n",
      "Not Available\n"
     ]
    }
   ],
   "source": [
    "##Accessing Dictionary Elements\n",
    "student = {\n",
    "    \"name\" : \"Sam\",\n",
    "    \"age\" : 32,\n",
    "    \"grade\" : 'A'\n",
    "}\n",
    "print(student)\n",
    "\n",
    "print(student['grade'])\n",
    "\n",
    "##Accessing using get() method\n",
    "print(student.get('name'))\n",
    "print(student.get('last_name',\"Not Available\"))"
   ]
  },
  {
   "cell_type": "code",
   "execution_count": 10,
   "metadata": {},
   "outputs": [
    {
     "name": "stdout",
     "output_type": "stream",
     "text": [
      "{'name': 'Sam', 'age': 33, 'grade': 'A', 'address': 'NYC'}\n",
      "{'name': 'Sam', 'age': 33, 'grade': 'A', 'address': 'NYC'}\n",
      "{'name': 'Sam', 'age': 33, 'grade': 'A', 'address': 'NYC'}\n",
      "{'name': 'Sam', 'age': 33, 'address': 'NYC'}\n"
     ]
    }
   ],
   "source": [
    "## Modifying Dictionary Elements\n",
    "## Dictionary are mutable, so you can add, update or delete elements\n",
    "print(student) \n",
    "student[\"age\"] = 33 #Updated \n",
    "print(student)\n",
    "student[\"address\"] = \"NYC\"#add\n",
    "print(student)\n",
    "\n",
    "del student['grade'] # delete\n",
    "print(student)"
   ]
  },
  {
   "cell_type": "code",
   "execution_count": 12,
   "metadata": {},
   "outputs": [
    {
     "name": "stdout",
     "output_type": "stream",
     "text": [
      "dict_keys(['name', 'age', 'address'])\n",
      "dict_values(['Sam', 33, 'NYC'])\n",
      "dict_items([('name', 'Sam'), ('age', 33), ('address', 'NYC')])\n"
     ]
    }
   ],
   "source": [
    "##Dictionary Methods\n",
    "keys = student.keys()\n",
    "print(keys)\n",
    "\n",
    "values = student.values()\n",
    "print(values)\n",
    "\n",
    "items = student.items()\n",
    "print(items)"
   ]
  },
  {
   "cell_type": "code",
   "execution_count": null,
   "metadata": {},
   "outputs": [
    {
     "name": "stdout",
     "output_type": "stream",
     "text": [
      "{'name': 'Kaushik', 'age': 33, 'address': 'NYC'}\n",
      "{'name': 'Kaushik', 'age': 33, 'address': 'NYC'}\n",
      "{'name': 'Kaushik', 'age': 33, 'address': 'NYC'}\n",
      "{'name': 'Kaushik', 'age': 33, 'address': 'NYC'}\n",
      "{'name': 'Kaushik', 'age': 33, 'address': 'NYC'}\n",
      "{'name': 'Kaushik', 'age': 33, 'address': 'NYC'}\n"
     ]
    }
   ],
   "source": [
    "## Shallow Copy\n",
    "student_copy = student\n",
    "print(student)\n",
    "print(student_copy)\n",
    "\n",
    "student[\"name\"] = \"Kaushik\"\n",
    "print(student)\n",
    "print(student_copy)\n"
   ]
  },
  {
   "cell_type": "code",
   "execution_count": 18,
   "metadata": {},
   "outputs": [
    {
     "name": "stdout",
     "output_type": "stream",
     "text": [
      "{'name': 'Kaushik', 'age': 33, 'address': 'San Deigo'}\n",
      "{'name': 'Kaushik', 'age': 33, 'address': 'San Deigo'}\n",
      "{'name': 'Kaushik', 'age': 33, 'address': 'NYC'}\n",
      "{'name': 'Kaushik', 'age': 33, 'address': 'San Deigo'}\n"
     ]
    }
   ],
   "source": [
    "student_copy2 = student.copy()#Shallow copying\n",
    "print(student)\n",
    "print(student_copy2)\n",
    "\n",
    "student[\"address\"] = \"NYC\"\n",
    "print(student)\n",
    "print(student_copy2)"
   ]
  },
  {
   "cell_type": "code",
   "execution_count": 19,
   "metadata": {},
   "outputs": [
    {
     "name": "stdout",
     "output_type": "stream",
     "text": [
      "name\n",
      "age\n",
      "address\n"
     ]
    }
   ],
   "source": [
    "##Iteration\n",
    "\n",
    "##keys\n",
    "for key in student.keys():\n",
    "    print(key)"
   ]
  },
  {
   "cell_type": "code",
   "execution_count": 20,
   "metadata": {},
   "outputs": [
    {
     "name": "stdout",
     "output_type": "stream",
     "text": [
      "Kaushik\n",
      "33\n",
      "NYC\n"
     ]
    }
   ],
   "source": [
    "##Values\n",
    "for val in student.values():\n",
    "    print(val)"
   ]
  },
  {
   "cell_type": "code",
   "execution_count": 22,
   "metadata": {},
   "outputs": [
    {
     "name": "stdout",
     "output_type": "stream",
     "text": [
      "('name', 'Kaushik')\n",
      "('age', 33)\n",
      "('address', 'NYC')\n",
      "name:Kaushik\n",
      "age:33\n",
      "address:NYC\n"
     ]
    }
   ],
   "source": [
    "##Items\n",
    "for itm in student.items():\n",
    "    print(itm)\n",
    "\n",
    "for key,value in student.items():\n",
    "    print(f\"{key}:{value}\")"
   ]
  },
  {
   "cell_type": "code",
   "execution_count": 23,
   "metadata": {},
   "outputs": [
    {
     "name": "stdout",
     "output_type": "stream",
     "text": [
      "{'student1': {'name': 'sam', 'age': 25, 'grade': 'A+'}, 'student2': {'name': 'john', 'age': 24, 'grade': 'A'}}\n"
     ]
    }
   ],
   "source": [
    "##Nested Dictionaries\n",
    "students = {\n",
    "    \"student1\" : {\n",
    "        \"name\" : \"sam\",\n",
    "        \"age\" : 25,\n",
    "        \"grade\" : 'A+'\n",
    "    },\n",
    "    \"student2\" : {\n",
    "        \"name\": \"john\",\n",
    "        \"age\" : 24,\n",
    "        \"grade\" : \"A\"\n",
    "    }\n",
    "}\n",
    "print(students)"
   ]
  },
  {
   "cell_type": "code",
   "execution_count": 26,
   "metadata": {},
   "outputs": [
    {
     "name": "stdout",
     "output_type": "stream",
     "text": [
      "A\n",
      "sam\n"
     ]
    }
   ],
   "source": [
    "##Access nested dictionaries\n",
    "print(students[\"student2\"][\"grade\"])\n",
    "print(students[\"student1\"][\"name\"])"
   ]
  },
  {
   "cell_type": "code",
   "execution_count": 27,
   "id": "b8cbacc5",
   "metadata": {},
   "outputs": [
    {
     "data": {
      "text/plain": [
       "dict_items([('student1', {'name': 'sam', 'age': 25, 'grade': 'A+'}), ('student2', {'name': 'john', 'age': 24, 'grade': 'A'})])"
      ]
     },
     "execution_count": 27,
     "metadata": {},
     "output_type": "execute_result"
    }
   ],
   "source": [
    "students.items()"
   ]
  },
  {
   "cell_type": "code",
   "execution_count": 28,
   "metadata": {},
   "outputs": [
    {
     "name": "stdout",
     "output_type": "stream",
     "text": [
      "student1:{'name': 'sam', 'age': 25, 'grade': 'A+'}\n",
      "name:sam\n",
      "age:25\n",
      "grade:A+\n",
      "student2:{'name': 'john', 'age': 24, 'grade': 'A'}\n",
      "name:john\n",
      "age:24\n",
      "grade:A\n"
     ]
    }
   ],
   "source": [
    "##Iteration over nested dictionaries\n",
    "for student_id, student_info in students.items():\n",
    "    print(f\"{student_id}:{student_info}\")\n",
    "    for key,value in student_info.items():\n",
    "        print(f\"{key}:{value}\")\n",
    "\n"
   ]
  },
  {
   "cell_type": "code",
   "execution_count": 29,
   "id": "c0c78868",
   "metadata": {},
   "outputs": [
    {
     "name": "stdout",
     "output_type": "stream",
     "text": [
      "{0: 0, 1: 1, 2: 4, 3: 9, 4: 16}\n"
     ]
    }
   ],
   "source": [
    "##Dictionary Comprehension\n",
    "sqaure = {x : x**2 for x in range(5)}\n",
    "print(sqaure)"
   ]
  },
  {
   "cell_type": "code",
   "execution_count": 30,
   "id": "54e8eb9d",
   "metadata": {},
   "outputs": [
    {
     "name": "stdout",
     "output_type": "stream",
     "text": [
      "{0: 0, 2: 4, 4: 16, 6: 36, 8: 64}\n"
     ]
    }
   ],
   "source": [
    "##Conditional dictionary comprehension\n",
    "evens = {x: x**2 for x in range(10) if x%2 == 0}\n",
    "print(evens)\n"
   ]
  },
  {
   "cell_type": "code",
   "execution_count": 47,
   "metadata": {},
   "outputs": [
    {
     "name": "stdout",
     "output_type": "stream",
     "text": [
      "{1: 1, 2: 2, 3: 3, 4: 2, 5: 1}\n"
     ]
    }
   ],
   "source": [
    "##Practice Examples\n",
    "numbers = [1,2,2,3,3,3,4,4,5]\n",
    "frequency = {}\n",
    "for x in numbers:\n",
    "    if x in frequency:\n",
    "        frequency[x] += 1\n",
    "    else:\n",
    "        frequency[x] = 1\n",
    "        \n",
    "print(frequency)"
   ]
  },
  {
   "cell_type": "code",
   "execution_count": 48,
   "metadata": {},
   "outputs": [
    {
     "name": "stdout",
     "output_type": "stream",
     "text": [
      "{'a': 1, 'b': 2, 'c': 3, 'd': 4}\n"
     ]
    }
   ],
   "source": [
    "##Merge Two Dictionaries\n",
    "dict1 = {\"a\" : 1, \"b\" : 2}\n",
    "dict2 = {\"c\" : 3, \"d\" : 4}\n",
    "\n",
    "merge = {**dict1, **dict2}##Key pair argument\n",
    "print(merge)"
   ]
  },
  {
   "cell_type": "code",
   "execution_count": null,
   "metadata": {},
   "outputs": [],
   "source": []
  },
  {
   "cell_type": "code",
   "execution_count": null,
   "metadata": {},
   "outputs": [],
   "source": []
  },
  {
   "cell_type": "code",
   "execution_count": null,
   "id": "d908ffed",
   "metadata": {},
   "outputs": [],
   "source": []
  }
 ],
 "metadata": {
  "kernelspec": {
   "display_name": "Python 3",
   "language": "python",
   "name": "python3"
  },
  "language_info": {
   "codemirror_mode": {
    "name": "ipython",
    "version": 3
   },
   "file_extension": ".py",
   "mimetype": "text/x-python",
   "name": "python",
   "nbconvert_exporter": "python",
   "pygments_lexer": "ipython3",
   "version": "3.12.11"
  }
 },
 "nbformat": 4,
 "nbformat_minor": 5
}
