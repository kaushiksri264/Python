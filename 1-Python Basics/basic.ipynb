{
 "cells": [
  {
   "cell_type": "code",
   "execution_count": 16,
   "id": "429a78e7",
   "metadata": {},
   "outputs": [
    {
     "name": "stdout",
     "output_type": "stream",
     "text": [
      "sri\n",
      "Kaushik\n"
     ]
    }
   ],
   "source": [
    "## Basic Syntax in Python\n",
    "## Python is case sensitive\n",
    "name = 'sri'\n",
    "Name = 'Kaushik'\n",
    "print(name)\n",
    "print(Name)"
   ]
  },
  {
   "cell_type": "code",
   "execution_count": 17,
   "id": "6f1631b0",
   "metadata": {},
   "outputs": [],
   "source": [
    "## Indentation\n",
    "## Python uses indentation to define blocks of code. Consistent use of spaces(commonly 4) or a tab is required.\n",
    "\n",
    "age = 32\n",
    "if(age > 32):\n",
    "    print(age)"
   ]
  },
  {
   "cell_type": "code",
   "execution_count": 1,
   "id": "13d73770",
   "metadata": {},
   "outputs": [
    {
     "name": "stdout",
     "output_type": "stream",
     "text": [
      "21\n"
     ]
    }
   ],
   "source": [
    "## Line continuation\n",
    "##Use a backslash(\\) to continue a statement to the next line\n",
    "\n",
    "total = 1+2+3+\\\n",
    "4+5+6\n",
    "\n",
    "print(total)"
   ]
  },
  {
   "cell_type": "code",
   "execution_count": 19,
   "id": "7d5ab820",
   "metadata": {},
   "outputs": [
    {
     "name": "stdout",
     "output_type": "stream",
     "text": [
      "15\n"
     ]
    }
   ],
   "source": [
    "## Multipule statements on a single line\n",
    "\n",
    "x=5; y=10; z= x+y\n",
    "print(z)"
   ]
  },
  {
   "cell_type": "code",
   "execution_count": 2,
   "id": "cf354193",
   "metadata": {},
   "outputs": [],
   "source": [
    "## Understanding semantics for python\n",
    "# Variable assignment\n",
    "age = 32 ##age is an integer\n",
    "name = 'Krish'"
   ]
  },
  {
   "cell_type": "code",
   "execution_count": null,
   "id": "87094e5f",
   "metadata": {},
   "outputs": [
    {
     "data": {
      "text/plain": [
       "str"
      ]
     },
     "execution_count": 22,
     "metadata": {},
     "output_type": "execute_result"
    }
   ],
   "source": [
    "type(age)\n",
    "type(name)"
   ]
  },
  {
   "cell_type": "code",
   "execution_count": 3,
   "id": "cd5d5fd4",
   "metadata": {},
   "outputs": [
    {
     "name": "stdout",
     "output_type": "stream",
     "text": [
      "<class 'int'>\n",
      "<class 'str'>\n"
     ]
    }
   ],
   "source": [
    "## Type Inference\n",
    "val = 10\n",
    "print(type(val))\n",
    "val = \"sri\"\n",
    "print(type(val))"
   ]
  },
  {
   "cell_type": "code",
   "execution_count": 5,
   "id": "ea5468eb",
   "metadata": {},
   "outputs": [
    {
     "name": "stdout",
     "output_type": "stream",
     "text": [
      "age:  32\n",
      "height:  6.1\n"
     ]
    }
   ],
   "source": [
    "## Declaring and assigning Variables\n",
    "age =32\n",
    "height = 6.1\n",
    "name = \"Sri\"\n",
    "is_Student = True\n",
    "\n",
    "## Priting Variabels\n",
    "\n",
    "print(\"age: \", age)\n",
    "print(\"height: \",height)"
   ]
  },
  {
   "cell_type": "code",
   "execution_count": 7,
   "id": "043b647d",
   "metadata": {},
   "outputs": [
    {
     "name": "stdout",
     "output_type": "stream",
     "text": [
      "kaushik\n"
     ]
    }
   ],
   "source": [
    "##Naming convention\n",
    "## Variable names should be descriptive\n",
    "## they must always start with letter or an '_' and contains letters, numbers and underscores\n",
    "# Valid variable names\n",
    "\n",
    "first_name = \"sri\"\n",
    "_lastname = \"kaushik\"\n",
    "\n",
    "print(_lastname)"
   ]
  },
  {
   "cell_type": "code",
   "execution_count": 8,
   "id": "e61b95ef",
   "metadata": {},
   "outputs": [
    {
     "name": "stdout",
     "output_type": "stream",
     "text": [
      "<class 'float'>\n"
     ]
    }
   ],
   "source": [
    "##Vaariable Types\n",
    "## Python is dynamically typed, type od variable is determined at runtime\n",
    "age = 25 #int\n",
    "height = 6.1 #float\n",
    "\n",
    "print(type(height))"
   ]
  },
  {
   "cell_type": "code",
   "execution_count": 11,
   "id": "6ed33675",
   "metadata": {},
   "outputs": [
    {
     "name": "stdout",
     "output_type": "stream",
     "text": [
      "<class 'int'>\n",
      "25\n",
      "<class 'str'>\n"
     ]
    }
   ],
   "source": [
    "##Type Checking and Conversion\n",
    "print(type(age))\n",
    "\n",
    "##Type conversion\n",
    "age_str = str(age)\n",
    "print(age_str)\n",
    "print(type(age_str))"
   ]
  },
  {
   "cell_type": "code",
   "execution_count": 12,
   "id": "7ce2847f",
   "metadata": {},
   "outputs": [
    {
     "name": "stdout",
     "output_type": "stream",
     "text": [
      "10 <class 'int'>\n",
      "Hello <class 'str'>\n",
      "3.14 <class 'float'>\n",
      "True <class 'bool'>\n"
     ]
    }
   ],
   "source": [
    "##Dynamic Typing \n",
    "##Python allows the type of the variable to change as the program executes\n",
    "var = 10\n",
    "print(var, type(var))\n",
    "\n",
    "var = \"Hello\"\n",
    "print(var,type(var))\n",
    "\n",
    "var = 3.14\n",
    "print(var, type(var))\n",
    "\n",
    "var = True\n",
    "print(var,type(var))\n"
   ]
  },
  {
   "cell_type": "code",
   "execution_count": 16,
   "id": "fff0af7a",
   "metadata": {},
   "outputs": [
    {
     "name": "stdout",
     "output_type": "stream",
     "text": [
      "25 <class 'int'>\n"
     ]
    }
   ],
   "source": [
    "##input\n",
    "#age = input(\"Enter Age: \")\n",
    "#print(age,type(age))\n",
    "\n",
    "age = int(input(\"Enter age Value\"))\n",
    "print(age,type(age))"
   ]
  },
  {
   "cell_type": "code",
   "execution_count": 17,
   "id": "48ab8e2a",
   "metadata": {},
   "outputs": [
    {
     "name": "stdout",
     "output_type": "stream",
     "text": [
      "Sum:  38.0\n",
      "Difference:  22.0\n",
      "product:  240.0\n",
      "Quotient:  3.75\n"
     ]
    }
   ],
   "source": [
    "##Simple Calculator\n",
    "num1 = float(input(\"Enter first number: \"))\n",
    "num2 = float(input(\"Enter second number: \"))\n",
    "\n",
    "sum = num1 + num2\n",
    "difference = num1 - num2\n",
    "product = num1 * num2\n",
    "quotient = num1 / num2\n",
    "\n",
    "print(\"Sum: \", sum)\n",
    "print(\"Difference: \", difference)\n",
    "print(\"product: \",product)\n",
    "print(\"Quotient: \", quotient)"
   ]
  },
  {
   "cell_type": "code",
   "execution_count": null,
   "id": "6bfda8f8",
   "metadata": {},
   "outputs": [],
   "source": []
  }
 ],
 "metadata": {
  "kernelspec": {
   "display_name": "Python 3",
   "language": "python",
   "name": "python3"
  },
  "language_info": {
   "codemirror_mode": {
    "name": "ipython",
    "version": 3
   },
   "file_extension": ".py",
   "mimetype": "text/x-python",
   "name": "python",
   "nbconvert_exporter": "python",
   "pygments_lexer": "ipython3",
   "version": "3.12.11"
  }
 },
 "nbformat": 4,
 "nbformat_minor": 5
}
