{
 "cells": [
  {
   "cell_type": "markdown",
   "id": "a945393c",
   "metadata": {},
   "source": [
    "#### Introduction to Functions"
   ]
  },
  {
   "cell_type": "code",
   "execution_count": null,
   "id": "2d6bdc16",
   "metadata": {},
   "outputs": [],
   "source": [
    "##Syntax\n",
    "def function_name(parameters):\n",
    "    \"\"\"DocString\"\"\" #Provide any sort of comments\n",
    "    #Function body\n",
    "    return expression"
   ]
  },
  {
   "cell_type": "code",
   "execution_count": 1,
   "metadata": {},
   "outputs": [
    {
     "name": "stdout",
     "output_type": "stream",
     "text": [
      "Number is even\n"
     ]
    }
   ],
   "source": [
    "# why functions?\n",
    "num = 24\n",
    "if num%2 ==0:\n",
    "    print(\"Number is even\")\n",
    "else:\n",
    "    print(\"Number is odd\")"
   ]
  },
  {
   "cell_type": "code",
   "execution_count": null,
   "metadata": {},
   "outputs": [],
   "source": [
    "def even_or_odd(num):\n",
    "    \"\"\"This functions finds even or odd\"\"\"\n",
    "    if num%2 == 0:\n",
    "        print(\"Number is even\")\n",
    "    else:\n",
    "        print(\"Number is odd\") "
   ]
  },
  {
   "cell_type": "code",
   "execution_count": 4,
   "metadata": {},
   "outputs": [
    {
     "name": "stdout",
     "output_type": "stream",
     "text": [
      "Number is even\n",
      "Number is odd\n"
     ]
    }
   ],
   "source": [
    "#Call this function\n",
    "even_or_odd(24)\n",
    "even_or_odd(25)"
   ]
  },
  {
   "cell_type": "code",
   "execution_count": 5,
   "metadata": {},
   "outputs": [
    {
     "name": "stdout",
     "output_type": "stream",
     "text": [
      "11\n"
     ]
    }
   ],
   "source": [
    "#Function with multipule parameters\n",
    "def add(num1, num2):\n",
    "    \"\"\"Addition function\"\"\"\n",
    "    sum = num1 + num2\n",
    "    return sum\n",
    "\n",
    "result = add(5,6)\n",
    "print(result)"
   ]
  },
  {
   "cell_type": "code",
   "execution_count": 7,
   "metadata": {},
   "outputs": [
    {
     "name": "stdout",
     "output_type": "stream",
     "text": [
      "Hello sri Welcome to Python course\n"
     ]
    }
   ],
   "source": [
    "##Default Parameters\n",
    "def greet(name):\n",
    "    print(f\"Hello {name} Welcome to Python course\")\n",
    "\n",
    "greet(\"sri\")"
   ]
  },
  {
   "cell_type": "code",
   "execution_count": null,
   "metadata": {},
   "outputs": [
    {
     "name": "stdout",
     "output_type": "stream",
     "text": [
      "Hello Kaushik Welcome to Python course\n"
     ]
    }
   ],
   "source": [
    "def greet(name =\"Guest\"): #Default parameter\n",
    "    print(f\"Hello {name} Welcome to Python course\")\n",
    "\n",
    "greet(\"Kaushik\")"
   ]
  },
  {
   "cell_type": "code",
   "execution_count": 11,
   "metadata": {},
   "outputs": [
    {
     "name": "stdout",
     "output_type": "stream",
     "text": [
      "1\n",
      "2\n",
      "3\n",
      "4\n",
      "5\n",
      "6\n",
      "7\n",
      "8\n",
      "sri\n"
     ]
    }
   ],
   "source": [
    "###Variable length arguments\n",
    "##Positional and Keyword arguments\n",
    "def print_numbers(*sri):\n",
    "    for numbers in sri:\n",
    "        print(numbers)\n",
    "\n",
    "print_numbers(1,2,3,4,5,6,7,8,\"sri\")\n"
   ]
  },
  {
   "cell_type": "code",
   "execution_count": 13,
   "metadata": {},
   "outputs": [
    {
     "name": "stdout",
     "output_type": "stream",
     "text": [
      "1\n",
      "2\n",
      "3\n",
      "4\n",
      "5\n",
      "6\n",
      "7\n",
      "8\n",
      "args\n"
     ]
    }
   ],
   "source": [
    "def print_numbers(*args): #right way to syntax is using args\n",
    "    for numbers in args:\n",
    "        print(numbers)\n",
    "\n",
    "print_numbers(1,2,3,4,5,6,7,8,\"args\")"
   ]
  },
  {
   "cell_type": "code",
   "execution_count": 14,
   "id": "441042f4",
   "metadata": {},
   "outputs": [],
   "source": [
    "### Keywords Arguments\n",
    "\n",
    "def print_details(**kwargs):\n",
    "    for key,value in kwargs.items():\n",
    "        print(f\"{key} : {value}\")\n",
    "    "
   ]
  },
  {
   "cell_type": "code",
   "execution_count": 15,
   "id": "60a99531",
   "metadata": {},
   "outputs": [
    {
     "name": "stdout",
     "output_type": "stream",
     "text": [
      "name : Sri\n",
      "age : 26\n",
      "country : India\n"
     ]
    }
   ],
   "source": [
    "print_details(name = \"Sri\", age = 26, country = \"India\")"
   ]
  },
  {
   "cell_type": "code",
   "execution_count": 17,
   "id": "270bf113",
   "metadata": {},
   "outputs": [
    {
     "name": "stdout",
     "output_type": "stream",
     "text": [
      "Positional Arguments: 1\n",
      "Positional Arguments: 2\n",
      "Positional Arguments: 3\n",
      "Positional Arguments: 4\n",
      "Positional Arguments: 5\n",
      "Positional Arguments: 6\n",
      "Keyword Arguments: name:sam\n",
      "Keyword Arguments: age:25\n",
      "Keyword Arguments: country:USA\n"
     ]
    }
   ],
   "source": [
    "def print_details(*args, **kwargs):\n",
    "    for num in args:\n",
    "        print(f\"Positional Arguments: {num}\")\n",
    "    for key,value in kwargs.items():\n",
    "        print(f\"Keyword Arguments: {key}:{value}\")\n",
    "\n",
    "print_details(1,2,3,4,5,6,name = \"sam\", age = 25, country = \"USA\")\n"
   ]
  },
  {
   "cell_type": "code",
   "execution_count": 18,
   "id": "542fda61",
   "metadata": {},
   "outputs": [
    {
     "name": "stdout",
     "output_type": "stream",
     "text": [
      "6\n"
     ]
    }
   ],
   "source": [
    "##Return staments\n",
    "def multiply(a,b):\n",
    "    return a*b\n",
    "\n",
    "print(multiply(2,3))"
   ]
  },
  {
   "cell_type": "code",
   "execution_count": 21,
   "id": "a83f5b96",
   "metadata": {},
   "outputs": [
    {
     "data": {
      "text/plain": [
       "(6, 2, 3)"
      ]
     },
     "execution_count": 21,
     "metadata": {},
     "output_type": "execute_result"
    }
   ],
   "source": [
    "## return multipule parameters \n",
    "def multiply(a,b):\n",
    "    return a*b,a,b\n",
    "\n",
    "multiply(2,3)"
   ]
  },
  {
   "cell_type": "code",
   "execution_count": null,
   "id": "b1f77755",
   "metadata": {},
   "outputs": [],
   "source": []
  }
 ],
 "metadata": {
  "kernelspec": {
   "display_name": "Python 3",
   "language": "python",
   "name": "python3"
  },
  "language_info": {
   "codemirror_mode": {
    "name": "ipython",
    "version": 3
   },
   "file_extension": ".py",
   "mimetype": "text/x-python",
   "name": "python",
   "nbconvert_exporter": "python",
   "pygments_lexer": "ipython3",
   "version": "3.12.11"
  }
 },
 "nbformat": 4,
 "nbformat_minor": 5
}
