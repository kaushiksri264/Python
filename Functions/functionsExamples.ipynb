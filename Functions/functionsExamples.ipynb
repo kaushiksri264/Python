{
 "cells": [
  {
   "cell_type": "markdown",
   "id": "086e66a0",
   "metadata": {},
   "source": [
    "#### Functions Examples\n"
   ]
  },
  {
   "cell_type": "code",
   "execution_count": null,
   "id": "a59d25d1",
   "metadata": {},
   "outputs": [],
   "source": [
    "###Example 1: Temperature Conversion\n",
    "def convert_Temperature(temp, unit):\n",
    "    \"\"\"This function converts temperature between celcius and farenhite\"\"\"\n",
    "    if unit == 'C':\n",
    "        return temp * 9/5 + 32 #converting temperature from celcius to farenheit\n",
    "    elif unit == 'F':\n",
    "        return (temp - 32) * 5/9 #Convert temperature from faranheit to celcius\n",
    "    else:\n",
    "        return None\n",
    "        \n",
    "convert_Temperature(23,'C')\n",
    "convert_Temperature(90,'F')\n",
    "convert_Temperature(80,'D')"
   ]
  },
  {
   "cell_type": "code",
   "execution_count": 25,
   "metadata": {},
   "outputs": [
    {
     "data": {
      "text/plain": [
       "True"
      ]
     },
     "execution_count": 25,
     "metadata": {},
     "output_type": "execute_result"
    }
   ],
   "source": [
    "###Example 2: Password Strength checker\n",
    "def pass_strength_checker(password):\n",
    "    \"\"\"This function checks the Password strength\"\"\"\n",
    "    if len(password) < 8:\n",
    "        return False\n",
    "    if not any(char.isdigit() for char in password):\n",
    "        return False\n",
    "    if not any(char.isupper() for char in password):\n",
    "        return False\n",
    "    if not any(char.islower() for char in password):\n",
    "        return False\n",
    "    if not any(char in '!@#$%^&*()_+' for char in password):\n",
    "        return False\n",
    "    else:\n",
    "        return True\n",
    "\n",
    "pass_strength_checker(\"Kaushik123@\")"
   ]
  },
  {
   "cell_type": "code",
   "execution_count": 27,
   "metadata": {},
   "outputs": [
    {
     "name": "stdout",
     "output_type": "stream",
     "text": [
      "11.39\n"
     ]
    }
   ],
   "source": [
    "##Calculating the Total cost of Items In a shopping cart\n",
    "def total_cost_cart(cart):\n",
    "    \"\"\"This function calculates the items cost in the shopping cart\"\"\"\n",
    "    total_cost = 0\n",
    "    for item in cart:\n",
    "        total_cost+= item['Price']*item['Quantity']\n",
    "    return total_cost\n",
    "\n",
    "##Example cart Data\n",
    "cart = [\n",
    "    {'name' : 'Apple', 'Price' : 0.79, 'Quantity':4},\n",
    "    {'name' : 'Banana', 'Price' : 0.68, 'Quantity': 7},\n",
    "    {'name' : 'Orange', 'Price' : 0.39, 'Quantity': 3},\n",
    "    {'name' : 'Watermelon', 'Price' : 2.3, 'Quantity': 1}\n",
    "]\n",
    "print(total_cost_cart(cart))"
   ]
  },
  {
   "cell_type": "code",
   "execution_count": 28,
   "metadata": {},
   "outputs": [
    {
     "name": "stdout",
     "output_type": "stream",
     "text": [
      "True\n"
     ]
    }
   ],
   "source": [
    "##Check if a String is a Palindrome\n",
    "def isPalindrome(string):\n",
    "    \"\"\"This function checks the string is palindrome\"\"\"\n",
    "    st = string.lower().replace(\" \",\"\")\n",
    "    return string==st[::-1]\n",
    "\n",
    "\n",
    "##Example String Data\n",
    "string = \"racecar\"\n",
    "print(isPalindrome(string))"
   ]
  },
  {
   "cell_type": "code",
   "execution_count": null,
   "metadata": {},
   "outputs": [],
   "source": []
  },
  {
   "cell_type": "code",
   "execution_count": null,
   "id": "8cbf9202",
   "metadata": {},
   "outputs": [],
   "source": []
  },
  {
   "cell_type": "code",
   "execution_count": null,
   "metadata": {},
   "outputs": [],
   "source": []
  },
  {
   "cell_type": "code",
   "execution_count": null,
   "metadata": {},
   "outputs": [],
   "source": []
  },
  {
   "cell_type": "code",
   "execution_count": null,
   "metadata": {},
   "outputs": [],
   "source": []
  },
  {
   "cell_type": "code",
   "execution_count": null,
   "id": "da919a42",
   "metadata": {},
   "outputs": [],
   "source": []
  },
  {
   "cell_type": "markdown",
   "id": "9b309c78",
   "metadata": {},
   "source": [
    "\n"
   ]
  },
  {
   "cell_type": "markdown",
   "id": "9c7474e7",
   "metadata": {},
   "source": []
  }
 ],
 "metadata": {
  "kernelspec": {
   "display_name": "Python 3",
   "language": "python",
   "name": "python3"
  },
  "language_info": {
   "codemirror_mode": {
    "name": "ipython",
    "version": 3
   },
   "file_extension": ".py",
   "mimetype": "text/x-python",
   "name": "python",
   "nbconvert_exporter": "python",
   "pygments_lexer": "ipython3",
   "version": "3.12.11"
  }
 },
 "nbformat": 4,
 "nbformat_minor": 5
}
