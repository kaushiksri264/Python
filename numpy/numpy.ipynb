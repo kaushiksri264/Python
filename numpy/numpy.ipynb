{
 "cells": [
  {
   "cell_type": "markdown",
   "id": "53d54688",
   "metadata": {},
   "source": [
    "#### Numpy - is Funadamental in scientifical computing in python. It provides support for arrays and matrices along with a collection of mathematical functions to operate on the data structures. "
   ]
  },
  {
   "cell_type": "code",
   "execution_count": null,
   "id": "aee212c5",
   "metadata": {},
   "outputs": [
    {
     "name": "stdout",
     "output_type": "stream",
     "text": [
      "[1 2 3 4 5]\n",
      "<class 'numpy.ndarray'>\n",
      "(5,)\n"
     ]
    }
   ],
   "source": [
    "import numpy as np\n",
    "\n",
    "##Create arrays using numpy\n",
    "##1-D Array\n",
    "print(arr1)\n",
    "print(type(arr1))\n",
    "print(arr1.shape)"
   ]
  },
  {
   "cell_type": "code",
   "execution_count": 8,
   "id": "8ce776e7",
   "metadata": {},
   "outputs": [
    {
     "data": {
      "text/plain": [
       "array([[1, 2, 3, 4, 5]])"
      ]
     },
     "execution_count": 8,
     "metadata": {},
     "output_type": "execute_result"
    }
   ],
   "source": [
    "##2-D Array\n",
    "arr2 = np.array([1,2,3,4,5])\n",
    "arr2.reshape((1,5))"
   ]
  },
  {
   "cell_type": "code",
   "execution_count": 9,
   "id": "b3b69780",
   "metadata": {},
   "outputs": [
    {
     "name": "stdout",
     "output_type": "stream",
     "text": [
      "[[1 2 3 4 5]\n",
      " [2 3 4 5 6]]\n"
     ]
    }
   ],
   "source": [
    "arr2 = np.array([[1,2,3,4,5],[2,3,4,5,6]])\n",
    "print(arr2)"
   ]
  },
  {
   "cell_type": "code",
   "execution_count": 13,
   "id": "1f3d2ff4",
   "metadata": {},
   "outputs": [
    {
     "data": {
      "text/plain": [
       "array([[0],\n",
       "       [2],\n",
       "       [4],\n",
       "       [6],\n",
       "       [8]])"
      ]
     },
     "execution_count": 13,
     "metadata": {},
     "output_type": "execute_result"
    }
   ],
   "source": [
    "np.arange(0,10,2).reshape(5,1)\n"
   ]
  },
  {
   "cell_type": "code",
   "execution_count": 15,
   "id": "cf1bbe4d",
   "metadata": {},
   "outputs": [
    {
     "data": {
      "text/plain": [
       "array([[1., 1., 1., 1.],\n",
       "       [1., 1., 1., 1.],\n",
       "       [1., 1., 1., 1.]])"
      ]
     },
     "execution_count": 15,
     "metadata": {},
     "output_type": "execute_result"
    }
   ],
   "source": [
    "np.ones((3,4))"
   ]
  },
  {
   "cell_type": "code",
   "execution_count": 18,
   "id": "d1aae2e3",
   "metadata": {},
   "outputs": [
    {
     "name": "stdout",
     "output_type": "stream",
     "text": [
      "<class 'numpy.ndarray'>\n",
      "<class 'numpy.ndarray'>\n"
     ]
    }
   ],
   "source": [
    "print(type(np.array((1,2,3))))\n",
    "print(type(np.array([1,2,3])))"
   ]
  },
  {
   "cell_type": "code",
   "execution_count": 20,
   "id": "db367622",
   "metadata": {},
   "outputs": [
    {
     "data": {
      "text/plain": [
       "array([[1., 0., 0.],\n",
       "       [0., 1., 0.],\n",
       "       [0., 0., 1.]])"
      ]
     },
     "execution_count": 20,
     "metadata": {},
     "output_type": "execute_result"
    }
   ],
   "source": [
    "#identity matrix\n",
    "np.eye(3)"
   ]
  },
  {
   "cell_type": "code",
   "execution_count": 22,
   "id": "aae3deb8",
   "metadata": {},
   "outputs": [
    {
     "name": "stdout",
     "output_type": "stream",
     "text": [
      "Array: \n",
      " [[1 2 3]\n",
      " [4 5 6]]\n",
      "Array Shape:  (2, 3)\n",
      "Number of dimension in Array:  2\n",
      "Size (number of elements in Array):  6\n",
      "Arrays Datatype:  int64\n",
      "Array ItemSize (in Bytes):  8\n"
     ]
    }
   ],
   "source": [
    "##Attributes of Numpy Array\n",
    "\n",
    "arr = np.array([[1,2,3],[4,5,6]])\n",
    "print(\"Array: \\n\", arr)\n",
    "print(\"Array Shape: \", arr.shape)\n",
    "print(\"Number of dimension in Array: \",arr.ndim)\n",
    "print(\"Size (number of elements in Array): \", arr.size)\n",
    "print(\"Arrays Datatype: \", arr.dtype)\n",
    "print(\"Array ItemSize (in Bytes): \",arr.itemsize)"
   ]
  },
  {
   "cell_type": "code",
   "execution_count": 23,
   "id": "0dbe64d3",
   "metadata": {},
   "outputs": [
    {
     "name": "stdout",
     "output_type": "stream",
     "text": [
      "Addition:  [11 22 33 44 55]\n",
      "Substraction:  [ -9 -18 -27 -36 -45]\n",
      "Multiplication:  [ 10  40  90 160 250]\n",
      "Division:  [0.1 0.1 0.1 0.1 0.1]\n"
     ]
    }
   ],
   "source": [
    "##Numpy Vectorized Operation\n",
    "arr1 = np.array([1,2,3,4,5])\n",
    "arr2 = np.array([10,20,30,40,50])\n",
    "\n",
    "print(\"Addition: \", arr1 + arr2)\n",
    "print(\"Substraction: \", arr1 - arr2)\n",
    "print(\"Multiplication: \", arr1 * arr2)\n",
    "print(\"Division: \", arr1 / arr2 )"
   ]
  },
  {
   "cell_type": "code",
   "execution_count": 25,
   "id": "6ca178cf",
   "metadata": {},
   "outputs": [
    {
     "name": "stdout",
     "output_type": "stream",
     "text": [
      "[1.         1.41421356 1.73205081 2.         2.23606798]\n",
      "[  2.71828183   7.3890561   20.08553692  54.59815003 148.4131591 ]\n",
      "[ 0.84147098  0.90929743  0.14112001 -0.7568025  -0.95892427]\n",
      "[0.         0.69314718 1.09861229 1.38629436 1.60943791]\n"
     ]
    }
   ],
   "source": [
    "#Universal Function\n",
    "arr = np.array([1,2,3,4,5])\n",
    "\n",
    "##square root\n",
    "print(np.sqrt(arr))\n",
    "\n",
    "##Exponential\n",
    "print(np.exp(arr))\n",
    "\n",
    "##sine\n",
    "print(np.sin(arr))\n",
    "\n",
    "##natural log\n",
    "print(np.log(arr))"
   ]
  },
  {
   "cell_type": "code",
   "execution_count": 26,
   "id": "b618f4d7",
   "metadata": {},
   "outputs": [
    {
     "name": "stdout",
     "output_type": "stream",
     "text": [
      "Array: \n",
      " [[1 2 3 4 5]\n",
      " [2 3 4 5 6]\n",
      " [3 4 5 6 7]]\n"
     ]
    }
   ],
   "source": [
    "##array slicing and indexing \n",
    "arr = np.array([[1,2,3,4,5],[2,3,4,5,6],[3,4,5,6,7]])\n",
    "print(\"Array: \\n\", arr)"
   ]
  },
  {
   "cell_type": "code",
   "execution_count": 42,
   "id": "32ef5c5e",
   "metadata": {},
   "outputs": [
    {
     "name": "stdout",
     "output_type": "stream",
     "text": [
      "[[3 4]\n",
      " [4 5]]\n"
     ]
    }
   ],
   "source": [
    "#print(arr[0][0])\n",
    "#print(arr[0:2,3:])\n",
    "print(arr[1:,1:3])"
   ]
  },
  {
   "cell_type": "code",
   "execution_count": 32,
   "id": "6583992b",
   "metadata": {},
   "outputs": [
    {
     "data": {
      "text/plain": [
       "array([[5, 6],\n",
       "       [6, 7]])"
      ]
     },
     "execution_count": 32,
     "metadata": {},
     "output_type": "execute_result"
    }
   ],
   "source": [
    "arr[1:,3:]"
   ]
  },
  {
   "cell_type": "code",
   "execution_count": 44,
   "id": "73828234",
   "metadata": {},
   "outputs": [
    {
     "data": {
      "text/plain": [
       "array([[100,   2,   3,   4,   5],\n",
       "       [  2,   3,   4,   5,   6],\n",
       "       [  3,   4,   5,   6,   7]])"
      ]
     },
     "execution_count": 44,
     "metadata": {},
     "output_type": "execute_result"
    }
   ],
   "source": [
    "#Modifying array elements\n",
    "arr[0][0] = 100\n",
    "arr"
   ]
  },
  {
   "cell_type": "code",
   "execution_count": 45,
   "id": "38d79ccc",
   "metadata": {},
   "outputs": [
    {
     "name": "stdout",
     "output_type": "stream",
     "text": [
      "[[100   2   3   4   5]\n",
      " [100 100 100 100 100]\n",
      " [100 100 100 100 100]]\n"
     ]
    }
   ],
   "source": [
    "arr[1:] = 100\n",
    "print(arr)"
   ]
  },
  {
   "cell_type": "code",
   "execution_count": 46,
   "id": "c7b182ab",
   "metadata": {},
   "outputs": [
    {
     "name": "stdout",
     "output_type": "stream",
     "text": [
      "Normalized Data:  [-1.41421356 -0.70710678  0.          0.70710678  1.41421356]\n"
     ]
    }
   ],
   "source": [
    "## statistical Concepts - Normalization\n",
    "##To have a mean of 0 and standard deviation of 1\n",
    "data = np.array([1,2,3,4,5])\n",
    "\n",
    "#calculate mean and standard deviation\n",
    "mean = np.mean(data)\n",
    "std_dev = np.std(data)\n",
    "\n",
    "#Normalization\n",
    "normalization = (data - mean) /std_dev\n",
    "print(\"Normalized Data: \", normalization)"
   ]
  },
  {
   "cell_type": "code",
   "execution_count": 48,
   "id": "00c8e989",
   "metadata": {},
   "outputs": [
    {
     "name": "stdout",
     "output_type": "stream",
     "text": [
      "Mean:  74.26666666666667\n",
      "Median:  100.0\n",
      "Standard Deviation:  42.67781104456454\n",
      "Variance:  2.0\n"
     ]
    }
   ],
   "source": [
    "#Mean \n",
    "mean = np.mean(arr)\n",
    "print(\"Mean: \",mean)\n",
    "\n",
    "#Median \n",
    "median = np.median(arr)\n",
    "print(\"Median: \",median)\n",
    "\n",
    "#standard deviation \n",
    "standard_deviation = np.std(arr)\n",
    "print(\"Standard Deviation: \",standard_deviation)\n",
    "\n",
    "#Variance \n",
    "variance = np.var(data)\n",
    "print(\"Variance: \",variance)\n",
    "\n"
   ]
  },
  {
   "cell_type": "code",
   "execution_count": 50,
   "id": "2fc4ed50",
   "metadata": {},
   "outputs": [
    {
     "name": "stdout",
     "output_type": "stream",
     "text": [
      "[6 7 8 9]\n"
     ]
    }
   ],
   "source": [
    "##Logical operations\n",
    "data = np.array([1,2,3,4,5,6,7,8,9])\n",
    "print(data[data>5])"
   ]
  },
  {
   "cell_type": "code",
   "execution_count": 51,
   "id": "ee6d0a8f",
   "metadata": {},
   "outputs": [
    {
     "name": "stdout",
     "output_type": "stream",
     "text": [
      "[5 6 7 8]\n"
     ]
    }
   ],
   "source": [
    "## need to used & instead of \"and\"\n",
    "print(data[(data >= 5) & (data <= 8)])"
   ]
  },
  {
   "cell_type": "code",
   "execution_count": null,
   "id": "e34c8383",
   "metadata": {},
   "outputs": [],
   "source": []
  },
  {
   "cell_type": "code",
   "execution_count": null,
   "id": "6fb4d295",
   "metadata": {},
   "outputs": [],
   "source": []
  }
 ],
 "metadata": {
  "kernelspec": {
   "display_name": "base",
   "language": "python",
   "name": "python3"
  },
  "language_info": {
   "codemirror_mode": {
    "name": "ipython",
    "version": 3
   },
   "file_extension": ".py",
   "mimetype": "text/x-python",
   "name": "python",
   "nbconvert_exporter": "python",
   "pygments_lexer": "ipython3",
   "version": "3.13.5"
  }
 },
 "nbformat": 4,
 "nbformat_minor": 5
}
