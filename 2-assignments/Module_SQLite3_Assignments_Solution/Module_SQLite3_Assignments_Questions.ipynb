{
 "cells": [
  {
   "cell_type": "markdown",
   "id": "964cf61d",
   "metadata": {},
   "source": [
    "# Module: SQLite3 Assignments\n",
    "## Lesson: SQLite3\n",
    "### Assignment 1: Creating and Connecting to a Database\n",
    "\n",
    "1. Write a Python function to create a new SQLite3 database named `test.db`.\n",
    "2. Write a Python function to create a table named `employees` with columns `id` (integer), `name` (text), `age` (integer), and `department` (text) in the `test.db` database.\n",
    "\n",
    "### Assignment 2: Inserting Data\n",
    "\n",
    "1. Write a Python function to insert a new employee into the `employees` table.\n",
    "2. Insert at least 5 different employees into the `employees` table.\n",
    "\n",
    "### Assignment 3: Querying Data\n",
    "\n",
    "1. Write a Python function to fetch and display all records from the `employees` table.\n",
    "2. Write a Python function to fetch and display all employees from a specific department.\n",
    "\n",
    "### Assignment 4: Updating Data\n",
    "\n",
    "1. Write a Python function to update the department of an employee based on their `id`.\n",
    "2. Update the department of at least 2 employees and display the updated records.\n",
    "\n",
    "### Assignment 5: Deleting Data\n",
    "\n",
    "1. Write a Python function to delete an employee from the `employees` table based on their `id`.\n",
    "2. Delete at least 1 employee and display the remaining records.\n",
    "\n",
    "### Assignment 6: Advanced Queries\n",
    "\n",
    "1. Write a Python function to fetch and display employees older than a certain age.\n",
    "2. Write a Python function to fetch and display employees whose names start with a specific letter.\n",
    "\n",
    "### Assignment 7: Handling Transactions\n",
    "\n",
    "1. Write a Python function to insert multiple employees into the `employees` table in a single transaction. Ensure that if any insertion fails, none of the insertions are committed.\n",
    "2. Write a Python function to update the age of multiple employees in a single transaction. Ensure that if any update fails, none of the updates are committed.\n",
    "\n",
    "### Assignment 8: Creating Relationships\n",
    "\n",
    "1. Create a new table named `departments` with columns `id` (integer) and `name` (text).\n",
    "2. Modify the `employees` table to include a foreign key referencing the `id` column in the `departments` table.\n",
    "3. Write a Python function to insert data into both the `departments` and `employees` tables, ensuring referential integrity.\n",
    "\n",
    "### Assignment 9: Indexing and Optimization\n",
    "\n",
    "1. Create an index on the `name` column of the `employees` table.\n",
    "2. Write a Python function to fetch and display all employees whose names start with a specific letter. Compare the performance with and without the index.\n",
    "\n",
    "### Assignment 10: Backing Up and Restoring Data\n",
    "\n",
    "1. Write a Python function to back up the `test.db` database to a file named `backup.db`.\n",
    "2. Write a Python function to restore the `test.db` database from the `backup.db` file."
   ]
  },
  {
   "cell_type": "code",
   "execution_count": 1,
   "id": "e4f3988f",
   "metadata": {},
   "outputs": [
    {
     "name": "stdout",
     "output_type": "stream",
     "text": [
      "Database created and successfully connected.\n"
     ]
    }
   ],
   "source": [
    "#1.1\n",
    "import sqlite3\n",
    "\n",
    "def create_database():\n",
    "    connection = sqlite3.connect('test.db')\n",
    "    connection.close()\n",
    "    print(\"Database created and successfully connected.\")\n",
    "\n",
    "create_database()"
   ]
  },
  {
   "cell_type": "code",
   "execution_count": 3,
   "id": "d34c5b3a",
   "metadata": {},
   "outputs": [
    {
     "name": "stdout",
     "output_type": "stream",
     "text": [
      "Table 'employees' creadted successfully\n"
     ]
    }
   ],
   "source": [
    "def create_table():\n",
    "    connection = sqlite3.connect('test.db')\n",
    "    cursor = connection.cursor()\n",
    "    cursor.execute('''\n",
    "        CREATE TABLE IF NOT EXISTS employees (\n",
    "               id INTEGER PRIMARY KEY,\n",
    "               name TEXT NOT NULL,\n",
    "               age INTEGER,\n",
    "               department TEXT\n",
    "         )\n",
    "    ''')\n",
    "    connection.commit()\n",
    "    connection.close()\n",
    "    print(\"Table 'employees' creadted successfully\")\n",
    "\n",
    "create_table()\n",
    "    "
   ]
  },
  {
   "cell_type": "code",
   "execution_count": 4,
   "id": "7487b3d5",
   "metadata": {},
   "outputs": [
    {
     "name": "stdout",
     "output_type": "stream",
     "text": [
      "Employee inserted successfully!\n"
     ]
    }
   ],
   "source": [
    "def insert_employee(id,name,age,department):\n",
    "    connection = sqlite3.connect('test.db')\n",
    "    cursor = connection.cursor()\n",
    "    cursor.execute('''\n",
    "    INSERT INTO employees(id,name,age,department)\n",
    "    VALUES(?,?,?,?)\n",
    "    ''',(id,name,age,department))\n",
    "    connection.commit()\n",
    "    connection.close()\n",
    "    print(\"Employee inserted successfully!\")\n",
    "\n",
    "insert_employee(1,'GOJO',25,'HR Department')"
   ]
  },
  {
   "cell_type": "code",
   "execution_count": 5,
   "id": "fd084bbf",
   "metadata": {},
   "outputs": [
    {
     "name": "stdout",
     "output_type": "stream",
     "text": [
      "Employee inserted successfully!\n",
      "Employee inserted successfully!\n",
      "Employee inserted successfully!\n",
      "Employee inserted successfully!\n",
      "Employee inserted successfully!\n"
     ]
    }
   ],
   "source": [
    "insert_employee(2,'MOKUTO', 29,'Sales Department')\n",
    "insert_employee(3,'HIZUNE',25,'R&D Department')\n",
    "insert_employee(4,'SAKURA', 18, 'HR Department')\n",
    "insert_employee(5,'SHIZUKA',32,'R&D Department')\n",
    "insert_employee(6,'SHINZO',19,'R&D Department')"
   ]
  },
  {
   "cell_type": "code",
   "execution_count": 6,
   "id": "105b4ec9",
   "metadata": {},
   "outputs": [
    {
     "name": "stdout",
     "output_type": "stream",
     "text": [
      "(1, 'GOJO', 25, 'HR Department')\n",
      "(2, 'MOKUTO', 29, 'Sales Department')\n",
      "(3, 'HIZUNE', 25, 'R&D Department')\n",
      "(4, 'SAKURA', 18, 'HR Department')\n",
      "(5, 'SHIZUKA', 32, 'R&D Department')\n",
      "(6, 'SHINZO', 19, 'R&D Department')\n"
     ]
    }
   ],
   "source": [
    "def fetch_all_employees():\n",
    "    connection = sqlite3.connect('test.db')\n",
    "    cursor = connection.cursor()\n",
    "    cursor.execute('SELECT * FROM employees')\n",
    "    records = cursor.fetchall()\n",
    "    cursor.close()\n",
    "    for record in records:\n",
    "        print(record)\n",
    "\n",
    "fetch_all_employees()"
   ]
  },
  {
   "cell_type": "code",
   "execution_count": 8,
   "id": "31f5b672",
   "metadata": {},
   "outputs": [
    {
     "name": "stdout",
     "output_type": "stream",
     "text": [
      "(1, 'GOJO', 25, 'HR Department')\n",
      "(4, 'SAKURA', 18, 'HR Department')\n"
     ]
    }
   ],
   "source": [
    "def fetch_employees_by_department(department):\n",
    "    connection = sqlite3.connect('test.db')\n",
    "    cursor = connection.cursor()\n",
    "    cursor.execute('SELECT * FROM employees WHERE department = ?', (department,))\n",
    "    records = cursor.fetchall()\n",
    "    connection.close()\n",
    "    for record in records:\n",
    "        print(record)\n",
    "\n",
    "fetch_employees_by_department('HR Department')"
   ]
  },
  {
   "cell_type": "code",
   "execution_count": 9,
   "id": "9f41b93d",
   "metadata": {},
   "outputs": [
    {
     "name": "stdout",
     "output_type": "stream",
     "text": [
      "Employee Department updated successfully!\n"
     ]
    }
   ],
   "source": [
    "def update_employee_department(employee_id,new_department):\n",
    "    connection = sqlite3.connect('test.db')\n",
    "    cursor = connection.cursor()\n",
    "    cursor.execute('''\n",
    "                   UPDATE employees \n",
    "                   SET department=?\n",
    "                   WHERE id = ?''',(new_department,employee_id))\n",
    "    connection.commit()\n",
    "    records = cursor.fetchall()\n",
    "    connection.close()\n",
    "    print(\"Employee Department updated successfully!\")\n",
    "   \n",
    "\n",
    "update_employee_department(4,'R&D Department')"
   ]
  },
  {
   "cell_type": "code",
   "execution_count": 10,
   "id": "8b621d6a",
   "metadata": {},
   "outputs": [
    {
     "name": "stdout",
     "output_type": "stream",
     "text": [
      "Employee Department updated successfully!\n",
      "Employee Department updated successfully!\n",
      "(1, 'GOJO', 25, 'Finance Department')\n",
      "(2, 'MOKUTO', 29, 'Sales Department')\n",
      "(3, 'HIZUNE', 25, 'Finance Department')\n",
      "(4, 'SAKURA', 18, 'R&D Department')\n",
      "(5, 'SHIZUKA', 32, 'R&D Department')\n",
      "(6, 'SHINZO', 19, 'R&D Department')\n"
     ]
    }
   ],
   "source": [
    "update_employee_department(1,'Finance Department')\n",
    "update_employee_department(3,'Finance Department')\n",
    "\n",
    "fetch_all_employees()"
   ]
  },
  {
   "cell_type": "code",
   "execution_count": 11,
   "id": "dd82d5cb",
   "metadata": {},
   "outputs": [
    {
     "name": "stdout",
     "output_type": "stream",
     "text": [
      "Employee is removed successfully!\n"
     ]
    }
   ],
   "source": [
    "#5.1\n",
    "def delete_employee(employee_id):\n",
    "    connection = sqlite3.connect('test.db')\n",
    "    cursor = connection.cursor()\n",
    "    cursor.execute('''\n",
    "                    DELETE FROM employees\n",
    "                    WHERE id=?\n",
    "                    ''',(employee_id,))\n",
    "    connection.commit()\n",
    "    records = cursor.fetchall()\n",
    "    connection.close()\n",
    "    print(\"Employee is removed successfully!\")\n",
    "\n",
    "delete_employee(6)"
   ]
  },
  {
   "cell_type": "code",
   "execution_count": 12,
   "id": "98307b01",
   "metadata": {},
   "outputs": [
    {
     "name": "stdout",
     "output_type": "stream",
     "text": [
      "Employee is removed successfully!\n",
      "Employee is removed successfully!\n",
      "(1, 'GOJO', 25, 'Finance Department')\n",
      "(2, 'MOKUTO', 29, 'Sales Department')\n",
      "(4, 'SAKURA', 18, 'R&D Department')\n"
     ]
    }
   ],
   "source": [
    "delete_employee(5)\n",
    "delete_employee(3)\n",
    "\n",
    "fetch_all_employees()"
   ]
  },
  {
   "cell_type": "code",
   "execution_count": 13,
   "metadata": {},
   "outputs": [
    {
     "name": "stdout",
     "output_type": "stream",
     "text": [
      "Employees greater than specified are displayed.\n",
      "(1, 'GOJO', 25, 'Finance Department')\n",
      "(2, 'MOKUTO', 29, 'Sales Department')\n"
     ]
    }
   ],
   "source": [
    "def fetch_by_age(age):\n",
    "    connection = sqlite3.connect('test.db')\n",
    "    cursor = connection.cursor()\n",
    "    cursor.execute('SELECT * FROM employees WHERE age > ?',(age,))\n",
    "    records = cursor.fetchall()\n",
    "    connection.close()\n",
    "    print(\"Employees greater than specified are displayed.\")\n",
    "    for record in records:\n",
    "        print(record)\n",
    "\n",
    "fetch_by_age(18)"
   ]
  },
  {
   "cell_type": "code",
   "execution_count": 14,
   "id": "7ab026af",
   "metadata": {},
   "outputs": [
    {
     "name": "stdout",
     "output_type": "stream",
     "text": [
      "Employees name is displayed.\n",
      "(2, 'MOKUTO', 29, 'Sales Department')\n"
     ]
    }
   ],
   "source": [
    "def fetch_employees_names_starts_with(letter):\n",
    "    connection = sqlite3.connect('test.db')\n",
    "    cursor = connection.cursor()\n",
    "    cursor.execute('SELECT * FROM employees WHERE name LIKE ?',(letter + '%',))\n",
    "    records = cursor.fetchall()\n",
    "    connection.close()\n",
    "    print(\"Employees name is displayed.\")\n",
    "    for record in records:\n",
    "        print(record)\n",
    "\n",
    "fetch_employees_names_starts_with('M')"
   ]
  },
  {
   "cell_type": "code",
   "execution_count": 15,
   "id": "ea8413bf",
   "metadata": {},
   "outputs": [
    {
     "name": "stdout",
     "output_type": "stream",
     "text": [
      "All employess inserted successfully!\n"
     ]
    }
   ],
   "source": [
    "#7\n",
    "def insert_multipule_employees(employees):\n",
    "    connection = sqlite3.connect('test.db')\n",
    "    cursor = connection.cursor()\n",
    "    try:\n",
    "        cursor.executemany('''\n",
    "        INSERT INTO employees(id,name,age,department)\n",
    "         VALUES(?,?,?,?)\n",
    "                    ''',employees)\n",
    "        connection.commit()\n",
    "        print(\"All employess inserted successfully!\")\n",
    "    except Exception as e:\n",
    "        connection.rollback()\n",
    "        print(\"Error Ocured, transacton rolled back!\")\n",
    "        print(e)\n",
    "    finally:\n",
    "        connection.close()\n",
    "\n",
    "employees = [\n",
    "    (5,'Frank', 40, 'Finance Department'),\n",
    "    (6, 'Jane', 35, 'Engineering Department'),\n",
    "    (7,'Wild', 50, 'IT Depatment'),\n",
    "    (8,'Justin', 29, 'R&D Department'),\n",
    "    (9,'Alice', 27,'Sales Department')\n",
    "]\n",
    "insert_multipule_employees(employees)"
   ]
  },
  {
   "cell_type": "code",
   "execution_count": 16,
   "id": "cdecce71",
   "metadata": {},
   "outputs": [
    {
     "name": "stdout",
     "output_type": "stream",
     "text": [
      "All employees ages updated successfully!\n"
     ]
    }
   ],
   "source": [
    "def update_multipule_employees_ages(updates):\n",
    "    conn = sqlite3.connect('test.db')\n",
    "    cursor = conn.cursor()\n",
    "    try:\n",
    "        cursor.executemany('''\n",
    "        UPDATE employees\n",
    "        SET age = ?\n",
    "        WHERE id = ?\n",
    "        ''',updates)\n",
    "        conn.commit()\n",
    "        print(\"All employees ages updated successfully!\")\n",
    "    except Exception as e:\n",
    "        conn.rollback()\n",
    "        print(\"Error Occurred, transaction rolled back!\")\n",
    "        print(e)\n",
    "    finally:\n",
    "        conn.close()\n",
    "\n",
    "updates = [(26,1),\n",
    "           (20,2),\n",
    "           (28,4),\n",
    "           (34,5),\n",
    "           (38,6),\n",
    "           (52,7)]\n",
    "\n",
    "update_multipule_employees_ages(updates)"
   ]
  },
  {
   "cell_type": "code",
   "execution_count": 17,
   "id": "bd895f1d",
   "metadata": {},
   "outputs": [
    {
     "name": "stdout",
     "output_type": "stream",
     "text": [
      "Table 'departments' created successfully!\n"
     ]
    }
   ],
   "source": [
    "#8\n",
    "def create_department_table():\n",
    "    conn = sqlite3.connect('test.db')\n",
    "    cursor = conn.cursor()\n",
    "    cursor.execute('''\n",
    "            CREATE TABLE IF NOT EXISTS departments(\n",
    "                   id INTEGER PRIMARY KEY,\n",
    "                   name TEXT NOT NULL\n",
    "            )\n",
    "    ''')\n",
    "    conn.commit()\n",
    "    conn.close()\n",
    "    print(\"Table 'departments' created successfully!\")\n",
    "\n",
    "create_department_table()\n"
   ]
  },
  {
   "cell_type": "code",
   "execution_count": 18,
   "id": "459cca98",
   "metadata": {},
   "outputs": [
    {
     "name": "stdout",
     "output_type": "stream",
     "text": [
      "Table 'employees' modified successfully! \n"
     ]
    }
   ],
   "source": [
    "def add_department_foreign_key():\n",
    "    conn = sqlite3.connect('test.db')\n",
    "    cursor = conn.cursor()\n",
    "    cursor.executescript('''\n",
    "        PRAGMA foreign_keys=off;\n",
    "        BEGIN TRANSACTION;\n",
    "        ALTER TABLE employees RENAME TO old_employees;\n",
    "        CREATE TABLE employees(\n",
    "                id INTEGER PRIMARY KEY,\n",
    "                name TEXT NOT NULL,\n",
    "                age INTEGER,\n",
    "                department TEXT,\n",
    "                department_id INTEGER,\n",
    "                FOREIGN KEY(department_id) REFERENCES departments(id)\n",
    "        );\n",
    "        INSERT INTO employees(id,name,age,department)\n",
    "        SELECT id,name,age,department FROM old_employees;\n",
    "        DROP TABLE old_employees;\n",
    "        COMMIT;\n",
    "        PRAGMA foreign_keys=on;\n",
    "    ''')\n",
    "    conn.commit()\n",
    "    conn.close()\n",
    "    print(\"Table 'employees' modified successfully! \")\n",
    "\n",
    "add_department_foreign_key()"
   ]
  },
  {
   "cell_type": "code",
   "execution_count": 19,
   "id": "5dd29807",
   "metadata": {},
   "outputs": [
    {
     "name": "stdout",
     "output_type": "stream",
     "text": [
      "Department and employee inserted successfully.\n"
     ]
    }
   ],
   "source": [
    "def insert_department_and_employee(department_id, department_name, employee_id, name, age, department):\n",
    "    conn = sqlite3.connect('test.db')\n",
    "    cursor = conn.cursor()\n",
    "    try:\n",
    "        cursor.execute('''\n",
    "            INSERT INTO departments (id, name)\n",
    "            VALUES (?, ?)\n",
    "        ''', (department_id, department_name))\n",
    "        cursor.execute('''\n",
    "            INSERT INTO employees (id, name, age, department, department_id)\n",
    "            VALUES (?, ?, ?, ?, ?)\n",
    "        ''', (employee_id, name, age, department, department_id))\n",
    "        conn.commit()\n",
    "        print(\"Department and employee inserted successfully.\")\n",
    "    except Exception as e:\n",
    "        conn.rollback()\n",
    "        print(\"Error occurred, transaction rolled back.\")\n",
    "        print(e)\n",
    "    finally:\n",
    "        conn.close()\n",
    "\n",
    "# Test the function\n",
    "insert_department_and_employee(1, 'Finance', 10, 'Zara', 28, 'Finance')"
   ]
  },
  {
   "cell_type": "code",
   "execution_count": null,
   "id": "f4becc4e",
   "metadata": {},
   "outputs": [
    {
     "name": "stdout",
     "output_type": "stream",
     "text": [
      "nidex on 'name' column created successfully. \n"
     ]
    }
   ],
   "source": [
    "def create_index_on_name():\n",
    "    conn = sqlite3.connect('test.db')\n",
    "    cursor = conn.cursor()\n",
    "    cursor.execute('CREATE INDEX idx_name ON employees(name)')\n",
    "    conn.commit()\n",
    "    conn.close()\n",
    "    print(\"Inidex on 'name' column created successfully. \")\n",
    "\n",
    "create_index_on_name()"
   ]
  },
  {
   "cell_type": "code",
   "execution_count": 23,
   "id": "fbfe94f0",
   "metadata": {},
   "outputs": [
    {
     "name": "stdout",
     "output_type": "stream",
     "text": [
      "Time taken: 0.0007917881011962891 seconds\n",
      "(2, 'MOKUTO', 20, 'Sales Department', None)\n"
     ]
    }
   ],
   "source": [
    "import time\n",
    "def fetch_employees_name_starts_with_performance(letter):\n",
    "    conn = sqlite3.connect('test.db')\n",
    "    cursor = conn.cursor()\n",
    "    start_time = time.time()\n",
    "    cursor.execute('SELECT * FROM employees WHERE name LIKE ?',(letter + '%',))\n",
    "    records = cursor.fetchall()\n",
    "    end_time = time.time()\n",
    "    conn.close()\n",
    "    print(\"Time taken: {} seconds\".format(end_time - start_time))\n",
    "    for record in records:\n",
    "        print(record)\n",
    "\n",
    "fetch_employees_name_starts_with_performance('M')"
   ]
  },
  {
   "cell_type": "code",
   "execution_count": 24,
   "id": "dd748a40",
   "metadata": {},
   "outputs": [
    {
     "name": "stdout",
     "output_type": "stream",
     "text": [
      "Database backed up successfully.\n"
     ]
    }
   ],
   "source": [
    "import shutil\n",
    "\n",
    "def backup_database():\n",
    "    shutil.copy('test.db','backup.db')\n",
    "    print(\"Database backed up successfully.\")\n",
    "\n",
    "backup_database()"
   ]
  },
  {
   "cell_type": "code",
   "execution_count": 25,
   "id": "69565e4f",
   "metadata": {},
   "outputs": [
    {
     "name": "stdout",
     "output_type": "stream",
     "text": [
      "Database restored successfully.\n"
     ]
    }
   ],
   "source": [
    "def restore_database():\n",
    "    shutil.copy('backup.db','test.db')\n",
    "    print(\"Database restored successfully.\")\n",
    "\n",
    "restore_database()"
   ]
  },
  {
   "cell_type": "code",
   "execution_count": null,
   "id": "444998aa",
   "metadata": {},
   "outputs": [],
   "source": []
  },
  {
   "cell_type": "code",
   "execution_count": null,
   "id": "6e5c5a5a",
   "metadata": {},
   "outputs": [],
   "source": []
  }
 ],
 "metadata": {
  "kernelspec": {
   "display_name": "base",
   "language": "python",
   "name": "python3"
  },
  "language_info": {
   "codemirror_mode": {
    "name": "ipython",
    "version": 3
   },
   "file_extension": ".py",
   "mimetype": "text/x-python",
   "name": "python",
   "nbconvert_exporter": "python",
   "pygments_lexer": "ipython3",
   "version": "3.13.5"
  }
 },
 "nbformat": 4,
 "nbformat_minor": 5
}
