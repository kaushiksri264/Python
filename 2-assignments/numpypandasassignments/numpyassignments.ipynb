{
 "cells": [
  {
   "cell_type": "markdown",
   "metadata": {},
   "source": [
    "# Module: NumPy Assignments\n",
    "## Lesson: NumPy\n",
    "### Assignment 1: Array Creation and Manipulation\n",
    "\n",
    "1. Create a NumPy array of shape (5, 5) filled with random integers between 1 and 20. Replace all the elements in the third column with 1.\n",
    "2. Create a NumPy array of shape (4, 4) with values from 1 to 16. Replace the diagonal elements with 0.\n",
    "\n",
    "### Assignment 2: Array Indexing and Slicing\n",
    "\n",
    "1. Create a NumPy array of shape (6, 6) with values from 1 to 36. Extract the sub-array consisting of the 3rd to 5th rows and 2nd to 4th columns.\n",
    "2. Create a NumPy array of shape (5, 5) with random integers. Extract the elements on the border.\n",
    "\n",
    "### Assignment 3: Array Operations\n",
    "\n",
    "1. Create two NumPy arrays of shape (3, 4) filled with random integers. Perform element-wise addition, subtraction, multiplication, and division.\n",
    "2. Create a NumPy array of shape (4, 4) with values from 1 to 16. Compute the row-wise and column-wise sum.\n",
    "\n",
    "### Assignment 4: Statistical Operations\n",
    "\n",
    "1. Create a NumPy array of shape (5, 5) filled with random integers. Compute the mean, median, standard deviation, and variance of the array.\n",
    "2. Create a NumPy array of shape (3, 3) with values from 1 to 9. Normalize the array (i.e., scale the values to have a mean of 0 and a standard deviation of 1).\n",
    "\n",
    "### Assignment 5: Broadcasting\n",
    "\n",
    "1. Create a NumPy array of shape (3, 3) filled with random integers. Add a 1D array of shape (3,) to each row of the 2D array using broadcasting.\n",
    "2. Create a NumPy array of shape (4, 4) filled with random integers. Subtract a 1D array of shape (4,) from each column of the 2D array using broadcasting.\n",
    "\n",
    "### Assignment 6: Linear Algebra\n",
    "\n",
    "1. Create a NumPy array of shape (3, 3) representing a matrix. Compute its determinant, inverse, and eigenvalues.\n",
    "2. Create two NumPy arrays of shape (2, 3) and (3, 2). Perform matrix multiplication on these arrays.\n",
    "\n",
    "### Assignment 7: Advanced Array Manipulation\n",
    "\n",
    "1. Create a NumPy array of shape (3, 3) with values from 1 to 9. Reshape the array to shape (1, 9) and then to shape (9, 1).\n",
    "2. Create a NumPy array of shape (5, 5) filled with random integers. Flatten the array and then reshape it back to (5, 5).\n",
    "\n",
    "### Assignment 8: Fancy Indexing and Boolean Indexing\n",
    "\n",
    "1. Create a NumPy array of shape (5, 5) filled with random integers. Use fancy indexing to extract the elements at the corners of the array.\n",
    "2. Create a NumPy array of shape (4, 4) filled with random integers. Use boolean indexing to set all elements greater than 10 to 10.\n",
    "\n",
    "### Assignment 9: Structured Arrays\n",
    "\n",
    "1. Create a structured array with fields 'name' (string), 'age' (integer), and 'weight' (float). Add some data and sort the array by age.\n",
    "2. Create a structured array with fields 'x' and 'y' (both integers). Add some data and compute the Euclidean distance between each pair of points.\n",
    "\n",
    "### Assignment 10: Masked Arrays\n",
    "\n",
    "1. Create a masked array of shape (4, 4) with random integers and mask the elements greater than 10. Compute the sum of the unmasked elements.\n",
    "2. Create a masked array of shape (3, 3) with random integers and mask the diagonal elements. Replace the masked elements with the mean of the unmasked elements."
   ]
  },
  {
   "cell_type": "code",
   "execution_count": 8,
   "id": "6109adf4",
   "metadata": {},
   "outputs": [
    {
     "data": {
      "text/plain": [
       "array([[ 6,  3,  1,  7,  7],\n",
       "       [10,  4,  1, 19, 12],\n",
       "       [ 9, 14,  1, 18,  6],\n",
       "       [ 7,  9,  1,  5,  4],\n",
       "       [ 6,  2,  1, 14,  7]])"
      ]
     },
     "execution_count": 8,
     "metadata": {},
     "output_type": "execute_result"
    }
   ],
   "source": [
    "#1.1\n",
    "import numpy as np\n",
    "array = np.random.randint(1,20,size=(5,5))\n",
    "array[:,2] = 1\n",
    "array"
   ]
  },
  {
   "cell_type": "code",
   "execution_count": 13,
   "id": "56b6f6c4",
   "metadata": {},
   "outputs": [
    {
     "data": {
      "text/plain": [
       "array([[ 0,  2,  3,  4],\n",
       "       [ 5,  0,  7,  8],\n",
       "       [ 9, 10,  0, 12],\n",
       "       [13, 14, 15,  0]])"
      ]
     },
     "execution_count": 13,
     "metadata": {},
     "output_type": "execute_result"
    }
   ],
   "source": [
    "#1.2\n",
    "array = np.arange(1,17).reshape(4,4)\n",
    "array\n",
    "\n",
    "np.fill_diagonal(array,0)\n",
    "array"
   ]
  },
  {
   "cell_type": "code",
   "execution_count": null,
   "id": "b35c4707",
   "metadata": {},
   "outputs": [
    {
     "data": {
      "text/plain": [
       "array([[ 1,  2,  3,  4,  5,  6],\n",
       "       [ 7,  8,  9, 10, 11, 12],\n",
       "       [13, 14, 15, 16, 17, 18],\n",
       "       [19, 20, 21, 22, 23, 24],\n",
       "       [25, 26, 27, 28, 29, 30],\n",
       "       [31, 32, 33, 34, 35, 36]])"
      ]
     },
     "execution_count": 14,
     "metadata": {},
     "output_type": "execute_result"
    }
   ],
   "source": [
    "#2.1\n",
    "array = np.arange(1,37).reshape(6,6)\n",
    "array"
   ]
  },
  {
   "cell_type": "code",
   "execution_count": 16,
   "id": "11dda057",
   "metadata": {},
   "outputs": [
    {
     "data": {
      "text/plain": [
       "array([[14, 15, 16],\n",
       "       [20, 21, 22],\n",
       "       [26, 27, 28]])"
      ]
     },
     "execution_count": 16,
     "metadata": {},
     "output_type": "execute_result"
    }
   ],
   "source": [
    "sub_arr = array[2:5,1:4]\n",
    "sub_arr"
   ]
  },
  {
   "cell_type": "code",
   "execution_count": 62,
   "id": "f1b32440",
   "metadata": {},
   "outputs": [
    {
     "data": {
      "text/plain": [
       "array([ 1,  9,  1,  7, 16,  2,  4, 15, 11, 14, 17,  9,  4,  4, 13, 10])"
      ]
     },
     "execution_count": 62,
     "metadata": {},
     "output_type": "execute_result"
    }
   ],
   "source": [
    "#2.2\n",
    "array = np.random.randint(1,20,size=(5,5))\n",
    "array\n",
    "\n",
    "order_elements = np.concat((array[0,:],array[-1,:],array[1:-1,0],array[1:-1,-1]))\n",
    "order_elements"
   ]
  },
  {
   "cell_type": "code",
   "execution_count": null,
   "id": "ef1aff25",
   "metadata": {},
   "outputs": [
    {
     "name": "stdout",
     "output_type": "stream",
     "text": [
      "[[ 7  1  8  3]\n",
      " [ 1  9  5  6]\n",
      " [10  2  6  2]]\n",
      "[[ 8  7 10  1]\n",
      " [ 3 10 10  1]\n",
      " [ 8  8  9  6]]\n"
     ]
    }
   ],
   "source": [
    "#3.1\n",
    "array1 = np.random.randint(1,11,size=(3,4))\n",
    "array2 = np.random.randint(1,11,size=(3,4))\n",
    "print(array1)\n",
    "print(array2)"
   ]
  },
  {
   "cell_type": "code",
   "execution_count": 76,
   "id": "a24d7375",
   "metadata": {},
   "outputs": [
    {
     "name": "stdout",
     "output_type": "stream",
     "text": [
      "[[10 18 18 12]\n",
      " [ 7 18 10  9]\n",
      " [18 18  9 13]]\n",
      "[[-6 -2  0 -4]\n",
      " [-3  0  4  7]\n",
      " [-2  0 -7 -3]]\n",
      "[[16 80 81 32]\n",
      " [10 81 21  8]\n",
      " [80 81  8 40]]\n",
      "[[0.25       0.8        1.         0.5       ]\n",
      " [0.4        1.         2.33333333 8.        ]\n",
      " [0.8        1.         0.125      0.625     ]]\n"
     ]
    }
   ],
   "source": [
    "sum_arr = array1 + array2\n",
    "sub_arr = array1 - array2\n",
    "mul_arr = array1 * array2\n",
    "div_arr = array1 / array2\n",
    "print(sum_arr)\n",
    "print(sub_arr)\n",
    "print(mul_arr)\n",
    "print(div_arr)"
   ]
  },
  {
   "cell_type": "code",
   "execution_count": 78,
   "id": "235dcebb",
   "metadata": {},
   "outputs": [
    {
     "data": {
      "text/plain": [
       "array([[ 1,  2,  3,  4],\n",
       "       [ 5,  6,  7,  8],\n",
       "       [ 9, 10, 11, 12],\n",
       "       [13, 14, 15, 16]])"
      ]
     },
     "execution_count": 78,
     "metadata": {},
     "output_type": "execute_result"
    }
   ],
   "source": [
    "#3.2\n",
    "array = np.arange(1,17).reshape(4,4)\n",
    "array"
   ]
  },
  {
   "cell_type": "code",
   "execution_count": null,
   "id": "10f81215",
   "metadata": {},
   "outputs": [
    {
     "name": "stdout",
     "output_type": "stream",
     "text": [
      "[10 26 42 58]\n"
     ]
    }
   ],
   "source": [
    "#print(array.sum(axis=0))\n",
    "row_sum = np.sum(array,axis=1)\n",
    "print(row_sum)"
   ]
  },
  {
   "cell_type": "code",
   "execution_count": 84,
   "id": "f8b508e0",
   "metadata": {},
   "outputs": [
    {
     "name": "stdout",
     "output_type": "stream",
     "text": [
      "[28 32 36 40]\n"
     ]
    }
   ],
   "source": [
    "#print(array.sum(axis=1))\n",
    "col_sum = np.sum(array,axis=0)\n",
    "print(col_sum)"
   ]
  },
  {
   "cell_type": "code",
   "execution_count": 86,
   "id": "c8ceb294",
   "metadata": {},
   "outputs": [
    {
     "name": "stdout",
     "output_type": "stream",
     "text": [
      "Array: \n",
      " [[12  4 15  4  8]\n",
      " [ 4 12  9  1  2]\n",
      " [ 3 11  2  3  4]\n",
      " [16 18 19  1 19]\n",
      " [ 9 20 17  7  1]]\n"
     ]
    }
   ],
   "source": [
    "#4.1\n",
    "array = np.random.randint(1,21,size=(5,5))\n",
    "print(\"Array: \\n\",array)"
   ]
  },
  {
   "cell_type": "code",
   "execution_count": 91,
   "id": "b8467e42",
   "metadata": {},
   "outputs": [
    {
     "name": "stdout",
     "output_type": "stream",
     "text": [
      "8.84\n",
      "8.0\n",
      "6.447821337475164\n",
      "41.574400000000004\n"
     ]
    }
   ],
   "source": [
    "arr_mean = np.mean(array)\n",
    "print(arr_mean)\n",
    "arr_median = np.median(array)\n",
    "print(arr_median)\n",
    "arr_std = np.std(array)\n",
    "print(arr_std)\n",
    "arr_var = np.var(array)\n",
    "print(arr_var)"
   ]
  },
  {
   "cell_type": "code",
   "execution_count": 93,
   "id": "039f7722",
   "metadata": {},
   "outputs": [
    {
     "data": {
      "text/plain": [
       "array([[1, 2, 3],\n",
       "       [4, 5, 6],\n",
       "       [7, 8, 9]])"
      ]
     },
     "execution_count": 93,
     "metadata": {},
     "output_type": "execute_result"
    }
   ],
   "source": [
    "#4.2\n",
    "array = np.arange(1,10).reshape(3,3)\n",
    "array"
   ]
  },
  {
   "cell_type": "code",
   "execution_count": 96,
   "id": "35d5930f",
   "metadata": {},
   "outputs": [
    {
     "name": "stdout",
     "output_type": "stream",
     "text": [
      "5.0\n",
      "2.581988897471611\n",
      "[[-1.54919334 -1.161895   -0.77459667]\n",
      " [-0.38729833  0.          0.38729833]\n",
      " [ 0.77459667  1.161895    1.54919334]]\n"
     ]
    }
   ],
   "source": [
    "arr_mean = np.mean(array)\n",
    "print(arr_mean)\n",
    "arr_std = np.std(array)\n",
    "print(arr_std)\n",
    "\n",
    "normalization = (array - arr_mean)/arr_std\n",
    "print(normalization)\n"
   ]
  },
  {
   "cell_type": "code",
   "execution_count": 99,
   "id": "d88ff527",
   "metadata": {},
   "outputs": [
    {
     "name": "stdout",
     "output_type": "stream",
     "text": [
      "Original Array: \n",
      " [[3 2 6]\n",
      " [4 9 1]\n",
      " [4 7 4]]\n"
     ]
    }
   ],
   "source": [
    "#5.1\n",
    "array = np.random.randint(1,11,size=(3,3))\n",
    "print(\"Original Array: \\n\",array)"
   ]
  },
  {
   "cell_type": "code",
   "execution_count": 101,
   "metadata": {},
   "outputs": [
    {
     "name": "stdout",
     "output_type": "stream",
     "text": [
      "[4 6 2]\n"
     ]
    }
   ],
   "source": [
    "row_array = np.random.randint(1,11,size=(3,))\n",
    "print(row_array)"
   ]
  },
  {
   "cell_type": "code",
   "execution_count": 103,
   "id": "572d2fc6",
   "metadata": {},
   "outputs": [
    {
     "name": "stdout",
     "output_type": "stream",
     "text": [
      "[[ 7  8  8]\n",
      " [ 8 15  3]\n",
      " [ 8 13  6]]\n"
     ]
    }
   ],
   "source": [
    "result = array + row_array\n",
    "print(result)"
   ]
  },
  {
   "cell_type": "code",
   "execution_count": 105,
   "id": "aa7766f7",
   "metadata": {},
   "outputs": [
    {
     "name": "stdout",
     "output_type": "stream",
     "text": [
      "Original Array:\n",
      " [[7 2 4 9]\n",
      " [6 6 1 9]\n",
      " [7 1 7 3]\n",
      " [4 5 3 9]]\n"
     ]
    }
   ],
   "source": [
    "#5.2\n",
    "array = np.random.randint(1,10,size=(4,4))\n",
    "print(\"Original Array:\\n\",array)"
   ]
  },
  {
   "cell_type": "code",
   "execution_count": 106,
   "id": "4488d69f",
   "metadata": {},
   "outputs": [
    {
     "name": "stdout",
     "output_type": "stream",
     "text": [
      "Column :\n",
      " [4 9 6 1]\n"
     ]
    }
   ],
   "source": [
    "col_sub = np.random.randint(1,11,size=(4,))\n",
    "print(\"Column :\\n\",col_sub)"
   ]
  },
  {
   "cell_type": "code",
   "execution_count": 107,
   "id": "1686ddea",
   "metadata": {},
   "outputs": [
    {
     "name": "stdout",
     "output_type": "stream",
     "text": [
      "result: \n",
      " [[ 3 -7 -2  8]\n",
      " [ 2 -3 -5  8]\n",
      " [ 3 -8  1  2]\n",
      " [ 0 -4 -3  8]]\n"
     ]
    }
   ],
   "source": [
    "result = array - col_sub\n",
    "print(\"result: \\n\",result)"
   ]
  },
  {
   "cell_type": "markdown",
   "id": "66b9d305",
   "metadata": {},
   "source": [
    "#### Determinant\n",
    "What it is: A single number that summarizes certain properties of a square matrix.\n",
    "Meaning:\n",
    "If determinant = 0 → the matrix is singular (no inverse exists).\n",
    "If determinant ≠ 0 → the matrix is invertible.\n",
    "Formula example (2×2 matrix):\n",
    "matrix = ad - bc\n",
    "\n",
    "#### Inverse\n",
    "What it is: Another matrix that, when multiplied with the original, gives the identity matrix.\n",
    "Exists only if: The determinant is non-zero.\n",
    "Property:\n",
    "A*A^{-1} = I\n",
    "\n",
    "####  Eigenvalues (and Eigenvectors)\n",
    "What they are:\n",
    "Eigenvalues tell you how much a transformation stretches or compresses along certain directions.\n",
    "Eigenvectors are those special directions that don’t change orientation when the transformation is applied.\n",
    "Equation:\n",
    "A.v = lambda.v\n",
    "Where:\n",
    "v is the eigenvector\n",
    "lambda is the eigenvalue"
   ]
  },
  {
   "cell_type": "code",
   "execution_count": 109,
   "id": "8c3a3bd2",
   "metadata": {},
   "outputs": [
    {
     "name": "stdout",
     "output_type": "stream",
     "text": [
      "Original Matrix: \n",
      " [[5 3 7]\n",
      " [3 2 8]\n",
      " [2 7 9]]\n"
     ]
    }
   ],
   "source": [
    "#6.1\n",
    "matrix = np.random.randint(1,11,size=(3,3))\n",
    "print(\"Original Matrix: \\n\", matrix)"
   ]
  },
  {
   "cell_type": "code",
   "execution_count": 110,
   "id": "f8d06b09",
   "metadata": {},
   "outputs": [
    {
     "name": "stdout",
     "output_type": "stream",
     "text": [
      "Determinant: \n",
      " -103.99999999999999\n"
     ]
    }
   ],
   "source": [
    "#determinant\n",
    "determinant = np.linalg.det(matrix)\n",
    "print(\"Determinant: \\n\", determinant)\n"
   ]
  },
  {
   "cell_type": "code",
   "execution_count": 111,
   "id": "b2e6b479",
   "metadata": {},
   "outputs": [
    {
     "name": "stdout",
     "output_type": "stream",
     "text": [
      "Inverse: \n",
      " [[ 0.36538462 -0.21153846 -0.09615385]\n",
      " [ 0.10576923 -0.29807692  0.18269231]\n",
      " [-0.16346154  0.27884615 -0.00961538]]\n"
     ]
    }
   ],
   "source": [
    "#Compute the inverse\n",
    "inverse = np.linalg.inv(matrix)\n",
    "print(\"Inverse: \\n\", inverse)\n"
   ]
  },
  {
   "cell_type": "code",
   "execution_count": 112,
   "id": "a1189bb8",
   "metadata": {},
   "outputs": [
    {
     "name": "stdout",
     "output_type": "stream",
     "text": [
      "EigenValues: \n",
      " [15.96786798  2.56819023 -2.53605821]\n"
     ]
    }
   ],
   "source": [
    "#Compute the eigenValues\n",
    "eigenvalues = np.linalg.eigvals(matrix)\n",
    "print(\"EigenValues: \\n\", eigenvalues)\n"
   ]
  },
  {
   "cell_type": "code",
   "execution_count": null,
   "id": "361f29e8",
   "metadata": {},
   "outputs": [
    {
     "name": "stdout",
     "output_type": "stream",
     "text": [
      "[[3 3 5]\n",
      " [8 4 5]]\n",
      "[[ 1  5]\n",
      " [ 1  2]\n",
      " [10  4]]\n"
     ]
    }
   ],
   "source": [
    "#6.2\n",
    "arr1 = np.random.randint(1,11,size=(2,3))\n",
    "arr2 = np.random.randint(1,11,size=(3,2))\n",
    "print(arr1)\n",
    "print(arr2)"
   ]
  },
  {
   "cell_type": "code",
   "execution_count": 115,
   "id": "e4b1c647",
   "metadata": {},
   "outputs": [
    {
     "name": "stdout",
     "output_type": "stream",
     "text": [
      "Result: \n",
      " [[56 41]\n",
      " [62 68]]\n"
     ]
    }
   ],
   "source": [
    "result = np.dot(arr1,arr2)\n",
    "print(\"Result: \\n\",result)\n"
   ]
  },
  {
   "cell_type": "code",
   "execution_count": 117,
   "id": "c59e7c85",
   "metadata": {},
   "outputs": [
    {
     "name": "stdout",
     "output_type": "stream",
     "text": [
      "Original Array: \n",
      " [[1 2 3]\n",
      " [4 5 6]\n",
      " [7 8 9]]\n"
     ]
    }
   ],
   "source": [
    "#7.1\n",
    "array = np.arange(1,10).reshape(3,3)\n",
    "print(\"Original Array: \\n\",array)"
   ]
  },
  {
   "cell_type": "code",
   "execution_count": 119,
   "id": "63c9dbe1",
   "metadata": {},
   "outputs": [
    {
     "name": "stdout",
     "output_type": "stream",
     "text": [
      "[[1 2 3 4 5 6 7 8 9]]\n",
      "[[1]\n",
      " [2]\n",
      " [3]\n",
      " [4]\n",
      " [5]\n",
      " [6]\n",
      " [7]\n",
      " [8]\n",
      " [9]]\n"
     ]
    }
   ],
   "source": [
    "print(array.reshape(1,9))\n",
    "print(array.reshape(9,1))"
   ]
  },
  {
   "cell_type": "code",
   "execution_count": null,
   "id": "253ac310",
   "metadata": {},
   "outputs": [
    {
     "name": "stdout",
     "output_type": "stream",
     "text": [
      "ORiginal Array: \n",
      " [[ 8  3 16 15 10]\n",
      " [ 4  7  3 20 17]\n",
      " [14  5 15  2 14]\n",
      " [ 8 16  3  4 11]\n",
      " [ 9  3 16 20 13]]\n"
     ]
    }
   ],
   "source": [
    "#7.2\n",
    "array = np.random.randint(1,21,size=(5,5))\n",
    "print(\"ORiginal Array: \\n\",array)"
   ]
  },
  {
   "cell_type": "code",
   "execution_count": 121,
   "id": "91bfc5e7",
   "metadata": {},
   "outputs": [
    {
     "name": "stdout",
     "output_type": "stream",
     "text": [
      "FLatten Array: \n",
      " [ 8  3 16 15 10  4  7  3 20 17 14  5 15  2 14  8 16  3  4 11  9  3 16 20\n",
      " 13]\n"
     ]
    }
   ],
   "source": [
    "array_flatten = array.flatten()\n",
    "print(\"FLatten Array: \\n\",array_flatten)"
   ]
  },
  {
   "cell_type": "code",
   "execution_count": 122,
   "id": "a5b6ae9d",
   "metadata": {},
   "outputs": [
    {
     "name": "stdout",
     "output_type": "stream",
     "text": [
      "[[ 8  3 16 15 10]\n",
      " [ 4  7  3 20 17]\n",
      " [14  5 15  2 14]\n",
      " [ 8 16  3  4 11]\n",
      " [ 9  3 16 20 13]]\n"
     ]
    }
   ],
   "source": [
    "print(array_flatten.reshape(5,5))"
   ]
  },
  {
   "cell_type": "code",
   "execution_count": 136,
   "id": "a90ba9db",
   "metadata": {},
   "outputs": [
    {
     "name": "stdout",
     "output_type": "stream",
     "text": [
      "ORiginal Array: \n",
      " [[ 1 11  5 15 20]\n",
      " [16 19  8  6 20]\n",
      " [10 12  6  9 18]\n",
      " [13  4 11  3  2]\n",
      " [17  5 20 17  4]]\n"
     ]
    }
   ],
   "source": [
    "#8.1\n",
    "array = np.random.randint(1,21,size=(5,5))\n",
    "print(\"ORiginal Array: \\n\",array)"
   ]
  },
  {
   "cell_type": "code",
   "execution_count": 144,
   "id": "eacbde1d",
   "metadata": {},
   "outputs": [
    {
     "name": "stdout",
     "output_type": "stream",
     "text": [
      "[ 1 20 17  4]\n"
     ]
    }
   ],
   "source": [
    "array_corner = array[[0,0,-1,-1],[0,-1,0,-1]]\n",
    "print(array_corner)"
   ]
  },
  {
   "cell_type": "code",
   "execution_count": 145,
   "id": "fe757df9",
   "metadata": {},
   "outputs": [
    {
     "name": "stdout",
     "output_type": "stream",
     "text": [
      "ORiginal Array: \n",
      " [[ 5 16  9  8]\n",
      " [20  4 19 13]\n",
      " [ 7  4  2  2]\n",
      " [16 20  5 14]]\n"
     ]
    }
   ],
   "source": [
    "#8.2\n",
    "array = np.random.randint(1,21,size=(4,4))\n",
    "print(\"ORiginal Array: \\n\",array)"
   ]
  },
  {
   "cell_type": "code",
   "execution_count": 146,
   "id": "92c5cbef",
   "metadata": {},
   "outputs": [
    {
     "data": {
      "text/plain": [
       "array([[ 5, 10,  9,  8],\n",
       "       [10,  4, 10, 10],\n",
       "       [ 7,  4,  2,  2],\n",
       "       [10, 10,  5, 10]])"
      ]
     },
     "execution_count": 146,
     "metadata": {},
     "output_type": "execute_result"
    }
   ],
   "source": [
    "array[array > 10] = 10\n",
    "array"
   ]
  },
  {
   "cell_type": "code",
   "execution_count": 149,
   "id": "aa4c328f",
   "metadata": {},
   "outputs": [
    {
     "data": {
      "text/plain": [
       "array([('Alan', 25, 200.), ('Jenifer', 23, 120.), ('Makuto', 18,  90.)],\n",
       "      dtype=[('name', '<U10'), ('age', '<i4'), ('weight', '<f4')])"
      ]
     },
     "execution_count": 149,
     "metadata": {},
     "output_type": "execute_result"
    }
   ],
   "source": [
    "#9.1\n",
    "\n",
    "#define datatype\n",
    "data_type = [('name','U10'),('age','i4'),('weight','f4')]\n",
    "data = np.array([('Alan',25,200),('Jenifer',23,120),('Makuto',18,90)],dtype=data_type)\n",
    "data"
   ]
  },
  {
   "cell_type": "code",
   "execution_count": 151,
   "id": "cdb142c7",
   "metadata": {},
   "outputs": [
    {
     "data": {
      "text/plain": [
       "array([('Makuto', 18,  90.), ('Jenifer', 23, 120.), ('Alan', 25, 200.)],\n",
       "      dtype=[('name', '<U10'), ('age', '<i4'), ('weight', '<f4')])"
      ]
     },
     "execution_count": 151,
     "metadata": {},
     "output_type": "execute_result"
    }
   ],
   "source": [
    "sorted_array = np.sort(data,order='age')\n",
    "sorted_array"
   ]
  },
  {
   "cell_type": "code",
   "execution_count": 152,
   "id": "fa941c84",
   "metadata": {},
   "outputs": [
    {
     "data": {
      "text/plain": [
       "array([(1, 2), (3, 4), (5, 6)], dtype=[('x', '<i4'), ('y', '<i4')])"
      ]
     },
     "execution_count": 152,
     "metadata": {},
     "output_type": "execute_result"
    }
   ],
   "source": [
    "data_type = [('x','i4'),('y','i4')]\n",
    "data = np.array([(1,2),(3,4),(5,6)], dtype = data_type)\n",
    "data"
   ]
  },
  {
   "cell_type": "code",
   "execution_count": 153,
   "id": "d71aff2d",
   "metadata": {},
   "outputs": [
    {
     "data": {
      "text/plain": [
       "array([[0.        , 2.82842712, 5.65685425],\n",
       "       [2.82842712, 0.        , 2.82842712],\n",
       "       [5.65685425, 2.82842712, 0.        ]])"
      ]
     },
     "execution_count": 153,
     "metadata": {},
     "output_type": "execute_result"
    }
   ],
   "source": [
    "#Euclidean distance is the straight-line distance between two points in space — the same way you’d measure with a ruler.\n",
    "distances = np.sqrt((data['x'][:, np.newaxis] - data['x'])**2 + (data['y'][:, np.newaxis] - data['y'])**2)\n",
    "distances"
   ]
  },
  {
   "cell_type": "code",
   "execution_count": 159,
   "id": "04e6614c",
   "metadata": {},
   "outputs": [
    {
     "name": "stdout",
     "output_type": "stream",
     "text": [
      "original Array: \n",
      " [[ 8  3 12  1]\n",
      " [ 6 20  8 18]\n",
      " [ 5 15 18 17]\n",
      " [20 10  9  8]]\n",
      "Maksed Array: \n",
      " [[8 3 -- 1]\n",
      " [6 -- 8 --]\n",
      " [5 -- -- --]\n",
      " [-- 10 9 8]]\n"
     ]
    }
   ],
   "source": [
    "#10.1\n",
    "import numpy.ma as ma\n",
    "array = np.random.randint(1,21,size=(4,4))\n",
    "masked_array = ma.masked_greater(array,10)\n",
    "print(\"original Array: \\n\",array)\n",
    "print(\"Maksed Array: \\n\",masked_array)"
   ]
  },
  {
   "cell_type": "code",
   "execution_count": 166,
   "id": "96e1f65c",
   "metadata": {},
   "outputs": [
    {
     "name": "stdout",
     "output_type": "stream",
     "text": [
      "Original array: \n",
      " [[20 18 13]\n",
      " [ 5  7 13]\n",
      " [ 6  1  1]]\n"
     ]
    }
   ],
   "source": [
    "#10.2\n",
    "array = np.random.randint(1,21,size=(3,3))\n",
    "print(\"Original array: \\n\",array)"
   ]
  },
  {
   "cell_type": "code",
   "execution_count": 167,
   "id": "79a327d6",
   "metadata": {},
   "outputs": [
    {
     "data": {
      "text/plain": [
       "masked_array(\n",
       "  data=[[--, 18, 13],\n",
       "        [5, --, 13],\n",
       "        [6, 1, --]],\n",
       "  mask=[[ True, False, False],\n",
       "        [False,  True, False],\n",
       "        [False, False,  True]],\n",
       "  fill_value=999999)"
      ]
     },
     "execution_count": 167,
     "metadata": {},
     "output_type": "execute_result"
    }
   ],
   "source": [
    "masked_array = ma.masked_array(array, mask=np.eye(3, dtype=bool))\n",
    "masked_array"
   ]
  },
  {
   "cell_type": "code",
   "execution_count": 168,
   "id": "9dfafe66",
   "metadata": {},
   "outputs": [
    {
     "name": "stdout",
     "output_type": "stream",
     "text": [
      "[[ 9 18 13]\n",
      " [ 5  9 13]\n",
      " [ 6  1  9]]\n"
     ]
    }
   ],
   "source": [
    "mean_unmasked= masked_array.mean()\n",
    "masked_array = masked_array.filled(mean_unmasked)\n",
    "print(masked_array)"
   ]
  },
  {
   "cell_type": "code",
   "execution_count": null,
   "id": "ac493b68",
   "metadata": {},
   "outputs": [],
   "source": []
  }
 ],
 "metadata": {
  "kernelspec": {
   "display_name": "base",
   "language": "python",
   "name": "python3"
  },
  "language_info": {
   "codemirror_mode": {
    "name": "ipython",
    "version": 3
   },
   "file_extension": ".py",
   "mimetype": "text/x-python",
   "name": "python",
   "nbconvert_exporter": "python",
   "pygments_lexer": "ipython3",
   "version": "3.13.5"
  }
 },
 "nbformat": 4,
 "nbformat_minor": 5
}
