{
 "cells": [
  {
   "cell_type": "markdown",
   "id": "6cade624",
   "metadata": {},
   "source": [
    "# Module 3: Data Structures Assignments\n",
    "## Lesson 3.2: Tuples\n",
    "### Assignment 1: Creating and Accessing Tuples\n",
    "\n",
    "Create a tuple with the first 10 positive integers. Print the tuple.\n",
    "\n",
    "### Assignment 2: Accessing Tuple Elements\n",
    "\n",
    "Print the first, middle, and last elements of the tuple created in Assignment 1.\n",
    "\n",
    "### Assignment 3: Tuple Slicing\n",
    "\n",
    "Print the first three elements, the last three elements, and the elements from index 2 to 5 of the tuple created in Assignment 1.\n",
    "\n",
    "### Assignment 4: Nested Tuples\n",
    "\n",
    "Create a nested tuple representing a 3x3 matrix and print the matrix. Access and print the element at the second row and third column.\n",
    "\n",
    "### Assignment 5: Tuple Concatenation\n",
    "\n",
    "Concatenate two tuples: (1, 2, 3) and (4, 5, 6). Print the resulting tuple.\n",
    "\n",
    "### Assignment 6: Tuple Methods\n",
    "\n",
    "Create a tuple with duplicate elements and count the occurrences of an element. Find the index of the first occurrence of an element in the tuple.\n",
    "\n",
    "### Assignment 7: Unpacking Tuples\n",
    "\n",
    "Create a tuple with 5 elements and unpack it into 5 variables. Print the variables.\n",
    "\n",
    "### Assignment 8: Tuple Conversion\n",
    "\n",
    "Convert a list of the first 5 positive integers to a tuple. Print the tuple.\n",
    "\n",
    "### Assignment 9: Tuple of Tuples\n",
    "\n",
    "Create a tuple containing 3 tuples, each with 3 elements. Print the tuple of tuples.\n",
    "\n",
    "### Assignment 10: Tuple and List\n",
    "\n",
    "Create a tuple with the first 5 positive integers. Convert it to a list, append the number 6, and convert it back to a tuple. Print the resulting tuple.\n",
    "\n",
    "### Assignment 11: Tuple and String\n",
    "\n",
    "Create a tuple with the characters of a string. Join the tuple elements into a single string. Print the string.\n",
    "\n",
    "### Assignment 12: Tuple and Dictionary\n",
    "\n",
    "Create a dictionary with tuple keys and integer values. Print the dictionary.\n",
    "\n",
    "### Assignment 13: Nested Tuple Iteration\n",
    "\n",
    "Create a nested tuple and iterate over the elements, printing each element.\n",
    "\n",
    "### Assignment 14: Tuple and Set\n",
    "\n",
    "Create a tuple with duplicate elements. Convert it to a set to remove duplicates and print the resulting set.\n",
    "\n",
    "### Assignment 15: Tuple Functions\n",
    "\n",
    "Write functions that take a tuple and return the minimum, maximum, and sum of the elements. Print the results for a sample tuple."
   ]
  },
  {
   "cell_type": "code",
   "execution_count": 4,
   "id": "b988e7cc",
   "metadata": {},
   "outputs": [
    {
     "name": "stdout",
     "output_type": "stream",
     "text": [
      "(1, 2, 3, 4, 5, 6, 7, 8, 9, 10) <class 'tuple'>\n"
     ]
    }
   ],
   "source": [
    "## Assignment 1: Creating and Accessing Tuples\n",
    "##Create a tuple with the first 10 positive integers. Print the tuple.\n",
    "positive_tuple = (1,2,3,4,5,6,7,8,9,10)\n",
    "print(positive_tuple,type(positive_tuple))"
   ]
  },
  {
   "cell_type": "code",
   "execution_count": 5,
   "metadata": {},
   "outputs": [
    {
     "name": "stdout",
     "output_type": "stream",
     "text": [
      "1\n",
      "[2, 3, 4, 5, 6, 7, 8, 9]\n",
      "10\n"
     ]
    }
   ],
   "source": [
    "## Assignment 2: Accessing Tuple Elements\n",
    "##Print the first, middle, and last elements of the tuple created in Assignment 1.\n",
    "\n",
    "first,*middle,last = positive_tuple\n",
    "print(first)\n",
    "print(middle)\n",
    "print(last)"
   ]
  },
  {
   "cell_type": "code",
   "execution_count": 6,
   "id": "f891fdbb",
   "metadata": {},
   "outputs": [
    {
     "name": "stdout",
     "output_type": "stream",
     "text": [
      "(1, 2, 3)\n",
      "(8, 9, 10)\n",
      "(3, 4, 5, 6)\n"
     ]
    }
   ],
   "source": [
    "## Assignment 3: Tuple Slicing\n",
    "##Print the first three elements, the last three elements, and the elements from index 2 to 5 of the tuple created in Assignment 1.\n",
    "print(positive_tuple[:3])\n",
    "print(positive_tuple[-3:])\n",
    "print(positive_tuple[2:6])"
   ]
  },
  {
   "cell_type": "code",
   "execution_count": 7,
   "id": "0309d87c",
   "metadata": {},
   "outputs": [
    {
     "name": "stdout",
     "output_type": "stream",
     "text": [
      "6\n"
     ]
    }
   ],
   "source": [
    "## Assignment 4: Nested Tuples\n",
    "##Create a nested tuple representing a 3x3 matrix and print the matrix. Access and print the element at the second row and third column.\n",
    "nested_tuple = ((1,2,3),(4,5,6),(7,8,9))\n",
    "print(nested_tuple[1][2])"
   ]
  },
  {
   "cell_type": "code",
   "execution_count": 8,
   "id": "08751952",
   "metadata": {},
   "outputs": [
    {
     "name": "stdout",
     "output_type": "stream",
     "text": [
      "(1, 2, 3, 4, 5, 6)\n"
     ]
    }
   ],
   "source": [
    "## Assignment 5: Tuple Concatenation\n",
    "##Concatenate two tuples: (1, 2, 3) and (4, 5, 6). Print the resulting tuple.\n",
    "tup1 = (1,2,3)\n",
    "tup2 = (4,5,6)\n",
    "concat_tup = tup1 + tup2\n",
    "print(concat_tup)"
   ]
  },
  {
   "cell_type": "code",
   "execution_count": 11,
   "id": "37f265a2",
   "metadata": {},
   "outputs": [
    {
     "name": "stdout",
     "output_type": "stream",
     "text": [
      "3\n",
      "1\n"
     ]
    }
   ],
   "source": [
    "## Assignment 6: Tuple Methods\n",
    "##Create a tuple with duplicate elements and count the occurrences of an element. Find the index of the first occurrence of an element in the tuple.\n",
    "dup_tuple = (1,2,3,5,3,2,6,7,8,4,6,2)\n",
    "print(dup_tuple.count(2))\n",
    "print(dup_tuple.index(2))\n"
   ]
  },
  {
   "cell_type": "code",
   "execution_count": 12,
   "id": "efbd7cd0",
   "metadata": {},
   "outputs": [
    {
     "name": "stdout",
     "output_type": "stream",
     "text": [
      "1\n",
      "Hello\n",
      "3.14\n",
      "True\n",
      "(2, False)\n"
     ]
    }
   ],
   "source": [
    "## Assignment 7: Unpacking Tuples\n",
    "##Create a tuple with 5 elements and unpack it into 5 variables. Print the variables.\n",
    "tuples = (1, \"Hello\", 3.14, True, (2,False))\n",
    "a,b,c,d,e = tuples\n",
    "print(a)\n",
    "print(b)\n",
    "print(c)\n",
    "print(d)\n",
    "print(e)"
   ]
  },
  {
   "cell_type": "code",
   "execution_count": 14,
   "id": "965fa6d4",
   "metadata": {},
   "outputs": [
    {
     "name": "stdout",
     "output_type": "stream",
     "text": [
      "[1, 2, 3, 4, 5] <class 'list'>\n",
      "(1, 2, 3, 4, 5) <class 'tuple'>\n"
     ]
    }
   ],
   "source": [
    "## Assignment 8: Tuple Conversion\n",
    "##Convert a list of the first 5 positive integers to a tuple. Print the tuple.\n",
    "\n",
    "lst = [1,2,3,4,5]\n",
    "print(lst,type(lst))\n",
    "\n",
    "pos_int = tuple(lst)\n",
    "print(pos_int,type((pos_int)))"
   ]
  },
  {
   "cell_type": "code",
   "execution_count": 16,
   "id": "ad8eb4c2",
   "metadata": {},
   "outputs": [
    {
     "name": "stdout",
     "output_type": "stream",
     "text": [
      "((1, 2, 3), (4, 5, 6), (7, 8, 9))\n"
     ]
    }
   ],
   "source": [
    "## Assignment 9: Tuple of Tuples\n",
    "##Create a tuple containing 3 tuples, each with 3 elements. Print the tuple of tuples.\n",
    "tup = ((1,2,3),(4,5,6),(7,8,9))\n",
    "print(tup)"
   ]
  },
  {
   "cell_type": "code",
   "execution_count": 23,
   "id": "7a18858d",
   "metadata": {},
   "outputs": [
    {
     "name": "stdout",
     "output_type": "stream",
     "text": [
      "(1, 2, 3, 4, 5) <class 'tuple'>\n",
      "[1, 2, 3, 4, 5] <class 'list'>\n",
      "[1, 2, 3, 4, 5, 6]\n",
      "(1, 2, 3, 4, 5, 6) <class 'tuple'>\n"
     ]
    }
   ],
   "source": [
    "## Assignment 10: Tuple and List\n",
    "##Create a tuple with the first 5 positive integers. Convert it to a list, append the number 6, and convert it back to a tuple. Print the resulting tuple.\n",
    "tuples = (1,2,3,4,5)\n",
    "print(tuples,type(tuples))\n",
    "\n",
    "convert_list = list(tuples)\n",
    "print(convert_list,type(convert_list))\n",
    "convert_list.append(6)\n",
    "print(convert_list)\n",
    "\n",
    "tuples = tuple(convert_list)\n",
    "print(tuples,type(tuples))\n"
   ]
  },
  {
   "cell_type": "code",
   "execution_count": 27,
   "id": "767e81b9",
   "metadata": {},
   "outputs": [
    {
     "name": "stdout",
     "output_type": "stream",
     "text": [
      "('S', 'r', 'i', ' ', 'K', 'a', 'u', 's', 'h', 'i', 'k')\n",
      "Sri Kaushik\n"
     ]
    }
   ],
   "source": [
    "## Assignment 11: Tuple and String\n",
    "##Create a tuple with the characters of a string. Join the tuple elements into a single string. Print the string.\n",
    "char_tuples = ('S','r','i',' ', 'K','a','u','s','h','i','k')\n",
    "print(char_tuples)\n",
    "\n",
    "str_tuples = ''.join(char_tuples)\n",
    "print(str_tuples)"
   ]
  },
  {
   "cell_type": "code",
   "execution_count": 28,
   "metadata": {},
   "outputs": [
    {
     "name": "stdout",
     "output_type": "stream",
     "text": [
      "({'key1': 1}, {'key2': 2}, {'key3': 3}) <class 'tuple'>\n"
     ]
    }
   ],
   "source": [
    "## Assignment 12: Tuple and Dictionary\n",
    "##Create a dictionary with tuple keys and integer values. Print the dictionary.\n",
    "dictionary = ({'key1' : 1},{'key2' : 2},{'key3': 3})\n",
    "print(dictionary,type(dictionary))\n"
   ]
  },
  {
   "cell_type": "code",
   "execution_count": 29,
   "metadata": {},
   "outputs": [
    {
     "name": "stdout",
     "output_type": "stream",
     "text": [
      "1\n",
      "2\n",
      "3\n",
      "4\n",
      "5\n",
      "6\n",
      "7\n",
      "8\n",
      "9\n"
     ]
    }
   ],
   "source": [
    "## Assignment 13: Nested Tuple Iteration\n",
    "##Create a nested tuple and iterate over the elements, printing each element.\n",
    "nested_tuple = ((1,2,3),(4,5,6),(7,8,9))\n",
    "for sub_tuple in nested_tuple:\n",
    "    for item in sub_tuple:\n",
    "        print(item)\n"
   ]
  },
  {
   "cell_type": "code",
   "execution_count": 30,
   "id": "d9ec35fb",
   "metadata": {},
   "outputs": [
    {
     "name": "stdout",
     "output_type": "stream",
     "text": [
      "{1, 2, 3, 5, 6, 7}\n"
     ]
    }
   ],
   "source": [
    "## Assignment 14: Tuple and Set\n",
    "##Create a tuple with duplicate elements. Convert it to a set to remove duplicates and print the resulting set.\n",
    "dup_tuple = (1,2,3,2,2,1,6,7,5,6,7)\n",
    "result_tuple = set(dup_tuple)\n",
    "print(result_tuple)\n"
   ]
  },
  {
   "cell_type": "code",
   "execution_count": 32,
   "id": "e505a21b",
   "metadata": {},
   "outputs": [
    {
     "name": "stdout",
     "output_type": "stream",
     "text": [
      "1\n",
      "9\n",
      "45\n"
     ]
    }
   ],
   "source": [
    "## Assignment 15: Tuple Functions\n",
    "##Write functions that take a tuple and return the minimum, maximum, and sum of the elements. Print the results for a sample tuple.\n",
    "def min_tuple(sample_tuples):\n",
    "    return min(sample_tuples)\n",
    "def max_tuple(sample_tuples):\n",
    "    return max(sample_tuples)\n",
    "def sum_tuple(sample_tuples):\n",
    "    return sum(sample_tuples)\n",
    "\n",
    "sample = (1,2,3,4,5,6,7,8,9)\n",
    "\n",
    "print(min_tuple(sample))\n",
    "print(max_tuple(sample))\n",
    "print(sum_tuple(sample))"
   ]
  },
  {
   "cell_type": "code",
   "execution_count": null,
   "id": "a1c0e4c3",
   "metadata": {},
   "outputs": [],
   "source": []
  },
  {
   "cell_type": "code",
   "execution_count": null,
   "id": "de2cb93c",
   "metadata": {},
   "outputs": [],
   "source": []
  },
  {
   "cell_type": "code",
   "execution_count": null,
   "id": "1641b6d9",
   "metadata": {},
   "outputs": [],
   "source": []
  },
  {
   "cell_type": "code",
   "execution_count": null,
   "id": "8b6dcca0",
   "metadata": {},
   "outputs": [],
   "source": []
  },
  {
   "cell_type": "code",
   "execution_count": null,
   "id": "5861ab37",
   "metadata": {},
   "outputs": [],
   "source": []
  },
  {
   "cell_type": "code",
   "execution_count": null,
   "id": "5fca003e",
   "metadata": {},
   "outputs": [],
   "source": []
  },
  {
   "cell_type": "code",
   "execution_count": null,
   "id": "4b121248",
   "metadata": {},
   "outputs": [],
   "source": []
  },
  {
   "cell_type": "code",
   "execution_count": null,
   "id": "4f6fc78c",
   "metadata": {},
   "outputs": [],
   "source": []
  },
  {
   "cell_type": "code",
   "execution_count": null,
   "id": "a7c8f6f1",
   "metadata": {},
   "outputs": [],
   "source": []
  },
  {
   "cell_type": "code",
   "execution_count": null,
   "metadata": {},
   "outputs": [],
   "source": []
  }
 ],
 "metadata": {
  "kernelspec": {
   "display_name": "Python 3",
   "language": "python",
   "name": "python3"
  },
  "language_info": {
   "codemirror_mode": {
    "name": "ipython",
    "version": 3
   },
   "file_extension": ".py",
   "mimetype": "text/x-python",
   "name": "python",
   "nbconvert_exporter": "python",
   "pygments_lexer": "ipython3",
   "version": "3.12.11"
  }
 },
 "nbformat": 4,
 "nbformat_minor": 5
}
