{
 "cells": [
  {
   "cell_type": "markdown",
   "metadata": {},
   "source": [
    "# Module: Inheritance Assignments\n",
    "## Lesson: Single and Multiple Inheritance\n",
    "### Assignment 1: Single Inheritance Basic\n",
    "\n",
    "Create a base class named `Animal` with attributes `name` and `species`. Create a derived class named `Dog` that inherits from `Animal` and adds an attribute `breed`. Create an object of the `Dog` class and print its attributes.\n",
    "\n",
    "### Assignment 2: Method Overriding in Single Inheritance\n",
    "\n",
    "In the `Dog` class, override the `__str__` method to return a string representation of the object. Create an object of the class and print it.\n",
    "\n",
    "### Assignment 3: Single Inheritance with Additional Methods\n",
    "\n",
    "In the `Dog` class, add a method named `bark` that prints a barking sound. Create an object of the class and call the method.\n",
    "\n",
    "### Assignment 4: Multiple Inheritance Basic\n",
    "\n",
    "Create a base class named `Walker` with a method `walk` that prints a walking message. Create another base class named `Runner` with a method `run` that prints a running message. Create a derived class named `Athlete` that inherits from both `Walker` and `Runner`. Create an object of the `Athlete` class and call both methods.\n",
    "\n",
    "### Assignment 5: Method Resolution Order (MRO) in Multiple Inheritance\n",
    "\n",
    "In the `Athlete` class, override the `walk` method to print a different message. Create an object of the class and call the `walk` method. Use the `super()` function to call the `walk` method of the `Walker` class.\n",
    "\n",
    "### Assignment 6: Multiple Inheritance with Additional Attributes\n",
    "\n",
    "In the `Athlete` class, add an attribute `training_hours` and a method `train` that prints the training hours. Create an object of the class and call the method.\n",
    "\n",
    "### Assignment 7: Diamond Problem in Multiple Inheritance\n",
    "\n",
    "Create a class named `A` with a method `show` that prints a message. Create two derived classes `B` and `C` that inherit from `A` and override the `show` method. Create a class `D` that inherits from both `B` and `C`. Create an object of the `D` class and call the `show` method. Observe the method resolution order.\n",
    "\n",
    "### Assignment 8: Using `super()` in Single Inheritance\n",
    "\n",
    "Create a base class named `Shape` with an attribute `color`. Create a derived class named `Circle` that inherits from `Shape` and adds an attribute `radius`. Use the `super()` function to initialize the attributes. Create an object of the `Circle` class and print its attributes.\n",
    "\n",
    "### Assignment 9: Using `super()` in Multiple Inheritance\n",
    "\n",
    "Create a class named `Person` with an attribute `name`. Create a class named `Employee` with an attribute `employee_id`. Create a derived class `Manager` that inherits from both `Person` and `Employee`. Use the `super()` function to initialize the attributes. Create an object of the `Manager` class and print its attributes.\n",
    "\n",
    "### Assignment 10: Method Overriding and `super()`\n",
    "\n",
    "Create a class named `Vehicle` with a method `start` that prints a starting message. Create a derived class `Car` that overrides the `start` method to print a different message. Use the `super()` function to call the `start` method of the `Vehicle` class. Create an object of the `Car` class and call the `start` method.\n",
    "\n",
    "### Assignment 11: Multiple Inheritance with Different Methods\n",
    "\n",
    "Create a class named `Flyer` with a method `fly` that prints a flying message. Create a class named `Swimmer` with a method `swim` that prints a swimming message. Create a derived class `Superhero` that inherits from both `Flyer` and `Swimmer`. Create an object of the `Superhero` class and call both methods.\n",
    "\n",
    "### Assignment 12: Complex Multiple Inheritance\n",
    "\n",
    "Create a class named `Base1` with an attribute `a`. Create a class named `Base2` with an attribute `b`. Create a class named `Derived` that inherits from both `Base1` and `Base2` and adds an attribute `c`. Initialize all attributes using the `super()` function. Create an object of the `Derived` class and print its attributes.\n",
    "\n",
    "### Assignment 13: Checking Instance Types with Inheritance\n",
    "\n",
    "Create a base class named `Animal` and a derived class named `Cat`. Create objects of both classes and use the `isinstance` function to check the instance types.\n",
    "\n",
    "### Assignment 14: Polymorphism with Inheritance\n",
    "\n",
    "Create a base class named `Bird` with a method `speak`. Create two derived classes `Parrot` and `Penguin` that override the `speak` method. Create a list of `Bird` objects and call the `speak` method on each object to demonstrate polymorphism.\n",
    "\n",
    "### Assignment 15: Combining Single and Multiple Inheritance\n",
    "\n",
    "Create a base class named `Device` with an attribute `brand`. Create a derived class `Phone` that inherits from `Device` and adds an attribute `model`. Create another base class `Camera` with an attribute `resolution`. Create a derived class `Smartphone` that inherits from both `Phone` and `Camera`. Create an object of the `Smartphone` class and print its attributes."
   ]
  },
  {
   "cell_type": "code",
   "execution_count": 8,
   "id": "4b10afe8",
   "metadata": {},
   "outputs": [
    {
     "name": "stdout",
     "output_type": "stream",
     "text": [
      "Animal name is Bruce and type is Dog\n",
      "None\n",
      "Dog name is Bruce and type is Dog and breed is PitBull\n"
     ]
    }
   ],
   "source": [
    "#1\n",
    "#Base Class:\n",
    "class Animal:\n",
    "    def __init__(self,name,species):\n",
    "        self.name = name\n",
    "        self.species = species\n",
    "\n",
    "    def animal_type(self):\n",
    "        print(f\"Animal name is {self.name} and type is {self.species}\")\n",
    "\n",
    "\n",
    "#Derived Class:\n",
    "class Dog(Animal):\n",
    "    def __init__(self,name,species,breed):\n",
    "        super().__init__(name,species)\n",
    "        self.breed = breed\n",
    "\n",
    "    def animal_type(self):\n",
    "        print(f\"Dog name is {self.name} and type is {self.species} and breed is {self.breed}\")\n",
    "\n",
    "animal = Animal(\"Bruce\", \"Dog\")\n",
    "print(animal.animal_type())\n",
    "\n",
    "dog = Dog(\"Bruce\",\"Dog\",\"PitBull\")\n",
    "dog.animal_type()"
   ]
  },
  {
   "cell_type": "code",
   "execution_count": 11,
   "id": "30b55747",
   "metadata": {},
   "outputs": [
    {
     "name": "stdout",
     "output_type": "stream",
     "text": [
      "Animal name is Bruce and type is Dog\n",
      "None\n",
      "Animal name is Bruce and type is Dog\n",
      "Bruce is Barking woof!\n"
     ]
    }
   ],
   "source": [
    "#2 - Method Overriding in single inheritance\n",
    "#Base Class:\n",
    "class Animal:\n",
    "    def __init__(self,name,species):\n",
    "        self.name = name\n",
    "        self.species = species\n",
    "\n",
    "    def animal_type(self):\n",
    "        print(f\"Animal name is {self.name} and type is {self.species}\")\n",
    "\n",
    "\n",
    "#Derived Class:\n",
    "class Dog(Animal):\n",
    "    def __init__(self,name,species,breed):\n",
    "        super().__init__(name,species)\n",
    "        self.breed = breed\n",
    "\n",
    "    def __str__(self):\n",
    "        return f\"Dog name is {self.name} and type is {self.species} and breed is {self.breed}\"\n",
    "    \n",
    "    def bark(self):\n",
    "        print(f\"{self.name} is Barking woof!\")\n",
    "\n",
    "animal = Animal(\"Bruce\", \"Dog\")\n",
    "print(animal.animal_type())\n",
    "\n",
    "dog = Dog(\"Bruce\",\"Dog\",\"PitBull\")\n",
    "dog.animal_type()\n",
    "dog.bark()"
   ]
  },
  {
   "cell_type": "code",
   "execution_count": null,
   "id": "29a80394",
   "metadata": {},
   "outputs": [],
   "source": [
    "#3\n",
    "#Base Class:\n",
    "class Animal:\n",
    "    def __init__(self,name,species):\n",
    "        self.name = name\n",
    "        self.species = species\n",
    "\n",
    "    def animal_type(self):\n",
    "        print(f\"Animal name is {self.name} and type is {self.species}\")\n",
    "\n",
    "\n",
    "#Derived Class:\n",
    "class Dog(Animal):\n",
    "    def __init__(self,name,species,breed):\n",
    "        super().__init__(name,species)\n",
    "        self.breed = breed\n",
    "\n",
    "    def __str__(self):\n",
    "        return f\"Dog name is {self.name} and type is {self.species} and breed is {self.breed}\"\n",
    "    \n",
    "    def bark(self):\n",
    "        print(f\"{self.name} is Barking woof!\")\n",
    "\n",
    "animal = Animal(\"Bruce\", \"Dog\")\n",
    "print(animal.animal_type())\n",
    "\n",
    "dog = Dog(\"Bruce\",\"Dog\",\"PitBull\")\n",
    "dog.animal_type()\n",
    "dog.bark()"
   ]
  },
  {
   "cell_type": "code",
   "execution_count": 14,
   "id": "cff61f7c",
   "metadata": {},
   "outputs": [
    {
     "name": "stdout",
     "output_type": "stream",
     "text": [
      "Walking....\n",
      "Running...\n"
     ]
    }
   ],
   "source": [
    "#4 Multipule Inheritance\n",
    "#Base class1\n",
    "class Walker:\n",
    "    def walk(self):\n",
    "        print(\"Walking....\")\n",
    "\n",
    "#Base class2\n",
    "class Runner:\n",
    "    def run(self):\n",
    "        print(\"Running...\")\n",
    "\n",
    "#Derived class\n",
    "class Athlete(Walker,Runner):\n",
    "    pass\n",
    "\n",
    "athlete = Athlete()\n",
    "athlete.walk()\n",
    "athlete.run()\n",
    "\n"
   ]
  },
  {
   "cell_type": "code",
   "execution_count": 17,
   "id": "a738385d",
   "metadata": {},
   "outputs": [
    {
     "name": "stdout",
     "output_type": "stream",
     "text": [
      "Athlete Walking....\n",
      "Walking....\n",
      "Athlete Running....\n",
      "Running...\n"
     ]
    }
   ],
   "source": [
    "#5\n",
    "#Base class1\n",
    "class Walker:\n",
    "    def walk(self):\n",
    "        print(\"Walking....\")\n",
    "\n",
    "#Base class2\n",
    "class Runner:\n",
    "    def run(self):\n",
    "        print(\"Running...\")\n",
    "\n",
    "#Derived class\n",
    "class Athlete(Walker,Runner):\n",
    "    def walk(self):\n",
    "        print(\"Athlete Walking....\")\n",
    "        super().walk()\n",
    "    \n",
    "    def run(self):\n",
    "        print(\"Athlete Running....\")\n",
    "        super().run()\n",
    "\n",
    "\n",
    "athlete = Athlete()\n",
    "athlete.walk()\n",
    "athlete.run()\n"
   ]
  },
  {
   "cell_type": "code",
   "execution_count": 20,
   "id": "840e9667",
   "metadata": {},
   "outputs": [
    {
     "name": "stdout",
     "output_type": "stream",
     "text": [
      "Athlete Walking....\n",
      "Walking....\n",
      "Athlete Running....\n",
      "Running...\n",
      " Morning : 5:00AM to 10:00 AM - 5 hours\n"
     ]
    }
   ],
   "source": [
    "#6\n",
    "class Walker:\n",
    "    def walk(self):\n",
    "        print(\"Walking....\")\n",
    "\n",
    "#Base class2\n",
    "class Runner:\n",
    "    def run(self):\n",
    "        print(\"Running...\")\n",
    "\n",
    "#Derived class\n",
    "class Athlete(Walker,Runner):\n",
    "    def __init__(self,training_hours):\n",
    "        self.training_hours = training_hours\n",
    "\n",
    "    def walk(self):\n",
    "        print(\"Athlete Walking....\")\n",
    "        super().walk()\n",
    "    \n",
    "    def run(self):\n",
    "        print(\"Athlete Running....\")\n",
    "        super().run()\n",
    "\n",
    "    def train(self):\n",
    "        print(f\" Morning : 5:00AM to 10:00 AM - {self.training_hours} hours\" )\n",
    "\n",
    "\n",
    "athlete = Athlete(5)\n",
    "athlete.walk()\n",
    "athlete.run()\n",
    "athlete.train()"
   ]
  },
  {
   "cell_type": "code",
   "execution_count": 24,
   "id": "40360923",
   "metadata": {},
   "outputs": [
    {
     "name": "stdout",
     "output_type": "stream",
     "text": [
      "Show is initialized...\n",
      "D's Show\n",
      "C's Show\n",
      "B's Show\n",
      "A's Show\n"
     ]
    }
   ],
   "source": [
    "#7\n",
    "class A:\n",
    "    def __init__(self):\n",
    "        print(\"Show is initialized...\")\n",
    "\n",
    "    def show(self):\n",
    "        print(\"A's Show\")\n",
    "\n",
    "class B(A):\n",
    "    def show(self):\n",
    "        print(\"B's Show\")\n",
    "        super().show()\n",
    "\n",
    "class C(A):\n",
    "    def show(self):\n",
    "        print(\"C's Show\")\n",
    "        super().show()\n",
    "\n",
    "class D(C,B):\n",
    "    def show(self):\n",
    "        print(\"D's Show\")\n",
    "        super().show()\n",
    "\n",
    "d = D()\n",
    "d.show()"
   ]
  },
  {
   "cell_type": "code",
   "execution_count": 27,
   "id": "b8a9f1b9",
   "metadata": {},
   "outputs": [
    {
     "name": "stdout",
     "output_type": "stream",
     "text": [
      "Red 3\n"
     ]
    }
   ],
   "source": [
    "#8\n",
    "class Shape:\n",
    "    def __init__(self,color):\n",
    "        self.color = color\n",
    "\n",
    "class Circle(Shape):\n",
    "    def __init__(self,color,radius):\n",
    "        super().__init__(color)\n",
    "        self.radius = radius\n",
    "\n",
    "circle = Circle(\"Red\",3)\n",
    "print(circle.color, circle.radius)"
   ]
  },
  {
   "cell_type": "code",
   "execution_count": 34,
   "id": "7596d364",
   "metadata": {},
   "outputs": [
    {
     "name": "stdout",
     "output_type": "stream",
     "text": [
      "Kaushik 1234\n"
     ]
    }
   ],
   "source": [
    "#9\n",
    "class Person:\n",
    "    def __init__(self,name):\n",
    "        self.name = name\n",
    "\n",
    "class Employee:\n",
    "    def __init__(self,employee_id):\n",
    "        self.employee_id = employee_id\n",
    "\n",
    "class Manager(Person,Employee):\n",
    "    def __init__(self,name,employee_id):\n",
    "        super().__init__(name)\n",
    "        Employee.__init__(self,employee_id)\n",
    "\n",
    "manager = Manager(\"Kaushik\",1234)\n",
    "print(manager.name,manager.employee_id)"
   ]
  },
  {
   "cell_type": "code",
   "execution_count": 35,
   "id": "e7572a1a",
   "metadata": {},
   "outputs": [
    {
     "name": "stdout",
     "output_type": "stream",
     "text": [
      "Stoping....\n",
      "Starting....\n"
     ]
    }
   ],
   "source": [
    "#10\n",
    "class Vehicle:\n",
    "    def start(self):\n",
    "        print(\"Starting....\")\n",
    "\n",
    "class Car(Vehicle):\n",
    "    def start(self):\n",
    "        print(\"Stoping....\")\n",
    "        super().start()\n",
    "\n",
    "car = Car()\n",
    "car.start()"
   ]
  },
  {
   "cell_type": "code",
   "execution_count": 37,
   "id": "abe60ff6",
   "metadata": {},
   "outputs": [
    {
     "name": "stdout",
     "output_type": "stream",
     "text": [
      "Flying....\n",
      "Swimmer....\n"
     ]
    }
   ],
   "source": [
    "#11\n",
    "class Flyer:\n",
    "    def fly(self):\n",
    "        print(\"Flying....\")\n",
    "\n",
    "class Swimmer:\n",
    "    def swim(self):\n",
    "        print(\"Swimmer....\")\n",
    "\n",
    "class Superhero(Flyer,Swimmer):\n",
    "    pass\n",
    "\n",
    "hero = Superhero()\n",
    "hero.fly()\n",
    "hero.swim()"
   ]
  },
  {
   "cell_type": "code",
   "execution_count": 40,
   "id": "dd90b410",
   "metadata": {},
   "outputs": [
    {
     "name": "stdout",
     "output_type": "stream",
     "text": [
      "1 2 3\n"
     ]
    }
   ],
   "source": [
    "#12\n",
    "class Base1:\n",
    "    def __init__(self,a):\n",
    "        self.a = a \n",
    "\n",
    "class Base2:\n",
    "    def __init__(self,b):\n",
    "        self.b = b \n",
    "\n",
    "class Derived(Base1, Base2):\n",
    "    def __init__(self,a,b,c):\n",
    "        self.c = c \n",
    "        super().__init__(a)\n",
    "        Base2.__init__(self, b)\n",
    "\n",
    "d = Derived(1,2,3)\n",
    "print(d.a,d.b,d.c)"
   ]
  },
  {
   "cell_type": "code",
   "execution_count": 45,
   "id": "ba632188",
   "metadata": {},
   "outputs": [
    {
     "name": "stdout",
     "output_type": "stream",
     "text": [
      "True\n",
      "True\n",
      "True\n"
     ]
    }
   ],
   "source": [
    "#13\n",
    "class Animal:\n",
    "    pass\n",
    "\n",
    "class Cat(Animal):\n",
    "    pass\n",
    "\n",
    "animal = Animal()\n",
    "cat = Cat()\n",
    "print(isinstance(animal,Animal))\n",
    "print(isinstance(cat,Cat))\n",
    "print(isinstance(cat,Animal))"
   ]
  },
  {
   "cell_type": "code",
   "execution_count": 46,
   "id": "8906a3f3",
   "metadata": {},
   "outputs": [
    {
     "name": "stdout",
     "output_type": "stream",
     "text": [
      "parrot says squawk!\n",
      "Penguin says honk!\n"
     ]
    }
   ],
   "source": [
    "#14\n",
    "class Bird:\n",
    "    def speak(self):\n",
    "        pass\n",
    "\n",
    "class Parrot(Bird):\n",
    "    def speak(self):\n",
    "        print(\"parrot says squawk!\")\n",
    "\n",
    "class Penguin(Bird):\n",
    "    def speak(self):\n",
    "        print(\"Penguin says honk!\")\n",
    "\n",
    "birds = [Parrot(), Penguin()]\n",
    "for bird in birds:\n",
    "    bird.speak()"
   ]
  },
  {
   "cell_type": "code",
   "execution_count": 51,
   "id": "4a1fd90f",
   "metadata": {},
   "outputs": [
    {
     "name": "stdout",
     "output_type": "stream",
     "text": [
      "Iphone 15 Pro Max 48MP\n"
     ]
    }
   ],
   "source": [
    "#15 \n",
    "class Device:\n",
    "    def __init__(self,brand):\n",
    "        self.brand = brand\n",
    "\n",
    "class Phone(Device):\n",
    "    def __init__(self,brand,model):\n",
    "        super().__init__(brand)\n",
    "        self.model = model\n",
    "\n",
    "class Camera:\n",
    "    def __init__(self,resolution):\n",
    "        self.resolution = resolution\n",
    "\n",
    "class Smartphone(Phone,Camera):\n",
    "    def __init__(self,brand,model,resolution):\n",
    "        Phone.__init__(self,brand,model)\n",
    "        Camera.__init__(self,resolution)\n",
    "\n",
    "smartphone = Smartphone(\"Iphone\", \"15 Pro Max\", \"48MP\")\n",
    "print(smartphone.brand, smartphone.model, smartphone.resolution)"
   ]
  },
  {
   "cell_type": "code",
   "execution_count": null,
   "id": "43a00930",
   "metadata": {},
   "outputs": [],
   "source": []
  },
  {
   "cell_type": "code",
   "execution_count": null,
   "id": "64835dd2",
   "metadata": {},
   "outputs": [],
   "source": []
  },
  {
   "cell_type": "code",
   "execution_count": null,
   "id": "573f1c29",
   "metadata": {},
   "outputs": [],
   "source": []
  },
  {
   "cell_type": "code",
   "execution_count": null,
   "id": "bdced8f0",
   "metadata": {},
   "outputs": [],
   "source": []
  },
  {
   "cell_type": "code",
   "execution_count": null,
   "id": "ae2f5a0d",
   "metadata": {},
   "outputs": [],
   "source": []
  },
  {
   "cell_type": "code",
   "execution_count": null,
   "id": "eb7610d8",
   "metadata": {},
   "outputs": [],
   "source": []
  },
  {
   "cell_type": "code",
   "execution_count": null,
   "id": "04b30b9e",
   "metadata": {},
   "outputs": [],
   "source": []
  },
  {
   "cell_type": "code",
   "execution_count": null,
   "metadata": {},
   "outputs": [],
   "source": []
  }
 ],
 "metadata": {
  "kernelspec": {
   "display_name": "Python 3",
   "language": "python",
   "name": "python3"
  },
  "language_info": {
   "codemirror_mode": {
    "name": "ipython",
    "version": 3
   },
   "file_extension": ".py",
   "mimetype": "text/x-python",
   "name": "python",
   "nbconvert_exporter": "python",
   "pygments_lexer": "ipython3",
   "version": "3.12.11"
  }
 },
 "nbformat": 4,
 "nbformat_minor": 5
}
