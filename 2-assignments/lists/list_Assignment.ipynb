{
 "cells": [
  {
   "cell_type": "markdown",
   "metadata": {},
   "source": [
    "# Module 3: Data Structures Assignments\n",
    "## Lesson 3.1: Lists\n",
    "### Assignment 1: Creating and Accessing Lists\n",
    "\n",
    "Create a list of the first 20 positive integers. Print the list.\n",
    "\n",
    "### Assignment 2: Accessing List Elements\n",
    "\n",
    "Print the first, middle, and last elements of the list created in Assignment 1.\n",
    "\n",
    "### Assignment 3: List Slicing\n",
    "\n",
    "Print the first five elements, the last five elements, and the elements from index 5 to 15 of the list created in Assignment 1.\n",
    "\n",
    "### Assignment 4: List Comprehensions\n",
    "\n",
    "Create a new list containing the squares of the first 10 positive integers using a list comprehension. Print the new list.\n",
    "\n",
    "### Assignment 5: Filtering Lists\n",
    "\n",
    "Create a new list containing only the even numbers from the list created in Assignment 1 using a list comprehension. Print the new list.\n",
    "\n",
    "### Assignment 6: List Methods\n",
    "\n",
    "Create a list of random numbers and sort it in ascending and descending order. Remove the duplicates from the list and print the modified list.\n",
    "\n",
    "### Assignment 7: Nested Lists\n",
    "\n",
    "Create a nested list representing a 3x3 matrix and print the matrix. Access and print the element at the second row and third column.\n",
    "\n",
    "### Assignment 8: List of Dictionaries\n",
    "\n",
    "Create a list of dictionaries where each dictionary represents a student with keys 'name' and 'score'. Sort the list of dictionaries by the 'score' in descending order and print the sorted list.\n",
    "\n",
    "### Assignment 9: Matrix Transposition\n",
    "\n",
    "Write a function that takes a 3x3 matrix (nested list) as input and returns its transpose. Print the original and transposed matrices.\n",
    "\n",
    "### Assignment 10: Flattening a Nested List\n",
    "\n",
    "Write a function that takes a nested list and flattens it into a single list. Print the original and flattened lists.\n",
    "\n",
    "### Assignment 11: List Manipulation\n",
    "\n",
    "Create a list of the first 10 positive integers. Remove the elements at indices 2, 4, and 6, and insert the element '99' at index 5. Print the modified list.\n",
    "\n",
    "### Assignment 12: List Zipping\n",
    "\n",
    "Create two lists of the same length. Use the `zip` function to combine these lists into a list of tuples and print the result.\n",
    "\n",
    "### Assignment 13: List Reversal\n",
    "\n",
    "Write a function that takes a list and returns a new list with the elements in reverse order. Print the original and reversed lists.\n",
    "\n",
    "### Assignment 14: List Rotation\n",
    "\n",
    "Write a function that rotates a list by n positions. Print the original and rotated lists.\n",
    "\n",
    "### Assignment 15: List Intersection\n",
    "\n",
    "Write a function that takes two lists and returns a new list containing only the elements that are present in both lists. Print the intersected list."
   ]
  },
  {
   "cell_type": "code",
   "execution_count": 12,
   "id": "84c932e4",
   "metadata": {},
   "outputs": [
    {
     "name": "stdout",
     "output_type": "stream",
     "text": [
      "[1, 2, 3, 4, 5, 6, 7, 8, 9, 10, 11, 12, 13, 14, 15, 16, 17, 18, 19, 20]\n"
     ]
    }
   ],
   "source": [
    "## Assignment 1: Creating and Accessing Lists\n",
    "##Create a list of the first 20 positive integers. Print the list.\n",
    "lst = list(range(1,21))\n",
    "print(lst)"
   ]
  },
  {
   "cell_type": "code",
   "execution_count": 3,
   "id": "8cf7765b",
   "metadata": {},
   "outputs": [
    {
     "name": "stdout",
     "output_type": "stream",
     "text": [
      "1\n",
      "11\n",
      "20\n"
     ]
    }
   ],
   "source": [
    "## Assignment 2: Accessing List Elements\n",
    "##Print the first, middle, and last elements of the list created in Assignment 1.\n",
    "list_first = lst[0]\n",
    "list_mid = lst[len(lst) // 2]\n",
    "list_end = lst[-1]\n",
    "print(list_first)\n",
    "print(list_mid)\n",
    "print(list_end)"
   ]
  },
  {
   "cell_type": "code",
   "execution_count": 9,
   "id": "26d282e5",
   "metadata": {},
   "outputs": [
    {
     "name": "stdout",
     "output_type": "stream",
     "text": [
      "[1, 2, 3, 4, 5]\n",
      "[16, 17, 18, 19, 20]\n",
      "[6, 7, 8, 9, 10, 11, 12, 13, 14, 15, 16]\n"
     ]
    }
   ],
   "source": [
    "## Assignment 3: List Slicing\n",
    "##Print the first five elements, the last five elements, and the elements from index 5 to 15 of the list created in Assignment 1.\n",
    "first_five = lst[:5]\n",
    "last_five = lst[-5:]\n",
    "index = lst[5:16]\n",
    "print(first_five)\n",
    "print(last_five)\n",
    "print(index)"
   ]
  },
  {
   "cell_type": "code",
   "execution_count": 14,
   "id": "91a59bbe",
   "metadata": {},
   "outputs": [
    {
     "name": "stdout",
     "output_type": "stream",
     "text": [
      "[1, 4, 9, 16, 25, 36, 49, 64, 81, 100, 121]\n"
     ]
    }
   ],
   "source": [
    "## Assignment 4: List Comprehensions\n",
    "##Create a new list containing the squares of the first 10 positive integers using a list comprehension. Print the new list.\n",
    "sqaure = [num**2 for num in lst[:11]]\n",
    "print(sqaure)"
   ]
  },
  {
   "cell_type": "code",
   "execution_count": 18,
   "id": "b24703f3",
   "metadata": {},
   "outputs": [
    {
     "name": "stdout",
     "output_type": "stream",
     "text": [
      "[2, 4, 6, 8, 10, 12, 14, 16, 18, 20]\n"
     ]
    }
   ],
   "source": [
    "### Assignment 5: Filtering Lists\n",
    "#Create a new list containing only the even numbers from the list created in Assignment 1 using a list comprehension. Print the new list.\n",
    "even_numbers = [num for num in lst[::] if num%2 == 0]\n",
    "print(even_numbers)"
   ]
  },
  {
   "cell_type": "markdown",
   "id": "268f8abe",
   "metadata": {},
   "source": [
    "#### import random — loads Python’s built-in module for random number generation.\n",
    "#### random.randint(1, 20) — generates a random number between 1 and 20, inclusive.\n",
    "#### for _ in range(15) — repeats the process 15 times.\n",
    "#### _ is a conventional placeholder when you don’t need the loop variable."
   ]
  },
  {
   "cell_type": "code",
   "execution_count": 34,
   "id": "9ca75cc1",
   "metadata": {},
   "outputs": [
    {
     "name": "stdout",
     "output_type": "stream",
     "text": [
      "[10, 2, 2, 12, 12, 10, 2, 12, 5, 20, 5, 20, 10, 19, 6]\n",
      "[2, 2, 2, 5, 5, 6, 10, 10, 10, 12, 12, 12, 19, 20, 20]\n",
      "[20, 20, 19, 12, 12, 12, 10, 10, 10, 6, 5, 5, 2, 2, 2]\n",
      "[2, 5, 6, 10, 12, 19, 20]\n"
     ]
    }
   ],
   "source": [
    "## Assignment 6: List Methods\n",
    "##Create a list of random numbers and sort it in ascending and descending order. Remove the duplicates from the list and print the modified list.\n",
    "import random\n",
    "random_numbers = [random.randint(1,20) for _ in range(15)]\n",
    "print(random_numbers)\n",
    "\n",
    "asc_numbers = sorted(random_numbers)\n",
    "print(asc_numbers)\n",
    "\n",
    "desc_numbers = sorted(random_numbers, reverse = True)\n",
    "print(desc_numbers)\n",
    "\n",
    "modified_list = list(set(random_numbers))\n",
    "print(modified_list)"
   ]
  },
  {
   "cell_type": "code",
   "execution_count": 40,
   "metadata": {},
   "outputs": [
    {
     "name": "stdout",
     "output_type": "stream",
     "text": [
      "[1, 2, 3]\n",
      "[4, 5, 6]\n",
      "[7, 8, 9]\n",
      "6\n"
     ]
    }
   ],
   "source": [
    "## Assignment 7: Nested Lists\n",
    "##Create a nested list representing a 3x3 matrix and print the matrix. Access and print the element at the second row and third column.\n",
    "matrix_list = [\n",
    "    [1,2,3],\n",
    "    [4,5,6],\n",
    "    [7,8,9]\n",
    "]\n",
    "for row in matrix_list:\n",
    "    print(row)\n",
    "\n",
    "element = matrix_list[1][2]\n",
    "print(element)"
   ]
  },
  {
   "cell_type": "code",
   "execution_count": 62,
   "id": "fef641cb",
   "metadata": {},
   "outputs": [
    {
     "name": "stdout",
     "output_type": "stream",
     "text": [
      "[{'name': 'sam', 'score': 97}, {'name': 'ariel', 'score': 99}, {'name': 'jake', 'score': 37}]\n",
      "97\n",
      "99\n",
      "37\n",
      "[{'name': 'ariel', 'score': 99}, {'name': 'sam', 'score': 97}, {'name': 'jake', 'score': 37}]\n"
     ]
    }
   ],
   "source": [
    "## Assignment 8: List of Dictionaries\n",
    "##Create a list of dictionaries where each dictionary represents a student with keys 'name' and 'score'. Sort the list of dictionaries by the 'score' in descending order and print the sorted list.\n",
    "student_dict = [\n",
    "    {'name': 'sam', 'score' : 97},\n",
    "    {'name': 'ariel', 'score' : 99},\n",
    "    {'name': 'jake', 'score': 37}            \n",
    "]\n",
    "\n",
    "print(student_dict)\n",
    "for student in student_dict:\n",
    "    print(student['score'])\n",
    "desc_order = sorted(student_dict, key=lambda x: x['score'], reverse = True)\n",
    "print(desc_order)"
   ]
  },
  {
   "cell_type": "code",
   "execution_count": 67,
   "id": "c1c5c3d3",
   "metadata": {},
   "outputs": [
    {
     "name": "stdout",
     "output_type": "stream",
     "text": [
      "[[1, 4, 7], [2, 5, 8], [3, 6, 9]]\n"
     ]
    }
   ],
   "source": [
    "## Assignment 9: Matrix Transposition\n",
    "##Write a function that takes a 3x3 matrix (nested list) as input and returns its transpose. Print the original and transposed matrices.\n",
    "\n",
    "matrix = [\n",
    "    [1,2,3],\n",
    "    [4,5,6],\n",
    "    [7,8,9]\n",
    "]\n",
    "\n",
    "transpose_matrix = [[row[i] for row in matrix] for i in range(len(matrix[0]))]\n",
    "\n",
    "print(transpose_matrix)"
   ]
  },
  {
   "cell_type": "code",
   "execution_count": 73,
   "id": "1a5c5b56",
   "metadata": {},
   "outputs": [
    {
     "name": "stdout",
     "output_type": "stream",
     "text": [
      "0\n",
      "1\n",
      "[1, 2]\n",
      "[3, 4]\n",
      "[4, 5]\n",
      "[[1, 3, 4], [2, 4, 5]]\n"
     ]
    }
   ],
   "source": [
    "matrix = [\n",
    "    [1,2],\n",
    "    [3,4],\n",
    "    [4,5]\n",
    "]\n",
    "for i in range(len(matrix[0])):\n",
    "    print(i)\n",
    "\n",
    "for row in matrix:\n",
    "    print(row)\n",
    "\n",
    "transpose_matrix = [[row[i] for row in matrix] for i in range(len(matrix[0]))]\n",
    "print(transpose_matrix)"
   ]
  },
  {
   "cell_type": "markdown",
   "id": "f5deb117",
   "metadata": {},
   "source": [
    "#### isinstance(item, list) checks if the current item is a sublist.\n",
    "#### extend() adds multiple elements to the flat list.\n",
    "#### The function recursively digs into deeper nested levels."
   ]
  },
  {
   "cell_type": "code",
   "execution_count": 78,
   "id": "4d3935dc",
   "metadata": {},
   "outputs": [
    {
     "name": "stdout",
     "output_type": "stream",
     "text": [
      "original list: [1, [2, [3, 4], 5], [6, 7], 8, [9]]\n",
      "Flattened list: [1, 2, 3, 4, 5, 6, 7, 8, 9]\n"
     ]
    }
   ],
   "source": [
    "## Assignment 10: Flattening a Nested List\n",
    "##Write a function that takes a nested list and flattens it into a single list. Print the original and flattened lists.\n",
    "\n",
    "def flatten_list(nested_list):\n",
    "    flat_list = []\n",
    "    for lis in nested_list:\n",
    "        if isinstance(lis,list):\n",
    "            flat_list.extend(flatten_list(lis))\n",
    "        else:\n",
    "            flat_list.append(lis)\n",
    "    return flat_list\n",
    "    \n",
    "original_list = [1,[2,[3,4],5],[6,7],8,[9]]\n",
    "flattened = flatten_list(original_list)\n",
    "print(\"original list:\", original_list)\n",
    "print(\"Flattened list:\", flattened)"
   ]
  },
  {
   "cell_type": "code",
   "execution_count": 82,
   "id": "55490b8f",
   "metadata": {},
   "outputs": [
    {
     "name": "stdout",
     "output_type": "stream",
     "text": [
      "[1, 3, 5, 7, 8, 99, 9, 10]\n"
     ]
    }
   ],
   "source": [
    "## Assignment 11: List Manipulation\n",
    "##Create a list of the first 10 positive integers. Remove the elements at indices 2, 4, and 6, and insert the element '99' at index 5. Print the modified list.\n",
    "\n",
    "positive_integers = [1,2,3,4,5,6,7,8,9,10]\n",
    "positive_integers.remove(2)\n",
    "positive_integers.remove(4)\n",
    "positive_integers.remove(6)\n",
    "positive_integers.insert(5,99)\n",
    "\n",
    "print(positive_integers)"
   ]
  },
  {
   "cell_type": "code",
   "execution_count": 83,
   "id": "a8ca1114",
   "metadata": {},
   "outputs": [
    {
     "name": "stdout",
     "output_type": "stream",
     "text": [
      "[(1, 6), (2, 7), (3, 8), (4, 9), (5, 10)]\n"
     ]
    }
   ],
   "source": [
    "## Assignment 12: List Zipping\n",
    "##Create two lists of the same length. Use the `zip` function to combine these lists into a list of tuples and print the result.\n",
    "\n",
    "list1 = [1,2,3,4,5]\n",
    "list2 = [6,7,8,9,10]\n",
    "\n",
    "tup = list(zip(list1,list2))\n",
    "print(tup)"
   ]
  },
  {
   "cell_type": "code",
   "execution_count": 98,
   "id": "c936f3d9",
   "metadata": {},
   "outputs": [
    {
     "name": "stdout",
     "output_type": "stream",
     "text": [
      "Original_list:[1, 2, 3, 4, 5, 6]\n",
      "Reversed_list:[6, 5, 4, 3, 2, 1]\n"
     ]
    }
   ],
   "source": [
    "## Assignment 13: List Reversal\n",
    "##Write a function that takes a list and returns a new list with the elements in reverse order. Print the original and reversed lists.\n",
    "\n",
    "#original_list = [1,2,3,4,5,6,7]\n",
    "#reversed_list = sorted(original_list, reverse = True)\n",
    "def reverse_order(original_list):\n",
    "    return original_list[::-1] \n",
    "\n",
    "original_list = [1,2,3,4,5,6]\n",
    "reversed_list = reverse_order(original_list)\n",
    "print(f\"Original_list:{original_list}\")\n",
    "print(f\"Reversed_list:{reversed_list}\")"
   ]
  },
  {
   "cell_type": "code",
   "execution_count": 99,
   "id": "631b6f73",
   "metadata": {},
   "outputs": [
    {
     "name": "stdout",
     "output_type": "stream",
     "text": [
      "Original_list:[1, 2, 3, 4, 5]\n",
      "Rotated_list:[4, 5, 1, 2, 3]\n"
     ]
    }
   ],
   "source": [
    "## Assignment 14: List Rotation\n",
    "##Write a function that rotates a list by n positions. Print the original and rotated lists.\n",
    "\n",
    "def rotate_list(lst,n):\n",
    "    return lst[n:] + lst[:n]\n",
    "\n",
    "original_list = [1,2,3,4,5]\n",
    "rotated_list = rotate_list(original_list, 3)\n",
    "print(f\"Original_list:{original_list}\")\n",
    "print(f\"Rotated_list:{rotated_list}\")"
   ]
  },
  {
   "cell_type": "code",
   "execution_count": 101,
   "id": "b6de374f",
   "metadata": {},
   "outputs": [
    {
     "name": "stdout",
     "output_type": "stream",
     "text": [
      "Intersection_list:[1, 2, 3, 5, 6]\n"
     ]
    }
   ],
   "source": [
    "## Assignment 15: List Intersection\n",
    "##Write a function that takes two lists and returns a new list containing only the elements that are present in both lists. Print the intersected list.\n",
    "def intersection_list(lis1,lis2):\n",
    "    return [lis for lis in lis1 if lis in lis2]\n",
    "list1 = [1,2,3,4,5,6,7,8,9]\n",
    "list2 = [5,6,3,2,1,5]\n",
    "\n",
    "intersection = intersection_list(list1,list2)\n",
    "print(f\"Intersection_list:{intersection}\")"
   ]
  },
  {
   "cell_type": "code",
   "execution_count": null,
   "id": "d882e6ea",
   "metadata": {},
   "outputs": [],
   "source": []
  },
  {
   "cell_type": "code",
   "execution_count": null,
   "metadata": {},
   "outputs": [],
   "source": []
  },
  {
   "cell_type": "code",
   "execution_count": null,
   "id": "233ac45a",
   "metadata": {},
   "outputs": [],
   "source": []
  },
  {
   "cell_type": "code",
   "execution_count": null,
   "id": "7e0bcd45",
   "metadata": {},
   "outputs": [],
   "source": []
  },
  {
   "cell_type": "code",
   "execution_count": null,
   "id": "f8bf2b2b",
   "metadata": {},
   "outputs": [],
   "source": []
  },
  {
   "cell_type": "code",
   "execution_count": null,
   "id": "0e48f19f",
   "metadata": {},
   "outputs": [],
   "source": []
  },
  {
   "cell_type": "code",
   "execution_count": null,
   "metadata": {},
   "outputs": [],
   "source": []
  }
 ],
 "metadata": {
  "kernelspec": {
   "display_name": "Python 3",
   "language": "python",
   "name": "python3"
  },
  "language_info": {
   "codemirror_mode": {
    "name": "ipython",
    "version": 3
   },
   "file_extension": ".py",
   "mimetype": "text/x-python",
   "name": "python",
   "nbconvert_exporter": "python",
   "pygments_lexer": "ipython3",
   "version": "3.12.11"
  }
 },
 "nbformat": 4,
 "nbformat_minor": 5
}
