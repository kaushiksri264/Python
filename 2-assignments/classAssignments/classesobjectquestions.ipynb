{
 "cells": [
  {
   "cell_type": "markdown",
   "metadata": {},
   "source": [
    "# Module: Classes and Objects Assignments\n",
    "## Lesson: Creating and Working with Classes and Objects\n",
    "### Assignment 1: Basic Class and Object Creation\n",
    "\n",
    "Create a class named `Car` with attributes `make`, `model`, and `year`. Create an object of the class and print its attributes.\n",
    "\n",
    "### Assignment 2: Methods in Class\n",
    "\n",
    "Add a method named `start_engine` to the `Car` class that prints a message when the engine starts. Create an object of the class and call the method.\n",
    "\n",
    "### Assignment 3: Class with Constructor\n",
    "\n",
    "Create a class named `Student` with attributes `name` and `age`. Use a constructor to initialize these attributes. Create an object of the class and print its attributes.\n",
    "\n",
    "### Assignment 4: Class with Private Attributes\n",
    "\n",
    "Create a class named `BankAccount` with private attributes `account_number` and `balance`. Add methods to deposit and withdraw money, and to check the balance. Create an object of the class and perform some operations.\n",
    "\n",
    "### Assignment 5: Class Inheritance\n",
    "\n",
    "Create a base class named `Person` with attributes `name` and `age`. Create a derived class named `Employee` that inherits from `Person` and adds an attribute `employee_id`. Create an object of the derived class and print its attributes.\n",
    "\n",
    "### Assignment 6: Method Overriding\n",
    "\n",
    "In the `Employee` class, override the `__str__` method to return a string representation of the object. Create an object of the class and print it.\n",
    "\n",
    "### Assignment 7: Class Composition\n",
    "\n",
    "Create a class named `Address` with attributes `street`, `city`, and `zipcode`. Create a class named `Person` that has an `Address` object as an attribute. Create an object of the `Person` class and print its address.\n",
    "\n",
    "### Assignment 8: Class with Class Variables\n",
    "\n",
    "Create a class named `Counter` with a class variable `count`. Each time an object is created, increment the count. Add a method to get the current count. Create multiple objects and print the count.\n",
    "\n",
    "### Assignment 9: Static Methods\n",
    "\n",
    "Create a class named `MathOperations` with a static method to calculate the square root of a number. Call the static method without creating an object.\n",
    "\n",
    "### Assignment 10: Class with Properties\n",
    "\n",
    "Create a class named `Rectangle` with private attributes `length` and `width`. Use properties to get and set these attributes. Create an object of the class and test the properties.\n",
    "\n",
    "### Assignment 11: Abstract Base Class\n",
    "\n",
    "Create an abstract base class named `Shape` with an abstract method `area`. Create derived classes `Circle` and `Square` that implement the `area` method. Create objects of the derived classes and call the `area` method.\n",
    "\n",
    "### Assignment 12: Operator Overloading\n",
    "\n",
    "Create a class named `Vector` with attributes `x` and `y`. Overload the `+` operator to add two `Vector` objects. Create objects of the class and test the operator overloading.\n",
    "\n",
    "### Assignment 13: Class with Custom Exception\n",
    "\n",
    "Create a custom exception named `InsufficientBalanceError`. In the `BankAccount` class, raise this exception when a withdrawal amount is greater than the balance. Handle the exception and print an appropriate message.\n",
    "\n",
    "### Assignment 14: Class with Context Manager\n",
    "\n",
    "Create a class named `FileManager` that implements the context manager protocol to open and close a file. Use this class to read the contents of a file.\n",
    "\n",
    "### Assignment 15: Chaining Methods\n",
    "\n",
    "Create a class named `Calculator` with methods to add, subtract, multiply, and divide. Each method should return the object itself to allow method chaining. Create an object and chain multiple method calls."
   ]
  },
  {
   "cell_type": "code",
   "execution_count": 7,
   "id": "2fa593fd",
   "metadata": {},
   "outputs": [
    {
     "name": "stdout",
     "output_type": "stream",
     "text": [
      "Sedan\n",
      "Audi R8\n",
      "2025\n"
     ]
    }
   ],
   "source": [
    "#1\n",
    "class Car:\n",
    "    def __init__(self,make,model,year):\n",
    "        self.make=make\n",
    "        self.model = model\n",
    "        self.year = year\n",
    "\n",
    "audi = Car(\"Sedan\",\"Audi R8\",2025)\n",
    "print(audi.make)\n",
    "print(audi.model)\n",
    "print(audi.year)"
   ]
  },
  {
   "cell_type": "code",
   "execution_count": 12,
   "id": "ad2eeaae",
   "metadata": {},
   "outputs": [
    {
     "name": "stdout",
     "output_type": "stream",
     "text": [
      "Engine Starts...\n"
     ]
    }
   ],
   "source": [
    "#2\n",
    "class Car:\n",
    "    def __init__(self,make,model,year):\n",
    "        self.make=make\n",
    "        self.model = model\n",
    "        self.year = year\n",
    "    \n",
    "    def start_engine(self):\n",
    "        print(\"Engine Starts...\")\n",
    "\n",
    "audi = Car(\"Sedan\",\"Audi R8\",2025)\n",
    "audi.start_engine()"
   ]
  },
  {
   "cell_type": "code",
   "execution_count": 15,
   "id": "41205e4d",
   "metadata": {},
   "outputs": [
    {
     "name": "stdout",
     "output_type": "stream",
     "text": [
      "Kaushik 26\n"
     ]
    }
   ],
   "source": [
    "#3\n",
    "class Student:\n",
    "    def __init__(self,name,age):\n",
    "        self.name = name\n",
    "        self.age = age\n",
    "    \n",
    "\n",
    "stud = Student(\"Kaushik\",26)\n",
    "print(stud.name, stud.age)"
   ]
  },
  {
   "cell_type": "code",
   "execution_count": null,
   "id": "8c4abd8b",
   "metadata": {},
   "outputs": [
    {
     "name": "stdout",
     "output_type": "stream",
     "text": [
      "10000 is deposited. New Balance : 60000\n",
      "Insufficient funds!, 70000 > 60000\n",
      "20000 is withdrawn. New Balance : 40000\n"
     ]
    },
    {
     "data": {
      "text/plain": [
       "40000"
      ]
     },
     "execution_count": 22,
     "metadata": {},
     "output_type": "execute_result"
    }
   ],
   "source": [
    "#4\n",
    "class BankAccount:\n",
    "    def __init__(self,account_number,balance=0):\n",
    "        self.__account_number = account_number\n",
    "        self.__balance = balance\n",
    "    \n",
    "    def deposite(self,amount):\n",
    "        self.__balance += amount\n",
    "        print(f\"{amount} is deposited. New Balance : {self.__balance}\")\n",
    "    \n",
    "    def withdraw(self,amount):\n",
    "        if amount > self.__balance:\n",
    "            print(f\"Insufficient funds!, {amount} > {self.__balance}\")\n",
    "        else:\n",
    "            self.__balance -= amount\n",
    "            print(f\"{amount} is withdrawn. New Balance : {self.__balance}\")\n",
    "    \n",
    "    def get_balance(self):\n",
    "        return self.__balance\n",
    "\n",
    "account = BankAccount(12345,50000)\n",
    "account.deposite(10000)\n",
    "account.withdraw(70000)\n",
    "account.withdraw(20000)\n",
    "account.get_balance()"
   ]
  },
  {
   "cell_type": "code",
   "execution_count": 29,
   "id": "404dceee",
   "metadata": {},
   "outputs": [
    {
     "name": "stdout",
     "output_type": "stream",
     "text": [
      "Kaushik 26 12345\n"
     ]
    }
   ],
   "source": [
    "#5\n",
    "class Person:\n",
    "    def __init__(self,name,age):\n",
    "        self.name = name\n",
    "        self.age = age\n",
    "    \n",
    "class Employee(Person):\n",
    "\n",
    "    def __init__(self,name,age,employee_id):\n",
    "        super().__init__(name,age)\n",
    "        self.employee_id = employee_id\n",
    "\n",
    "emp_details = Employee(\"Kaushik\",26,'12345')\n",
    "\n",
    "print(emp_details.name, emp_details.age,emp_details.employee_id)"
   ]
  },
  {
   "cell_type": "code",
   "execution_count": 32,
   "id": "b73fe28c",
   "metadata": {},
   "outputs": [
    {
     "name": "stdout",
     "output_type": "stream",
     "text": [
      "Employee_Name : Kaushik, Employee_Age : 26, Employee_Id: 12345\n"
     ]
    }
   ],
   "source": [
    "#6\n",
    "class Person:\n",
    "    def __init__(self,name,age):\n",
    "        self.name = name\n",
    "        self.age = age\n",
    "    \n",
    "class Employee(Person):\n",
    "\n",
    "    def __init__(self,name,age,employee_id):\n",
    "        super().__init__(name,age)\n",
    "        self.employee_id = employee_id\n",
    "\n",
    "    #Override\n",
    "    def __str__(self):\n",
    "        return f\"Employee_Name : {self.name}, Employee_Age : {self.age}, Employee_Id: {self.employee_id}\"\n",
    "        \n",
    "\n",
    "emp_details = Employee(\"Kaushik\",26,'12345')\n",
    "\n",
    "print(emp_details)"
   ]
  },
  {
   "cell_type": "code",
   "execution_count": 39,
   "id": "d2afacf4",
   "metadata": {},
   "outputs": [
    {
     "name": "stdout",
     "output_type": "stream",
     "text": [
      "421 Bakers Field NYC 1234\n"
     ]
    }
   ],
   "source": [
    "#7\n",
    "class Address:\n",
    "    def __init__(self,street,city,zipcode):\n",
    "        self.street = street\n",
    "        self.city = city\n",
    "        self.zipcode=zipcode\n",
    "\n",
    "class Person:\n",
    "    def __init__(self,name,age,address):\n",
    "        self.name=name\n",
    "        self.age = age\n",
    "        self.address = address\n",
    "\n",
    "\n",
    "address = Address('421 Bakers Field','NYC',1234)\n",
    "person = Person('Kaushik',25,address)\n",
    "print(person.address.street,person.address.city,person.address.zipcode)\n"
   ]
  },
  {
   "cell_type": "code",
   "execution_count": 44,
   "id": "d9a0d7d8",
   "metadata": {},
   "outputs": [
    {
     "name": "stdout",
     "output_type": "stream",
     "text": [
      "3\n"
     ]
    }
   ],
   "source": [
    "#8\n",
    "class Counter:\n",
    "    count = 0\n",
    "    def __init__(self):\n",
    "        Counter.count += 1\n",
    "    \n",
    "    @classmethod\n",
    "    def get_count(cls):\n",
    "        return cls.count\n",
    "    \n",
    "c1 = Counter()\n",
    "c2 = Counter()\n",
    "c3 = Counter()\n",
    "\n",
    "print(c3.get_count())"
   ]
  },
  {
   "cell_type": "code",
   "execution_count": null,
   "id": "90b442f4",
   "metadata": {},
   "outputs": [
    {
     "data": {
      "text/plain": [
       "<__main__.Book at 0x1157d4680>"
      ]
     },
     "execution_count": 51,
     "metadata": {},
     "output_type": "execute_result"
    }
   ],
   "source": [
    "class Book:\n",
    "    def __init__(self,title,author):\n",
    "        self.title = title\n",
    "        self.author = author\n",
    "\n",
    "    @classmethod\n",
    "    def from_book(cls,book_str):\n",
    "        author, title = book_str.split(',')\n",
    "        return cls(author,title)\n",
    "book = Book.from_book('Harry Potter, Kaushik')\n"
   ]
  },
  {
   "cell_type": "code",
   "execution_count": 58,
   "id": "d0d04b64",
   "metadata": {},
   "outputs": [
    {
     "name": "stdout",
     "output_type": "stream",
     "text": [
      "6.0\n"
     ]
    }
   ],
   "source": [
    "#9\n",
    "import math\n",
    "class MathOperations:\n",
    "\n",
    "    @staticmethod\n",
    "    def square(x):\n",
    "        number = math.sqrt(x)\n",
    "        return number\n",
    "\n",
    "result = MathOperations.square(36)\n",
    "print(result)"
   ]
  },
  {
   "cell_type": "code",
   "execution_count": 73,
   "id": "e095d836",
   "metadata": {},
   "outputs": [
    {
     "name": "stdout",
     "output_type": "stream",
     "text": [
      "7 5\n"
     ]
    }
   ],
   "source": [
    "#10\n",
    "class Rectangle:\n",
    "    def __init__(self,length,width):\n",
    "        self.__length = length\n",
    "        self.__width = width\n",
    "\n",
    "    @property\n",
    "    def length(self):\n",
    "        return self.__length\n",
    "\n",
    "    @length.setter\n",
    "    def length(self,length):\n",
    "        self.__length = length\n",
    "\n",
    "    @property\n",
    "    def width(self):\n",
    "        return self.__width\n",
    "    \n",
    "    @width.setter\n",
    "    def width(self,width):\n",
    "        self.__width = width\n",
    "\n",
    "\n",
    "\n",
    "rec = Rectangle(7,5)\n",
    "print(rec.length,rec.width)"
   ]
  },
  {
   "cell_type": "code",
   "execution_count": 82,
   "id": "8c5447a3",
   "metadata": {},
   "outputs": [
    {
     "name": "stdout",
     "output_type": "stream",
     "text": [
      "28.274333882308138\n",
      "16\n"
     ]
    }
   ],
   "source": [
    "#11\n",
    "from abc import ABC, abstractmethod\n",
    "from math import *\n",
    "\n",
    "class Shape(ABC):\n",
    "    @abstractmethod\n",
    "    def area(self):\n",
    "        pass\n",
    "\n",
    "class Circle(Shape):\n",
    "    def __init__(self,radius):\n",
    "        self.radius = radius\n",
    "    \n",
    "    def area(self):\n",
    "        return math.pi * self.radius ** 2\n",
    "\n",
    "class Sqaure(Shape):\n",
    "    def __init__(self,side):\n",
    "        self.side = side\n",
    "    \n",
    "    def area(self):\n",
    "        return self.side**2\n",
    "\n",
    "circle = Circle(3)\n",
    "print(circle.area())\n",
    "\n",
    "square = Sqaure(4)\n",
    "print(square.area())\n"
   ]
  },
  {
   "cell_type": "code",
   "execution_count": 89,
   "id": "15cca585",
   "metadata": {},
   "outputs": [
    {
     "name": "stdout",
     "output_type": "stream",
     "text": [
      "Vector(8,10)\n"
     ]
    }
   ],
   "source": [
    "#12 - Operator OverLoading\n",
    "class Vector:\n",
    "    def __init__(self,x,y):\n",
    "        self.x = x\n",
    "        self.y = y\n",
    "    \n",
    "    def __add__(self,other):\n",
    "        return Vector(self.x + other.x, self.y + other.y)\n",
    "    \n",
    "    def __str__(self):\n",
    "        return f\"Vector({self.x},{self.y})\"\n",
    "\n",
    "v1 = Vector(3,4)\n",
    "v2 = Vector(5,6)\n",
    "v3 = v2 + v1\n",
    "print(v3)"
   ]
  },
  {
   "cell_type": "code",
   "execution_count": 96,
   "id": "46ec7e81",
   "metadata": {},
   "outputs": [
    {
     "name": "stdout",
     "output_type": "stream",
     "text": [
      "New Balance: 2000\n"
     ]
    }
   ],
   "source": [
    "#13\n",
    "class InsufficientBalanceError(Exception):\n",
    "    pass\n",
    "\n",
    "class BankAccount:\n",
    "    def __init__(self,user, balance=0):\n",
    "        self.__user = user\n",
    "        self.__balance = balance\n",
    "\n",
    "    def deposite(self,amount):\n",
    "        self.__balance += amount\n",
    "        print(f\"New Balance: {self.__balance}\")\n",
    "\n",
    "    def withdraw(self,amount):\n",
    "        if amount > self.__balance:\n",
    "            raise InsufficientBalanceError(\"Insufficient funds! Amount entered is greater than Account Balance!\")\n",
    "        else:\n",
    "            self.__balance -= amount\n",
    "            print(f\"New Balance: {self.__balance}\")\n",
    "    \n",
    "    def get_balance(self):\n",
    "        return self.__balance\n",
    "\n",
    "account = BankAccount('Kaushik',5000)\n",
    "account.withdraw(3000)"
   ]
  },
  {
   "cell_type": "code",
   "execution_count": null,
   "id": "5983cfb0",
   "metadata": {},
   "outputs": [
    {
     "name": "stdout",
     "output_type": "stream",
     "text": [
      "HI, KAUSHIK\n",
      "\n"
     ]
    }
   ],
   "source": [
    "#14\n",
    "class FileManager:\n",
    "    def __init__(self,filename,mode):\n",
    "        self.filename = filename\n",
    "        self.mode = mode\n",
    "\n",
    "    def __enter__(self):\n",
    "        self.file = open(self.filename,self.mode)\n",
    "        return self.file\n",
    "    \n",
    "    def __exit__(self, exc_type,exc_value, traceback):\n",
    "        self.file.close()\n",
    "\n",
    "with FileManager('sample.txt','r') as file: #A context manager is something you use with a with statement\n",
    "    content = file.read()\n",
    "    print(content)\n",
    "\n",
    "#exc_type - The type of exception -ZeroDivisionError, FileNotFoundError\n",
    "#exc_val - The exception instance (value) - e.g., division by zero\n",
    "#exc_tb - The traceback object (where it happened) - Tells where in the code it occurred\n"
   ]
  },
  {
   "cell_type": "code",
   "execution_count": 107,
   "id": "a66af69d",
   "metadata": {},
   "outputs": [
    {
     "name": "stdout",
     "output_type": "stream",
     "text": [
      "4.0\n"
     ]
    }
   ],
   "source": [
    "#Chaining Methods\n",
    "class Calculate:\n",
    "    def __init__(self,values = 0):\n",
    "        self.values = values\n",
    "\n",
    "    def add(self,amount):\n",
    "        self.values += amount\n",
    "        return self\n",
    "    \n",
    "    def sub(self,amount):\n",
    "        self.values -= amount\n",
    "        return self\n",
    "\n",
    "    def mul(self,amount):\n",
    "        self.values *= amount\n",
    "        return self\n",
    "    \n",
    "    def div(self,amount):\n",
    "        if amount != 0:\n",
    "            self.values /= amount\n",
    "        else:\n",
    "            print(\"Cannot divide by zero!\")\n",
    "        return self\n",
    "\n",
    "calculate = Calculate()\n",
    "calculate.add(10).sub(2).mul(3).div(6)\n",
    "print(calculate.values)"
   ]
  },
  {
   "cell_type": "code",
   "execution_count": 1,
   "id": "b685f89d",
   "metadata": {},
   "outputs": [
    {
     "name": "stdout",
     "output_type": "stream",
     "text": [
      "[0, 1, 4]\n"
     ]
    }
   ],
   "source": [
    "x = [(lambda i: i * i)(i) for i in range(3)] \n",
    "print(x)"
   ]
  },
  {
   "cell_type": "code",
   "execution_count": null,
   "id": "6a68eedc",
   "metadata": {},
   "outputs": [],
   "source": []
  },
  {
   "cell_type": "code",
   "execution_count": null,
   "metadata": {},
   "outputs": [],
   "source": []
  }
 ],
 "metadata": {
  "kernelspec": {
   "display_name": "base",
   "language": "python",
   "name": "python3"
  },
  "language_info": {
   "codemirror_mode": {
    "name": "ipython",
    "version": 3
   },
   "file_extension": ".py",
   "mimetype": "text/x-python",
   "name": "python",
   "nbconvert_exporter": "python",
   "pygments_lexer": "ipython3",
   "version": "3.13.5"
  }
 },
 "nbformat": 4,
 "nbformat_minor": 5
}
