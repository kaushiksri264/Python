{
 "cells": [
  {
   "cell_type": "markdown",
   "metadata": {},
   "source": [
    "# Module 3: Data Structures Assignments\n",
    "## Lesson 3.3: Sets\n",
    "### Assignment 1: Creating and Accessing Sets\n",
    "\n",
    "Create a set with the first 10 positive integers. Print the set.\n",
    "\n",
    "### Assignment 2: Adding and Removing Elements\n",
    "\n",
    "Add the number 11 to the set created in Assignment 1. Then remove the number 1 from the set. Print the modified set.\n",
    "\n",
    "### Assignment 3: Set Operations\n",
    "\n",
    "Create two sets: one with the first 5 positive integers and another with the first 5 even integers. Perform and print the results of union, intersection, difference, and symmetric difference operations on these sets.\n",
    "\n",
    "### Assignment 4: Set Comprehensions\n",
    "\n",
    "Create a new set containing the squares of the first 10 positive integers using a set comprehension. Print the new set.\n",
    "\n",
    "### Assignment 5: Filtering Sets\n",
    "\n",
    "Create a new set containing only the even numbers from the set created in Assignment 1 using a set comprehension. Print the new set.\n",
    "\n",
    "### Assignment 6: Set Methods\n",
    "\n",
    "Create a set with duplicate elements and remove the duplicates using set methods. Print the modified set.\n",
    "\n",
    "### Assignment 7: Subsets and Supersets\n",
    "\n",
    "Create two sets: one with the first 5 positive integers and another with the first 3 positive integers. Check if the second set is a subset of the first set and if the first set is a superset of the second set. Print the results.\n",
    "\n",
    "### Assignment 8: Frozenset\n",
    "\n",
    "Create a frozenset with the first 5 positive integers. Print the frozenset.\n",
    "\n",
    "### Assignment 9: Set and List Conversion\n",
    "\n",
    "Create a set with the first 5 positive integers. Convert it to a list, append the number 6, and convert it back to a set. Print the resulting set.\n",
    "\n",
    "### Assignment 10: Set and Dictionary\n",
    "\n",
    "Create a dictionary with set keys and integer values. Print the dictionary.\n",
    "\n",
    "### Assignment 11: Iterating Over Sets\n",
    "\n",
    "Create a set and iterate over the elements, printing each element.\n",
    "\n",
    "### Assignment 12: Removing Elements from Sets\n",
    "\n",
    "Create a set and remove elements from it until it is empty. Print the set after each removal.\n",
    "\n",
    "### Assignment 13: Set Symmetric Difference Update\n",
    "\n",
    "Create two sets and update the first set with the symmetric difference of the two sets. Print the modified first set.\n",
    "\n",
    "### Assignment 14: Set Membership Testing\n",
    "\n",
    "Create a set and test if certain elements are present in the set. Print the results.\n",
    "\n",
    "### Assignment 15: Set of Tuples\n",
    "\n",
    "Create a set containing tuples, where each tuple contains two elements. Print the set."
   ]
  },
  {
   "cell_type": "code",
   "execution_count": 1,
   "id": "f4380de0",
   "metadata": {},
   "outputs": [
    {
     "name": "stdout",
     "output_type": "stream",
     "text": [
      "{1, 2, 3, 4, 5, 6, 7, 8, 9, 10}\n"
     ]
    }
   ],
   "source": [
    "## Assignment 1: Creating and Accessing Sets\n",
    "##Create a set with the first 10 positive integers. Print the set.\n",
    "my_set = {1,2,3,4,5,6,7,8,9,10}\n",
    "print(my_set)"
   ]
  },
  {
   "cell_type": "code",
   "execution_count": 2,
   "id": "836b3a05",
   "metadata": {},
   "outputs": [
    {
     "name": "stdout",
     "output_type": "stream",
     "text": [
      "{2, 3, 4, 5, 6, 7, 8, 9, 10, 11}\n"
     ]
    }
   ],
   "source": [
    "## Assignment 2: Adding and Removing Elements\n",
    "##Add the number 11 to the set created in Assignment 1. Then remove the number 1 from the set. Print the modified set.\n",
    "\n",
    "my_set.add(11)\n",
    "my_set.pop()\n",
    "print(my_set)"
   ]
  },
  {
   "cell_type": "code",
   "execution_count": 6,
   "id": "76ceb1ca",
   "metadata": {},
   "outputs": [
    {
     "name": "stdout",
     "output_type": "stream",
     "text": [
      "{1, 2, 3, 4, 5, 6, 7}\n",
      "{3, 4, 5}\n",
      "{1, 2}\n",
      "{1, 2, 6, 7}\n"
     ]
    }
   ],
   "source": [
    "## Assignment 3: Set Operations\n",
    "##Create two sets: one with the first 5 positive integers and another with the first 5 even integers. Perform and print the results of union, intersection, difference, and symmetric difference operations on these sets.\n",
    "\n",
    "set1 = {1,2,3,4,5}\n",
    "set2 = {3,4,5,6,7}\n",
    "\n",
    "##Unions\n",
    "union_set = set1.union(set2)\n",
    "print(union_set)\n",
    "\n",
    "##Intersection\n",
    "intersection_set = set1.intersection(set2)\n",
    "print(intersection_set)\n",
    "\n",
    "## Difference\n",
    "difference_set = set1.difference(set2)\n",
    "print(difference_set)\n",
    "\n",
    "## Symmetric difference\n",
    "symmetric_difference_set = set1.symmetric_difference(set2)\n",
    "print(symmetric_difference_set)"
   ]
  },
  {
   "cell_type": "code",
   "execution_count": 8,
   "id": "e99cdaec",
   "metadata": {},
   "outputs": [
    {
     "name": "stdout",
     "output_type": "stream",
     "text": [
      "[1, 4, 9, 16, 25, 36, 49, 64, 81, 100]\n"
     ]
    }
   ],
   "source": [
    "## Assignment 4: Set Comprehensions\n",
    "##Create a new set containing the squares of the first 10 positive integers using a set comprehension. Print the new set.\n",
    "my_set = {1,2,3,4,5,6,7,8,9,10}\n",
    "\n",
    "square = [i**2 for i in my_set]\n",
    "print(square)"
   ]
  },
  {
   "cell_type": "code",
   "execution_count": 11,
   "id": "4330c191",
   "metadata": {},
   "outputs": [
    {
     "name": "stdout",
     "output_type": "stream",
     "text": [
      "[2, 4, 6, 8, 10]\n"
     ]
    }
   ],
   "source": [
    "## Assignment 5: Filtering Sets\n",
    "##Create a new set containing only the even numbers from the set created in Assignment 1 using a set comprehension. Print the new set.\n",
    "\n",
    "even_number_sets = [i for i in my_set if i%2==0]\n",
    "print(even_number_sets)"
   ]
  },
  {
   "cell_type": "code",
   "execution_count": 18,
   "id": "08c65ae7",
   "metadata": {},
   "outputs": [
    {
     "name": "stdout",
     "output_type": "stream",
     "text": [
      "{1, 2, 3, 4}\n"
     ]
    }
   ],
   "source": [
    "## Assignment 6: Set Methods\n",
    "##Create a set with duplicate elements and remove the duplicates using set methods. Print the modified set.\n",
    "duplicate_list = [1,2,2,3,2,1,4]\n",
    "unique_set = set(duplicate_list)\n",
    "print(unique_set)"
   ]
  },
  {
   "cell_type": "code",
   "execution_count": 21,
   "id": "74226e0d",
   "metadata": {},
   "outputs": [
    {
     "name": "stdout",
     "output_type": "stream",
     "text": [
      "True\n",
      "True\n"
     ]
    }
   ],
   "source": [
    "## Assignment 7: Subsets and Supersets\n",
    "##Create two sets: one with the first 5 positive integers and another with the first 3 positive integers. Check if the second set is a subset of the first set and if the first set is a superset of the second set. Print the results.\n",
    "set1 = {1,2,3,4,5}\n",
    "set2 = {1,2,3}\n",
    "\n",
    "## issubset\n",
    "subset_set = set2.issubset(set1)\n",
    "print(subset_set)\n",
    "## issuperset\n",
    "superset_set = set1.issuperset(set2)\n",
    "print(superset_set)"
   ]
  },
  {
   "cell_type": "code",
   "execution_count": 34,
   "id": "5965b85d",
   "metadata": {},
   "outputs": [
    {
     "name": "stdout",
     "output_type": "stream",
     "text": [
      "frozenset({1, 2, 3, 4, 5})\n"
     ]
    }
   ],
   "source": [
    "## Assignment 8: Frozenset\n",
    "##Create a frozenset with the first 5 positive integers. Print the frozenset.\n",
    "frozen_set = frozenset(range(1,6))\n",
    "print(frozen_set)"
   ]
  },
  {
   "cell_type": "code",
   "execution_count": 26,
   "id": "61ad5256",
   "metadata": {},
   "outputs": [
    {
     "name": "stdout",
     "output_type": "stream",
     "text": [
      "{1, 2, 3, 4, 5}\n",
      "[1, 2, 3, 4, 5]\n",
      "[1, 2, 3, 4, 5, 6]\n",
      "{1, 2, 3, 4, 5, 6}\n"
     ]
    }
   ],
   "source": [
    "## Assignment 9: Set and List Conversion\n",
    "##Create a set with the first 5 positive integers. Convert it to a list, append the number 6, and convert it back to a set. Print the resulting set.\n",
    "pos_set = {1,2,3,4,5}\n",
    "print(pos_set)\n",
    "\n",
    "list_set = list(pos_set)\n",
    "print(list_set)\n",
    "\n",
    "list_set.append(6)\n",
    "print(list_set)\n",
    "\n",
    "set_list = set(list_set)\n",
    "print(set_list)"
   ]
  },
  {
   "cell_type": "code",
   "execution_count": 33,
   "id": "16df4540",
   "metadata": {},
   "outputs": [
    {
     "name": "stdout",
     "output_type": "stream",
     "text": [
      "{frozenset({1, 2}): 1, frozenset({3, 4}): 2, frozenset({5, 6}): 3}\n"
     ]
    }
   ],
   "source": [
    "## Assignment 10: Set and Dictionary\n",
    "##Create a dictionary with set keys and integer values. Print the dictionary.\n",
    "dict_set = { \n",
    "    frozenset({1,2}): 1, \n",
    "    frozenset({3,4}): 2,\n",
    "     frozenset({5,6}): 3\n",
    "    }\n",
    "print(dict_set)"
   ]
  },
  {
   "cell_type": "code",
   "execution_count": 36,
   "id": "69c110fd",
   "metadata": {},
   "outputs": [
    {
     "name": "stdout",
     "output_type": "stream",
     "text": [
      "1\n",
      "2\n",
      "3\n",
      "4\n",
      "5\n"
     ]
    }
   ],
   "source": [
    "## Assignment 11: Iterating Over Sets\n",
    "##Create a set and iterate over the elements, printing each element.\n",
    "iterative_set = set(range(1,6))\n",
    "for i in iterative_set:\n",
    "    print(i)\n"
   ]
  },
  {
   "cell_type": "code",
   "execution_count": 41,
   "id": "d72da43e",
   "metadata": {},
   "outputs": [
    {
     "name": "stdout",
     "output_type": "stream",
     "text": [
      "{2, 3, 4, 5}\n",
      "{3, 4, 5}\n",
      "{4, 5}\n",
      "{5}\n",
      "set()\n"
     ]
    }
   ],
   "source": [
    "## Assignment 12: Removing Elements from Sets\n",
    "##Create a set and remove elements from it until it is empty. Print the set after each removal.\n",
    "\n",
    "ele = set(range(1,6))\n",
    "while ele:\n",
    "    ele.pop()\n",
    "    print(ele)\n"
   ]
  },
  {
   "cell_type": "code",
   "execution_count": 45,
   "id": "96a489b4",
   "metadata": {},
   "outputs": [
    {
     "name": "stdout",
     "output_type": "stream",
     "text": [
      "None\n",
      "{1, 2, 6, 7}\n",
      "{3, 4, 5, 6, 7}\n"
     ]
    }
   ],
   "source": [
    "## Assignment 13: Set Symmetric Difference Update\n",
    "##Create two sets and update the first set with the symmetric difference of the two sets. Print the modified first set.\n",
    "set1 = {1,2,3,4,5}\n",
    "set2 = {3,4,5,6,7}\n",
    "\n",
    "symmetric_diff_set = set1.symmetric_difference_update(set2)\n",
    "print(symmetric_diff_set)\n",
    "print(set1)\n",
    "print(set2)"
   ]
  },
  {
   "cell_type": "code",
   "execution_count": 47,
   "id": "5be7416c",
   "metadata": {},
   "outputs": [
    {
     "name": "stdout",
     "output_type": "stream",
     "text": [
      "True\n",
      "False\n"
     ]
    }
   ],
   "source": [
    "## Assignment 14: Set Membership Testing\n",
    "##Create a set and test if certain elements are present in the set. Print the results.\n",
    "\n",
    "membership_test = {1,2,3,4,5,6,7}\n",
    "print(5 in membership_test)\n",
    "print(10 in membership_test)\n"
   ]
  },
  {
   "cell_type": "code",
   "execution_count": 49,
   "id": "fa2b11bc",
   "metadata": {},
   "outputs": [
    {
     "name": "stdout",
     "output_type": "stream",
     "text": [
      "{(1, 2), (3, 4), (7, 8), (5, 6)} <class 'set'>\n"
     ]
    }
   ],
   "source": [
    "## Assignment 15: Set of Tuples\n",
    "##Create a set containing tuples, where each tuple contains two elements. Print the set.\n",
    "set_tuple = {(1,2),(3,4),(5,6),(7,8)}\n",
    "print(set_tuple,type(set_tuple))"
   ]
  },
  {
   "cell_type": "code",
   "execution_count": null,
   "id": "0980f7b3",
   "metadata": {},
   "outputs": [],
   "source": []
  },
  {
   "cell_type": "code",
   "execution_count": null,
   "id": "315d5264",
   "metadata": {},
   "outputs": [],
   "source": []
  },
  {
   "cell_type": "code",
   "execution_count": null,
   "id": "db5a2ef3",
   "metadata": {},
   "outputs": [],
   "source": []
  },
  {
   "cell_type": "code",
   "execution_count": null,
   "metadata": {},
   "outputs": [],
   "source": []
  }
 ],
 "metadata": {
  "kernelspec": {
   "display_name": "Python 3",
   "language": "python",
   "name": "python3"
  },
  "language_info": {
   "codemirror_mode": {
    "name": "ipython",
    "version": 3
   },
   "file_extension": ".py",
   "mimetype": "text/x-python",
   "name": "python",
   "nbconvert_exporter": "python",
   "pygments_lexer": "ipython3",
   "version": "3.12.11"
  }
 },
 "nbformat": 4,
 "nbformat_minor": 5
}
