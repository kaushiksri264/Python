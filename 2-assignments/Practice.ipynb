{
 "cells": [
  {
   "cell_type": "code",
   "execution_count": 2,
   "id": "e3ad5f2a",
   "metadata": {},
   "outputs": [
    {
     "name": "stdout",
     "output_type": "stream",
     "text": [
      "[0, 1, 2, 3, 4, 5, 6, 7, 8, 9, 10, 11, 12, 13, 14, 15, 16, 17, 18, 19, 20]\n"
     ]
    }
   ],
   "source": [
    "##Creating a list\n",
    "#pos_numbers = []\n",
    "for n in range(21):\n",
    "    pos_numbers.append(n)\n",
    "\n",
    "#print(pos_numbers)"
   ]
  },
  {
   "cell_type": "code",
   "execution_count": 10,
   "id": "c2536e30",
   "metadata": {},
   "outputs": [
    {
     "data": {
      "text/plain": [
       "[1, 2, 3, 4, 5, 6, 7, 8, 9, 10, 11, 12, 13, 14, 15, 16, 17, 18, 19, 20]"
      ]
     },
     "execution_count": 10,
     "metadata": {},
     "output_type": "execute_result"
    }
   ],
   "source": [
    "##method 2:\n",
    "pos_numbers = list(range(1,21))\n",
    "pos_numbers"
   ]
  },
  {
   "cell_type": "code",
   "execution_count": 11,
   "id": "e64abf76",
   "metadata": {},
   "outputs": [
    {
     "name": "stdout",
     "output_type": "stream",
     "text": [
      "1\n",
      "11\n",
      "20\n"
     ]
    }
   ],
   "source": [
    "first_index = pos_numbers[0]\n",
    "middle_index = pos_numbers[len(pos_numbers) //2]\n",
    "last_index = pos_numbers[-1]\n",
    "\n",
    "print(first_index)\n",
    "print(middle_index)\n",
    "print(last_index)"
   ]
  },
  {
   "cell_type": "code",
   "execution_count": 15,
   "id": "18f3290f",
   "metadata": {},
   "outputs": [
    {
     "name": "stdout",
     "output_type": "stream",
     "text": [
      "[1, 2, 3, 4, 5]\n",
      "[16, 17, 18, 19, 20]\n",
      "[6, 7, 8, 9, 10, 11, 12, 13, 14, 15]\n"
     ]
    }
   ],
   "source": [
    "first_five = pos_numbers[:5]\n",
    "last_five = pos_numbers[-5:]\n",
    "middle_numbers = pos_numbers[5:15]\n",
    "print(first_five)\n",
    "print(last_five)\n",
    "print(middle_numbers)"
   ]
  },
  {
   "cell_type": "code",
   "execution_count": 19,
   "id": "b213179a",
   "metadata": {},
   "outputs": [
    {
     "data": {
      "text/plain": [
       "[1, 4, 9, 16, 25, 36, 49, 64, 81, 100]"
      ]
     },
     "execution_count": 19,
     "metadata": {},
     "output_type": "execute_result"
    }
   ],
   "source": [
    "#list_compre = [num**2 for num in range(1,11)]\n",
    "list_compre = [num**2 for num in pos_numbers[:10]]\n",
    "list_compre"
   ]
  },
  {
   "cell_type": "code",
   "execution_count": 24,
   "id": "c4e614c7",
   "metadata": {},
   "outputs": [
    {
     "data": {
      "text/plain": [
       "[2, 4, 6, 8, 10, 12, 14, 16, 18, 20]"
      ]
     },
     "execution_count": 24,
     "metadata": {},
     "output_type": "execute_result"
    }
   ],
   "source": [
    "##only even numbers from the list\n",
    "even_numbers = [num for num in pos_numbers[::] if num%2 == 0]\n",
    "even_numbers"
   ]
  },
  {
   "cell_type": "code",
   "execution_count": 28,
   "id": "7416836a",
   "metadata": {},
   "outputs": [
    {
     "name": "stdout",
     "output_type": "stream",
     "text": [
      "[10, 19, 19, 15, 11, 19, 2, 20, 2, 2, 19, 16, 16, 12, 7]\n",
      "[2, 2, 2, 7, 10, 11, 12, 15, 16, 16, 19, 19, 19, 19, 20]\n",
      "[20, 19, 19, 19, 19, 16, 16, 15, 12, 11, 10, 7, 2, 2, 2]\n",
      "[2, 7, 10, 11, 12, 15, 16, 19, 20]\n"
     ]
    }
   ],
   "source": [
    "##random numbers\n",
    "import random\n",
    "random_numbers = [random.randint(1,20) for _ in range(15)]\n",
    "print(random_numbers)\n",
    "\n",
    "asec_order = sorted(random_numbers)\n",
    "print(asec_order)\n",
    "\n",
    "desc_order = sorted(random_numbers,reverse = True)\n",
    "print(desc_order)\n",
    "\n",
    "unique_list = list(set(random_numbers))\n",
    "print(unique_list)"
   ]
  },
  {
   "cell_type": "code",
   "execution_count": 32,
   "id": "af37743b",
   "metadata": {},
   "outputs": [
    {
     "name": "stdout",
     "output_type": "stream",
     "text": [
      "[1, 2, 3]\n",
      "[4, 5, 6]\n",
      "[7, 8, 9]\n",
      "6\n"
     ]
    }
   ],
   "source": [
    "##Marix 3X3\n",
    "matrix_list = [\n",
    "    [1,2,3],\n",
    "    [4,5,6],\n",
    "    [7,8,9]\n",
    "]\n",
    "for row in matrix_list:\n",
    "    print(row)\n",
    "\n",
    "access_element = matrix_list[1][2]\n",
    "print(access_element)\n"
   ]
  },
  {
   "cell_type": "code",
   "execution_count": 47,
   "id": "53eacccf",
   "metadata": {},
   "outputs": [
    {
     "name": "stdout",
     "output_type": "stream",
     "text": [
      "[{'name': 'sam', 'score': 95}, {'name': 'Mick', 'score': 98}, {'name': 'Kaushik', 'score': 100}]\n",
      "95\n",
      "98\n",
      "100\n",
      "[{'name': 'Kaushik', 'score': 100}, {'name': 'Mick', 'score': 98}, {'name': 'sam', 'score': 95}]\n"
     ]
    }
   ],
   "source": [
    "##List of dictionaries\n",
    "students = [\n",
    "    {'name' : 'sam', 'score' : 95},\n",
    "    {'name' : 'Mick', 'score' : 98},\n",
    "    {'name' : 'Kaushik', 'score' : 100}\n",
    "]\n",
    "print(students)\n",
    "\n",
    "for student in students:\n",
    "    print(student['score'])\n",
    "\n",
    "desc_order = sorted(students, key=lambda x:x['score'], reverse = True)\n",
    "print(desc_order)\n"
   ]
  },
  {
   "cell_type": "code",
   "execution_count": 49,
   "id": "dce8c6bc",
   "metadata": {},
   "outputs": [
    {
     "name": "stdout",
     "output_type": "stream",
     "text": [
      "[[1, 2, 3], [4, 5, 6]]\n",
      "[[1, 4], [2, 5], [3, 6]]\n"
     ]
    }
   ],
   "source": [
    "##Transpose matrix\n",
    "matrix = [\n",
    "    [1,2,3],\n",
    "    [4,5,6]\n",
    "]\n",
    "print(matrix)\n",
    "\n",
    "trans_matrix = [[row[i] for row in matrix] for i in range(len(matrix[0]))]\n",
    "print(trans_matrix)"
   ]
  },
  {
   "cell_type": "code",
   "execution_count": 52,
   "id": "db6e3d69",
   "metadata": {},
   "outputs": [
    {
     "name": "stdout",
     "output_type": "stream",
     "text": [
      "Flattened_list: [1, 2, 3, 4, 5, 6, 7, 8, 9, 10, 11, 12]\n"
     ]
    }
   ],
   "source": [
    "##Flatten list\n",
    "def flatten_list(nested_list):\n",
    "    flat_list = []\n",
    "    for lis in nested_list:\n",
    "        if isinstance(lis,list):\n",
    "            flat_list.extend(flatten_list(lis))\n",
    "        else:\n",
    "            flat_list.append(lis)\n",
    "    return flat_list\n",
    "\n",
    "og_list = [1,[2,[3,4,5],6],[7,[8,9],10],11,[12]]\n",
    "flattened = flatten_list(og_list)\n",
    "print(\"Flattened_list:\", flattened)"
   ]
  },
  {
   "cell_type": "code",
   "execution_count": 55,
   "id": "4c3514cf",
   "metadata": {},
   "outputs": [
    {
     "data": {
      "text/plain": [
       "{1: 1, 2: 4, 3: 9, 4: 16, 5: 25, 6: 36, 7: 49, 8: 64, 9: 81, 10: 100}"
      ]
     },
     "execution_count": 55,
     "metadata": {},
     "output_type": "execute_result"
    }
   ],
   "source": [
    "##Merge two dictionaries\n",
    "dict1 = {i: i**2 for i in range(1,6)}\n",
    "dict1\n",
    "dict2 = {x: x**2 for x in range(6,11)}\n",
    "dict2\n",
    "merge_dict = {**dict1,**dict2}\n",
    "merge_dict"
   ]
  },
  {
   "cell_type": "code",
   "execution_count": 57,
   "id": "6cc27cc4",
   "metadata": {},
   "outputs": [
    {
     "name": "stdout",
     "output_type": "stream",
     "text": [
      "73.4\n"
     ]
    }
   ],
   "source": [
    "def celcius_to_farenhiet(C):\n",
    "    return C * 9 / 5 + 32\n",
    "\n",
    "print(celcius_to_farenhiet(23))"
   ]
  },
  {
   "cell_type": "code",
   "execution_count": 73,
   "id": "54a17e96",
   "metadata": {},
   "outputs": [
    {
     "name": "stdout",
     "output_type": "stream",
     "text": [
      "5\n"
     ]
    }
   ],
   "source": [
    "def calculate_lift_rounds(n,cap):\n",
    "    rounds = 0\n",
    "    if n % 3 == 0:\n",
    "        rounds = n // 3\n",
    "        return rounds\n",
    "    else: \n",
    "        rounds = n // 3 + 1\n",
    "        return rounds\n",
    "\n",
    "print(calculate_lift_rounds(13,3))"
   ]
  },
  {
   "cell_type": "code",
   "execution_count": 83,
   "id": "7857b8c1",
   "metadata": {},
   "outputs": [
    {
     "name": "stdout",
     "output_type": "stream",
     "text": [
      "5\n",
      "4\n",
      "3\n",
      "2\n",
      "53\n",
      "3\n"
     ]
    }
   ],
   "source": [
    "nums=[5,4,3,2,53,3]\n",
    "for i in nums:\n",
    "    print(i)\n"
   ]
  },
  {
   "cell_type": "code",
   "execution_count": 86,
   "id": "67b86841",
   "metadata": {},
   "outputs": [
    {
     "name": "stdout",
     "output_type": "stream",
     "text": [
      "{1, 2, 3, 4, 5, 6}\n"
     ]
    }
   ],
   "source": [
    "lt = [1,2,3,4,4,5,5,6]\n",
    "def remove_duplicates(lst):\n",
    "    return set(lt)\n",
    "\n",
    "print(remove_duplicates(lt))"
   ]
  },
  {
   "cell_type": "code",
   "execution_count": 96,
   "id": "e47c5ebc",
   "metadata": {},
   "outputs": [
    {
     "data": {
      "text/plain": [
       "[1, 2, 3, 4, 5, 6]"
      ]
     },
     "execution_count": 96,
     "metadata": {},
     "output_type": "execute_result"
    }
   ],
   "source": [
    "lst1 = [1,3,5]\n",
    "lst2 = [2,4,6]\n",
    "def merge_two_lists(lis1,lis2):\n",
    "    if len(lis1) > len(lis2):\n",
    "        for lis in lis2:\n",
    "            lis1.append(lis)\n",
    "        lis1.sort()\n",
    "        return lis1\n",
    "    else:\n",
    "        for lis in lis1:\n",
    "            lis2.append(lis)\n",
    "        lis2.sort()\n",
    "        return lis2\n",
    "\n",
    "merge_two_lists(lst1,lst2)\n"
   ]
  },
  {
   "cell_type": "code",
   "execution_count": 97,
   "id": "3294a076",
   "metadata": {},
   "outputs": [],
   "source": [
    "lst1 = [1,3,5]\n",
    "lst2 = [2,4,6]\n",
    "def merge_two_lists(lis1,lis2):\n",
    "    return sorted(lis1 + lis2)"
   ]
  },
  {
   "cell_type": "code",
   "execution_count": 101,
   "id": "a09f1455",
   "metadata": {},
   "outputs": [
    {
     "name": "stdout",
     "output_type": "stream",
     "text": [
      "{'hello': 1, 'my': 1, 'name': 2, 'is': 1}\n"
     ]
    }
   ],
   "source": [
    "def count_words_freq(statement):\n",
    "    word_count = {}\n",
    "    words = statement.split()\n",
    "    for word in words:\n",
    "        word = word.lower().strip('.,!;:\"\\'')\n",
    "        word_count[word] = word_count.get(word,0) + 1\n",
    "    return word_count\n",
    "\n",
    "print(count_words_freq(\"Hello, My Name Is Name\"))\n",
    "\n"
   ]
  },
  {
   "cell_type": "code",
   "execution_count": 106,
   "id": "5960f71c",
   "metadata": {},
   "outputs": [],
   "source": [
    "def is_palindromic_tuple(tup):\n",
    "    # Your code goes here\n",
    "    start = 0\n",
    "    end = len(tup) - 1 \n",
    "    while start < end:\n",
    "        if tup[start] == tup[end]:\n",
    "            start+=1 \n",
    "            end-=1 \n",
    "        return True\n",
    "    return False\n",
    "\n"
   ]
  },
  {
   "cell_type": "code",
   "execution_count": null,
   "id": "797d07d5",
   "metadata": {},
   "outputs": [],
   "source": []
  }
 ],
 "metadata": {
  "kernelspec": {
   "display_name": "Python 3",
   "language": "python",
   "name": "python3"
  },
  "language_info": {
   "codemirror_mode": {
    "name": "ipython",
    "version": 3
   },
   "file_extension": ".py",
   "mimetype": "text/x-python",
   "name": "python",
   "nbconvert_exporter": "python",
   "pygments_lexer": "ipython3",
   "version": "3.12.11"
  }
 },
 "nbformat": 4,
 "nbformat_minor": 5
}
