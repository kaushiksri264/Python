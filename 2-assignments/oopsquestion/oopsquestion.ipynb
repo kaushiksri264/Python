{
 "cells": [
  {
   "cell_type": "markdown",
   "metadata": {},
   "source": [
    "# Module: OOP Assignments\n",
    "## Lesson: Polymorphism, Abstraction, and Encapsulation\n",
    "### Assignment 1: Polymorphism with Methods\n",
    "\n",
    "Create a base class named `Shape` with a method `area`. Create two derived classes `Circle` and `Square` that override the `area` method. Create a list of `Shape` objects and call the `area` method on each object to demonstrate polymorphism.\n",
    "\n",
    "### Assignment 2: Polymorphism with Function Arguments\n",
    "\n",
    "Create a function named `describe_shape` that takes a `Shape` object as an argument and calls its `area` method. Create objects of `Circle` and `Square` classes and pass them to the `describe_shape` function.\n",
    "\n",
    "### Assignment 3: Abstract Base Class with Abstract Methods\n",
    "\n",
    "Create an abstract base class named `Vehicle` with an abstract method `start_engine`. Create derived classes `Car` and `Bike` that implement the `start_engine` method. Create objects of the derived classes and call the `start_engine` method.\n",
    "\n",
    "### Assignment 4: Abstract Base Class with Concrete Methods\n",
    "\n",
    "In the `Vehicle` class, add a concrete method `fuel_type` that returns a generic fuel type. Override this method in `Car` and `Bike` classes to return specific fuel types. Create objects of the derived classes and call the `fuel_type` method.\n",
    "\n",
    "### Assignment 5: Encapsulation with Private Attributes\n",
    "\n",
    "Create a class named `BankAccount` with private attributes `account_number` and `balance`. Add methods to deposit and withdraw money, and to check the balance. Ensure that the balance cannot be accessed directly.\n",
    "\n",
    "### Assignment 6: Encapsulation with Property Decorators\n",
    "\n",
    "In the `BankAccount` class, use property decorators to get and set the `balance` attribute. Ensure that the balance cannot be set to a negative value.\n",
    "\n",
    "### Assignment 7: Combining Encapsulation and Inheritance\n",
    "\n",
    "Create a base class named `Person` with private attributes `name` and `age`. Add methods to get and set these attributes. Create a derived class named `Student` that adds an attribute `student_id`. Create an object of the `Student` class and test the encapsulation.\n",
    "\n",
    "### Assignment 8: Polymorphism with Inheritance\n",
    "\n",
    "Create a base class named `Animal` with a method `speak`. Create two derived classes `Dog` and `Cat` that override the `speak` method. Create a list of `Animal` objects and call the `speak` method on each object to demonstrate polymorphism.\n",
    "\n",
    "### Assignment 9: Abstract Methods in Base Class\n",
    "\n",
    "Create an abstract base class named `Employee` with an abstract method `calculate_salary`. Create two derived classes `FullTimeEmployee` and `PartTimeEmployee` that implement the `calculate_salary` method. Create objects of the derived classes and call the `calculate_salary` method.\n",
    "\n",
    "### Assignment 10: Encapsulation in Data Classes\n",
    "\n",
    "Create a data class named `Product` with private attributes `product_id`, `name`, and `price`. Add methods to get and set these attributes. Ensure that the price cannot be set to a negative value.\n",
    "\n",
    "### Assignment 11: Polymorphism with Operator Overloading\n",
    "\n",
    "Create a class named `Vector` with attributes `x` and `y`. Overload the `+` operator to add two `Vector` objects. Create objects of the class and test the operator overloading.\n",
    "\n",
    "### Assignment 12: Abstract Properties\n",
    "\n",
    "Create an abstract base class named `Appliance` with an abstract property `power`. Create two derived classes `WashingMachine` and `Refrigerator` that implement the `power` property. Create objects of the derived classes and access the `power` property.\n",
    "\n",
    "### Assignment 13: Encapsulation in Class Hierarchies\n",
    "\n",
    "Create a base class named `Account` with private attributes `account_number` and `balance`. Add methods to get and set these attributes. Create a derived class named `SavingsAccount` that adds an attribute `interest_rate`. Create an object of the `SavingsAccount` class and test the encapsulation.\n",
    "\n",
    "### Assignment 14: Polymorphism with Multiple Inheritance\n",
    "\n",
    "Create a class named `Flyer` with a method `fly`. Create a class named `Swimmer` with a method `swim`. Create a class named `Superhero` that inherits from both `Flyer` and `Swimmer` and overrides both methods. Create an object of the `Superhero` class and call both methods.\n",
    "\n",
    "### Assignment 15: Abstract Methods and Multiple Inheritance\n",
    "\n",
    "Create an abstract base class named `Worker` with an abstract method `work`. Create two derived classes `Engineer` and `Doctor` that implement the `work` method. Create another derived class `Scientist` that inherits from both `Engineer` and `Doctor`. Create an object of the `Scientist` class and call the `work` method."
   ]
  },
  {
   "cell_type": "code",
   "execution_count": 1,
   "id": "c2163704",
   "metadata": {},
   "outputs": [
    {
     "name": "stdout",
     "output_type": "stream",
     "text": [
      "78.53981633974483\n",
      "16\n"
     ]
    }
   ],
   "source": [
    "import math\n",
    "class Shape:\n",
    "    def area(self):\n",
    "        print(\"Area of the shape.\")\n",
    "\n",
    "class Circle(Shape):\n",
    "    def __init__(self,radius):\n",
    "        self.radius = radius\n",
    "\n",
    "    def area(self):\n",
    "        return math.pi * self.radius ** 2\n",
    "        \n",
    "\n",
    "class Square(Shape):\n",
    "    def __init__(self,side):\n",
    "        self.side = side\n",
    "\n",
    "    def area(self):\n",
    "        return self.side * self.side\n",
    "\n",
    "shapes = [Circle(5),Square(4)]\n",
    "for shape in shapes:\n",
    "    print(shape.area())\n",
    "    "
   ]
  },
  {
   "cell_type": "code",
   "execution_count": 9,
   "id": "48e709f3",
   "metadata": {},
   "outputs": [
    {
     "name": "stdout",
     "output_type": "stream",
     "text": [
      "Area of the shape : 78.53981633974483\n",
      "None\n",
      "Area of the shape : 16\n",
      "None\n"
     ]
    }
   ],
   "source": [
    "def describe_shape(shape):\n",
    "    print(f\"Area of the shape : {shape.area()}\")\n",
    "\n",
    "circle = Circle(5)\n",
    "square = Square(4)\n",
    "print(describe_shape(circle))\n",
    "print(describe_shape(square))\n"
   ]
  },
  {
   "cell_type": "code",
   "execution_count": 14,
   "id": "d39f77b4",
   "metadata": {},
   "outputs": [
    {
     "name": "stdout",
     "output_type": "stream",
     "text": [
      "Car Engine started....\n"
     ]
    }
   ],
   "source": [
    "from abc import ABC,abstractmethod\n",
    "class Vehicle(ABC):\n",
    "\n",
    "    @abstractmethod\n",
    "    def start_engine(self):\n",
    "        pass\n",
    "\n",
    "class Car(Vehicle):\n",
    "    def start_engine(self):\n",
    "        print(\"Car Engine started....\")\n",
    "\n",
    "class Bike(Vehicle):\n",
    "    def start_engine(self):\n",
    "        print(\"Bike Engine started....\")\n",
    "\n",
    "car = Car()\n",
    "bike = Bike()\n",
    "\n",
    "car.start_engine()\n"
   ]
  },
  {
   "cell_type": "code",
   "execution_count": null,
   "id": "b0678623",
   "metadata": {},
   "outputs": [
    {
     "name": "stdout",
     "output_type": "stream",
     "text": [
      "Car Engine started....\n",
      "Car Fuel_Type: Disel\n"
     ]
    }
   ],
   "source": [
    "from abc import ABC,abstractmethod\n",
    "class Vehicle(ABC):\n",
    "\n",
    "    @abstractmethod\n",
    "    def start_engine(self):\n",
    "        pass\n",
    "\n",
    "    def fuel_type_vehicle(self):\n",
    "        return \"Generic full\"\n",
    "\n",
    "class Car(Vehicle):\n",
    "    def start_engine(self):\n",
    "        print(\"Car Engine started....\")\n",
    "\n",
    "    def fuel_type_vehicle(self):\n",
    "       return f\"Car Fuel_Type: Disel\"\n",
    "    \n",
    "class Bike(Vehicle):\n",
    "    def start_engine(self):\n",
    "        print(\"Bike Engine started....\")\n",
    "    \n",
    "    def fuel_type_vehicle(self):\n",
    "       return f\"Bike Fuel_Type:Gas\"\n",
    "\n",
    "car = Car()\n",
    "bike = Bike()\n",
    "\n",
    "car.start_engine()\n",
    "print(car.fuel_type_vehicle())"
   ]
  },
  {
   "cell_type": "code",
   "execution_count": 33,
   "id": "ad4c5a1b",
   "metadata": {},
   "outputs": [
    {
     "name": "stdout",
     "output_type": "stream",
     "text": [
      "New Balance: 10000, Added amount:5000\n",
      "New Balance: 9000\n",
      "Balance: 9000\n"
     ]
    }
   ],
   "source": [
    "#5\n",
    "class BankAccount:\n",
    "    def __init__(self,account_number,balance=0):\n",
    "        self.__account_number = account_number\n",
    "        self.__balance = balance\n",
    "    \n",
    "    def deposite(self,amount):\n",
    "        self.__balance += amount\n",
    "        print(f\"New Balance: {self.__balance}, Added amount:{amount}\")\n",
    "    \n",
    "    def withdraw(self,amount):\n",
    "        if amount > self.__balance:\n",
    "            print(\"Insufficient funds!\")\n",
    "        else:\n",
    "            self.__balance -= amount\n",
    "            print(f\"New Balance: {self.__balance}\")\n",
    "\n",
    "    def get_balance(self):\n",
    "        return f\"Balance: {self.__balance}\"\n",
    "    \n",
    "\n",
    "account = BankAccount('1234',5000)\n",
    "account.deposite(5000)\n",
    "account.withdraw(1000)\n",
    "print(account.get_balance())"
   ]
  },
  {
   "cell_type": "code",
   "execution_count": 37,
   "id": "59ef4127",
   "metadata": {},
   "outputs": [
    {
     "name": "stdout",
     "output_type": "stream",
     "text": [
      "New Balance: 10000, Added amount:5000\n",
      "New Balance: 9000\n",
      "Balance: 9000\n"
     ]
    },
    {
     "data": {
      "text/plain": [
       "8500"
      ]
     },
     "execution_count": 37,
     "metadata": {},
     "output_type": "execute_result"
    }
   ],
   "source": [
    "#6\n",
    "class BankAccount:\n",
    "    def __init__(self,account_number,balance=0):\n",
    "        self.__account_number = account_number\n",
    "        self.__balance = balance\n",
    "    @property\n",
    "    def balance(self):\n",
    "        return self.__balance\n",
    "    \n",
    "    @balance.setter\n",
    "    def balance(self,amount):\n",
    "        if amount < 0:\n",
    "            print(\"Balance cannot be negative.\")\n",
    "        else:\n",
    "            self.__balance = amount\n",
    "    \n",
    "    def deposite(self,amount):\n",
    "        self.__balance += amount\n",
    "        print(f\"New Balance: {self.__balance}, Added amount:{amount}\")\n",
    "    \n",
    "    def withdraw(self,amount):\n",
    "        if amount > self.__balance:\n",
    "            print(\"Insufficient funds!\")\n",
    "        else:\n",
    "            self.__balance -= amount\n",
    "            print(f\"New Balance: {self.__balance}\")\n",
    "\n",
    "    def get_balance(self):\n",
    "        return f\"Balance: {self.__balance}\"\n",
    "    \n",
    "\n",
    "account = BankAccount('1234',5000)\n",
    "account.deposite(5000)\n",
    "account.withdraw(1000)\n",
    "print(account.get_balance())\n",
    "account.balance -= 500\n",
    "account.balance"
   ]
  },
  {
   "cell_type": "code",
   "execution_count": 46,
   "id": "f8a7734a",
   "metadata": {},
   "outputs": [
    {
     "name": "stdout",
     "output_type": "stream",
     "text": [
      "Kaushik 26 1234\n",
      "Sri 26 1234\n"
     ]
    }
   ],
   "source": [
    "class Person:\n",
    "    def __init__(self,name,age):\n",
    "        self.__name = name\n",
    "        self.__age = age\n",
    "    \n",
    "    def get_name(self):\n",
    "        return self.__name\n",
    "    \n",
    "    def set_name(self,name):\n",
    "        self.__name = name\n",
    "    \n",
    "    def get_age(self):\n",
    "        return self.__age\n",
    "    \n",
    "    def set_age(self,age):\n",
    "        self.__age = age\n",
    "\n",
    "class Student(Person):\n",
    "    def __init__(self, name, age, student_id):\n",
    "        super().__init__(name,age)\n",
    "        self.student_id = student_id\n",
    "\n",
    "student = Student('Kaushik',26,1234)\n",
    "print(student.get_name(),student.get_age(),student.student_id)\n",
    "student.set_name('Sri')\n",
    "student.set_age(26)\n",
    "print(student.get_name(),student.get_age(),student.student_id)"
   ]
  },
  {
   "cell_type": "code",
   "execution_count": 47,
   "id": "40d34af3",
   "metadata": {},
   "outputs": [
    {
     "name": "stdout",
     "output_type": "stream",
     "text": [
      "Dog says Woof!\n",
      "Cat says meow!\n"
     ]
    }
   ],
   "source": [
    "class Animal:\n",
    "    def speak(self):\n",
    "        pass\n",
    "\n",
    "class Dog(Animal):\n",
    "    def speak(self):\n",
    "        print (\"Dog says Woof!\")\n",
    "\n",
    "class Cat(Animal):\n",
    "    def speak(self):\n",
    "        print (\"Cat says meow!\")\n",
    "\n",
    "animal = [Dog(),Cat()]\n",
    "for ani in animal:\n",
    "    ani.speak()"
   ]
  },
  {
   "cell_type": "code",
   "execution_count": null,
   "id": "61438397",
   "metadata": {},
   "outputs": [
    {
     "name": "stdout",
     "output_type": "stream",
     "text": [
      "10000\n",
      "360\n"
     ]
    }
   ],
   "source": [
    "#9\n",
    "from abc import ABC,abstractmethod\n",
    "class Employee(ABC):\n",
    "\n",
    "    @abstractmethod\n",
    "    def calculate_salaray(self):\n",
    "        pass\n",
    "\n",
    "class FullTimeEmployee:\n",
    "    def __init__(self,salary):\n",
    "        self.salary = salary\n",
    "\n",
    "    def calculated_salary(self):\n",
    "        return self.salary\n",
    "        \n",
    "class PartTimeEmployee:\n",
    "    def __init__(self,hours,rate):\n",
    "        self.hours = hours\n",
    "        self.rate = rate\n",
    "\n",
    "    def calculated_salary(self):\n",
    "        return self.hours * self.rate\n",
    "\n",
    "\n",
    "fullTime = FullTimeEmployee(1000)\n",
    "partTime = PartTimeEmployee(8,45)\n",
    "print(fullTime.calculated_salary())\n",
    "print(partTime.calculated_salary())"
   ]
  },
  {
   "cell_type": "code",
   "execution_count": null,
   "id": "567c7721",
   "metadata": {},
   "outputs": [
    {
     "name": "stdout",
     "output_type": "stream",
     "text": [
      "12345 Car 80K\n",
      "5678 Bike 3K\n"
     ]
    }
   ],
   "source": [
    "#10\n",
    "class Product:\n",
    "    def __init__(self,product_id,name,price):\n",
    "        self.__product_id = product_id\n",
    "        self.__name = name\n",
    "        self.__price = price\n",
    "    \n",
    "    def get_product_id(self):\n",
    "        return self.__product_id\n",
    "    def set_product_id(self,product_id):\n",
    "        self.__product_id = product_id\n",
    "    \n",
    "    def get_name(self):\n",
    "        return self.__name\n",
    "    def set_name(self,name):\n",
    "        self.__name = name\n",
    "\n",
    "    def get_price(self):\n",
    "        return self.__price\n",
    "    def set_price(self,price):\n",
    "        if price < 0:\n",
    "            print(\"Price cannot be negative!\")\n",
    "        else:\n",
    "            self.__price = price\n",
    "\n",
    "\n",
    "product = Product('12345','Car','80K')\n",
    "print(product.get_product_id(),product.get_name(),product.get_price())\n",
    "product.set_product_id('5678')\n",
    "product.set_name('Bike')\n",
    "product.set_price('3K')\n",
    "print(product.get_product_id(),product.get_name(),product.get_price())\n"
   ]
  },
  {
   "cell_type": "code",
   "execution_count": 61,
   "id": "a7eb4889",
   "metadata": {},
   "outputs": [
    {
     "name": "stdout",
     "output_type": "stream",
     "text": [
      "Vector(6,8)\n"
     ]
    }
   ],
   "source": [
    "#11\n",
    "class Vector:\n",
    "    def __init__(self,x,y):\n",
    "        self.x = x\n",
    "        self.y = y\n",
    "    \n",
    "    def __add__(self,other):\n",
    "        return Vector(self.x + other.x, self.y + other.y)\n",
    "    \n",
    "    def __str__(self):\n",
    "        return f\"Vector({self.x},{self.y})\"\n",
    "    \n",
    "v1 = Vector(2,3)\n",
    "v2 = Vector(4,5)\n",
    "v3 = v1 + v2\n",
    "print(v3)\n"
   ]
  },
  {
   "cell_type": "code",
   "execution_count": 64,
   "id": "3e3746af",
   "metadata": {},
   "outputs": [
    {
     "name": "stdout",
     "output_type": "stream",
     "text": [
      "500W\n",
      "300W\n"
     ]
    }
   ],
   "source": [
    "#12\n",
    "class Appliance(ABC):\n",
    "    @property\n",
    "    @abstractmethod\n",
    "    def power(self):\n",
    "        pass\n",
    "\n",
    "class WashingMachine(Appliance):\n",
    "    @property\n",
    "    def power(self):\n",
    "        return \"500W\"\n",
    "    \n",
    "class Refrigerator(Appliance):\n",
    "    @property\n",
    "    def power(self):\n",
    "        return \"300W\"\n",
    "\n",
    "wm  = WashingMachine()\n",
    "ref = Refrigerator()\n",
    "print(wm.power)\n",
    "print(ref.power)"
   ]
  },
  {
   "cell_type": "code",
   "execution_count": 70,
   "id": "841ec330",
   "metadata": {},
   "outputs": [
    {
     "name": "stdout",
     "output_type": "stream",
     "text": [
      "1234 Balance: 5000 0.8\n",
      "1234 Balance: 2000 0.8\n"
     ]
    }
   ],
   "source": [
    "#13\n",
    "class BankAccount:\n",
    "    def __init__(self,account_number,balance=0):\n",
    "        self.__account_number = account_number\n",
    "        self.__balance = balance\n",
    "    \n",
    "    def get_account_number(self):\n",
    "        return self.__account_number\n",
    "    \n",
    "    def set_account_number(self,account_number):\n",
    "        self.__account_number = account_number\n",
    "\n",
    "    def get_balance(self):\n",
    "        return self.__balance\n",
    "    \n",
    "    def set_balance(self,balance):\n",
    "        if balance < 0:\n",
    "            print(\"Balance cannot be Zero\")\n",
    "        else:\n",
    "            self.__balance = balance\n",
    "    \n",
    "    def deposite(self,amount):\n",
    "        self.__balance += amount\n",
    "        print(f\"New Balance: {self.__balance}, Added amount:{amount}\")\n",
    "    \n",
    "    def withdraw(self,amount):\n",
    "        if amount > self.__balance:\n",
    "            print(\"Insufficient funds!\")\n",
    "        else:\n",
    "            self.__balance -= amount\n",
    "            print(f\"New Balance: {self.__balance}\")\n",
    "\n",
    "    def get_balance(self):\n",
    "        return f\"Balance: {self.__balance}\"\n",
    "    \n",
    "class SavingsAccount(BankAccount):\n",
    "    def __init__(self,account_number,balance,interest_rate):\n",
    "        super().__init__(account_number,balance)\n",
    "        self.interest_rate = interest_rate\n",
    "\n",
    "\n",
    "saving = SavingsAccount('1234',5000,0.8)\n",
    "print(saving.get_account_number(),saving.get_balance(),saving.interest_rate)\n",
    "saving.get_balance()\n",
    "saving.set_balance(2000)\n",
    "print(saving.get_account_number(),saving.get_balance(),saving.interest_rate)\n"
   ]
  },
  {
   "cell_type": "code",
   "execution_count": 71,
   "id": "f95da138",
   "metadata": {},
   "outputs": [
    {
     "name": "stdout",
     "output_type": "stream",
     "text": [
      "Superhero Flying...\n",
      "SuperHero Swimming...\n"
     ]
    }
   ],
   "source": [
    "#14\n",
    "class Flyer:\n",
    "    def fly(self):\n",
    "        print(\"Fying...\")\n",
    "\n",
    "class Swimmer:\n",
    "    def swim(self):\n",
    "        print(\"Swimming...\")\n",
    "\n",
    "class SuperHero(Flyer,Swimmer):\n",
    "    def fly(self):\n",
    "        print(\"Superhero Flying...\")\n",
    "    def swim(self):\n",
    "        print(\"SuperHero Swimming...\")\n",
    "\n",
    "hero = SuperHero()\n",
    "hero.fly()\n",
    "hero.swim()"
   ]
  },
  {
   "cell_type": "code",
   "execution_count": 73,
   "metadata": {},
   "outputs": [
    {
     "name": "stdout",
     "output_type": "stream",
     "text": [
      "Engineer is working.\n",
      "Doctor is working.\n"
     ]
    }
   ],
   "source": [
    "#15\n",
    "class Worker(ABC):\n",
    "    @abstractmethod\n",
    "    def work(self):\n",
    "        pass\n",
    "\n",
    "class Engineer(Worker):\n",
    "    def work(self):\n",
    "        print(\"Engineer is working.\")\n",
    "\n",
    "class Doctor(Worker):\n",
    "    def work(self):\n",
    "        print(\"Doctor is working.\")\n",
    "\n",
    "class Scientist(Engineer,Doctor):\n",
    "    def work(self):\n",
    "        Engineer.work(self)\n",
    "        Doctor.work(self)\n",
    "\n",
    "sc = Scientist()\n",
    "sc.work()"
   ]
  },
  {
   "cell_type": "code",
   "execution_count": null,
   "id": "b7855950",
   "metadata": {},
   "outputs": [],
   "source": []
  }
 ],
 "metadata": {
  "kernelspec": {
   "display_name": "Python 3",
   "language": "python",
   "name": "python3"
  },
  "language_info": {
   "codemirror_mode": {
    "name": "ipython",
    "version": 3
   },
   "file_extension": ".py",
   "mimetype": "text/x-python",
   "name": "python",
   "nbconvert_exporter": "python",
   "pygments_lexer": "ipython3",
   "version": "3.12.11"
  }
 },
 "nbformat": 4,
 "nbformat_minor": 5
}
