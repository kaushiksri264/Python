{
 "cells": [
  {
   "cell_type": "markdown",
   "metadata": {},
   "source": [
    "# Module 4: Advanced Functions Assignments\n",
    "## Lesson 4.1: Defining Functions\n",
    "### Assignment 1: Fibonacci Sequence with Memoization\n",
    "\n",
    "Define a recursive function to calculate the nth Fibonacci number using memoization. Test the function with different inputs.\n",
    "\n",
    "### Assignment 2: Function with Nested Default Arguments\n",
    "\n",
    "Define a function that takes two arguments, a and b, where b is a dictionary with a default value of an empty dictionary. The function should add a new key-value pair to the dictionary and return it. Test the function with different inputs.\n",
    "\n",
    "### Assignment 3: Function with Variable Keyword Arguments\n",
    "\n",
    "Define a function that takes a variable number of keyword arguments and returns a dictionary containing only those key-value pairs where the value is an integer. Test the function with different inputs.\n",
    "\n",
    "### Assignment 4: Function with Callback\n",
    "\n",
    "Define a function that takes another function as a callback and a list of integers. The function should apply the callback to each integer in the list and return a new list with the results. Test with different callback functions.\n",
    "\n",
    "### Assignment 5: Function that Returns a Function\n",
    "\n",
    "Define a function that returns another function. The returned function should take an integer and return its square. Test the returned function with different inputs.\n",
    "\n",
    "### Assignment 6: Function with Decorators\n",
    "\n",
    "Define a function that calculates the time taken to execute another function. Apply this decorator to a function that performs a complex calculation. Test the decorated function with different inputs.\n",
    "\n",
    "### Assignment 7: Higher-Order Function for Filtering and Mapping\n",
    "\n",
    "Define a higher-order function that takes two functions, a filter function and a map function, along with a list of integers. The higher-order function should first filter the integers using the filter function and then apply the map function to the filtered integers. Test with different filter and map functions.\n",
    "\n",
    "### Assignment 8: Function Composition\n",
    "\n",
    "Define a function that composes two functions, f and g, such that the result is f(g(x)). Test with different functions f and g.\n",
    "\n",
    "### Assignment 9: Partial Function Application\n",
    "\n",
    "Use the functools.partial function to create a new function that multiplies its input by 2. Test the new function with different inputs.\n",
    "\n",
    "### Assignment 10: Function with Error Handling\n",
    "\n",
    "Define a function that takes a list of integers and returns their average. The function should handle any errors that occur (e.g., empty list) and return None in such cases. Test with different inputs.\n",
    "\n",
    "### Assignment 11: Function with Generators\n",
    "\n",
    "Define a function that generates an infinite sequence of Fibonacci numbers. Test by printing the first 10 numbers in the sequence.\n",
    "\n",
    "### Assignment 12: Currying\n",
    "\n",
    "Define a curried function that takes three arguments, one at a time, and returns their product. Test the function by providing arguments one at a time.\n",
    "\n",
    "### Assignment 13: Function with Context Manager\n",
    "\n",
    "Define a function that uses a context manager to write a list of integers to a file. The function should handle any errors that occur during file operations. Test with different lists.\n",
    "\n",
    "### Assignment 14: Function with Multiple Return Types\n",
    "\n",
    "Define a function that takes a list of mixed data types (integers, strings, and floats) and returns three lists: one containing all the integers, one containing all the strings, and one containing all the floats. Test with different inputs.\n",
    "\n",
    "### Assignment 15: Function with State\n",
    "\n",
    "Define a function that maintains state between calls using a mutable default argument. The function should keep track of how many times it has been called. Test by calling the function multiple times."
   ]
  },
  {
   "cell_type": "code",
   "execution_count": 2,
   "id": "411667dd",
   "metadata": {},
   "outputs": [
    {
     "name": "stdout",
     "output_type": "stream",
     "text": [
      "5\n",
      "55\n"
     ]
    }
   ],
   "source": [
    "## Assignment 1: Fibonacci Sequence with Memoization\n",
    "##Define a recursive function to calculate the nth Fibonacci number using memoization. Test the function with different inputs.\n",
    "def fibonacci(number, memo = {}):\n",
    "    if number in memo:\n",
    "        return memo[number]\n",
    "    if number == 0:\n",
    "        return 0\n",
    "    if number == 1:\n",
    "        return 1\n",
    "    memo[number] =  fibonacci(number - 1,memo) + fibonacci(number - 2, memo)\n",
    "    return memo[number]\n",
    "\n",
    "print(fibonacci(5))\n",
    "print(fibonacci(10))\n"
   ]
  },
  {
   "cell_type": "code",
   "execution_count": 14,
   "id": "51ef4849",
   "metadata": {},
   "outputs": [
    {
     "name": "stdout",
     "output_type": "stream",
     "text": [
      "{1: 1}\n",
      "{2: 4}\n"
     ]
    }
   ],
   "source": [
    "## Assignment 2: Function with Nested Default Arguments\n",
    "##Define a function that takes two arguments, a and b, where b is a dictionary with a default value of an empty dictionary. The function should add a new key-value pair to the dictionary and return it. Test the function with different inputs.\n",
    "\n",
    "def dictionary(a, b=None):\n",
    "    if b is None:\n",
    "        b = {}\n",
    "    b[a] = a**2\n",
    "    return b\n",
    "\n",
    "print(dictionary(1))            # Call 1\n",
    "print(dictionary(2, {2: 3}))"
   ]
  },
  {
   "cell_type": "markdown",
   "id": "0082e953",
   "metadata": {},
   "source": [
    "#### isinstance() function in Python is used to check the type of an object at runtime."
   ]
  },
  {
   "cell_type": "code",
   "execution_count": 15,
   "id": "83a38618",
   "metadata": {},
   "outputs": [
    {
     "name": "stdout",
     "output_type": "stream",
     "text": [
      "{'a': 1, 'c': 3}\n"
     ]
    }
   ],
   "source": [
    "\n",
    "## Assignment 3: Function with Variable Keyword Arguments\n",
    "##Define a function that takes a variable number of keyword arguments and returns a dictionary containing only those key-value pairs where the value is an integer. Test the function with different inputs.\n",
    "def var_keyword_arguments(**kwargs):\n",
    "   return {k : v for k,v in kwargs.items() if isinstance(v,int)}\n",
    "        \n",
    "print(var_keyword_arguments(a = 1, b = 'Two', c = 3, d = \"four\"))"
   ]
  },
  {
   "cell_type": "code",
   "execution_count": 20,
   "id": "127b3471",
   "metadata": {},
   "outputs": [
    {
     "name": "stdout",
     "output_type": "stream",
     "text": [
      "[1, 4, 9, 16]\n",
      "[25, 36, 49, 64]\n"
     ]
    }
   ],
   "source": [
    "## Assignment 4: Function with Callback\n",
    "##Define a function that takes another function as a callback and a list of integers. The function should apply the callback to each integer in the list and return a new list with the results. Test with different callback functions.\n",
    "def callback_list(callback, lst):\n",
    "    return [callback(x) for x in lst]\n",
    "\n",
    "print(list(callback_list(lambda x : x**2, [1,2,3,4])))\n",
    "print(callback_list(lambda x : x**2, [5,6,7,8]))"
   ]
  },
  {
   "cell_type": "code",
   "execution_count": 32,
   "metadata": {},
   "outputs": [
    {
     "name": "stdout",
     "output_type": "stream",
     "text": [
      "4\n",
      "25\n"
     ]
    }
   ],
   "source": [
    "## Assignment 5: Function that Returns a Function\n",
    "##Define a function that returns another function. The returned function should take an integer and return its square. Test the returned function with different inputs.\n",
    "def get_outer_function():\n",
    "    def inner_function(x):\n",
    "        return x**2\n",
    "    return inner_function\n",
    "\n",
    "square = get_outer_function()\n",
    "print(square(2))\n",
    "print(square(5))"
   ]
  },
  {
   "cell_type": "code",
   "execution_count": 38,
   "id": "40e0c58f",
   "metadata": {},
   "outputs": [
    {
     "name": "stdout",
     "output_type": "stream",
     "text": [
      "complex_calculations took 0.000000 to execute\n",
      "333333328333333350000000\n"
     ]
    }
   ],
   "source": [
    "## Assignment 6: Function with Decorators\n",
    "## Define a function that calculates the time taken to execute another function. Apply this decorator to a function that performs a complex calculation. Test the decorated function with different inputs.\n",
    "\n",
    "import time\n",
    "\n",
    "def time_decorator(function):\n",
    "    def wrapper(*args,**kwargs):\n",
    "        start = time.time()\n",
    "        end = time.time()\n",
    "        result = function(*args,**kwargs)\n",
    "        duration = end - start\n",
    "        print(f\"{function.__name__} took {duration:4f} to execute\")\n",
    "        return result\n",
    "    return wrapper\n",
    "\n",
    "\n",
    "@time_decorator\n",
    "def complex_calculations(n):\n",
    "    return sum(x**2 for x in range(n))\n",
    "\n",
    "print(complex_calculations(100000000))"
   ]
  },
  {
   "cell_type": "code",
   "execution_count": 43,
   "id": "a84794de",
   "metadata": {},
   "outputs": [
    {
     "name": "stdout",
     "output_type": "stream",
     "text": [
      "[4, 16, 36, 64, 100, 144, 196]\n",
      "[False, True, True, True, True, True, True]\n"
     ]
    }
   ],
   "source": [
    "## Assignment 7: Higher-Order Function for Filtering and Mapping\n",
    "##Define a higher-order function that takes two functions, a filter function and a map function, along with a list of integers. The higher-order function should first filter the integers using the filter function and then apply the map function to the filtered integers. Test with different filter and map functions.\n",
    "\n",
    "def filter_and_map(filter_function, map_function, numbers):\n",
    "    return [map_function(x) for x in numbers if filter_function(x)]\n",
    "\n",
    "print(filter_and_map(lambda x : x % 2 == 0, lambda x: x ** 2,[1,2,3,4,5,6,7,8,9,10,11,12,13,14,15]))\n",
    "print(filter_and_map(lambda x: x%2==0, lambda x: x > 2, [1,2,3,4,5,6,7,8,9,10,11,12,13,14,15]))\n"
   ]
  },
  {
   "cell_type": "code",
   "execution_count": 47,
   "id": "3b7572bb",
   "metadata": {},
   "outputs": [
    {
     "name": "stdout",
     "output_type": "stream",
     "text": [
      "7\n"
     ]
    }
   ],
   "source": [
    "### Assignment 8: Function Composition\n",
    "##Define a function that composes two functions, f and g, such that the result is f(g(x)). Test with different functions f and g.\n",
    "\n",
    "def compose(f,g):\n",
    "    return lambda x : f(g(x))\n",
    "\n",
    "f = lambda x: x + 1\n",
    "g = lambda x: x * 2\n",
    "h = compose(f , g) #chaining of small functions\n",
    "print(h(3)) #f(g(x) -> 3 * 2 -> 6) -> f(6) -> 6 + 1 -> 7\n"
   ]
  },
  {
   "cell_type": "code",
   "execution_count": 49,
   "id": "4533edc7",
   "metadata": {},
   "outputs": [
    {
     "name": "stdout",
     "output_type": "stream",
     "text": [
      "6\n"
     ]
    }
   ],
   "source": [
    "## Assignment 9: Partial Function Application\n",
    "##Use the functools.partial function to create a new function that multiplies its input by 2. Test the new function with different inputs.\n",
    "\n",
    "from functools import partial\n",
    "\n",
    "mul_by_2 = partial(lambda x,y : x * y, 2)\n",
    "print(mul_by_2(3))"
   ]
  },
  {
   "cell_type": "code",
   "execution_count": null,
   "id": "1a138348",
   "metadata": {},
   "outputs": [
    {
     "name": "stdout",
     "output_type": "stream",
     "text": [
      "3.0\n"
     ]
    }
   ],
   "source": [
    "### Assignment 10: Function with Error Handling\n",
    "##Define a function that takes a list of integers and returns their average. The function should handle any errors that occur (e.g., empty list) and return None in such cases. Test with different inputs.\n",
    "##direct approach to print average\n",
    "def average(lst):\n",
    "    sum = 0\n",
    "    for x in lst:\n",
    "        sum += x\n",
    "        avg = sum / len(lst)\n",
    "    return avg\n",
    "\n",
    "list_numbers = [1,2,3,4,5]\n",
    "print(average(list_numbers))\n"
   ]
  },
  {
   "cell_type": "code",
   "execution_count": 66,
   "id": "ec0b7c69",
   "metadata": {},
   "outputs": [
    {
     "name": "stdout",
     "output_type": "stream",
     "text": [
      "2.0\n"
     ]
    }
   ],
   "source": [
    "##avrage + exception handlind\n",
    "def average(lst):\n",
    "    try:\n",
    "        return sum(lst)/len(lst)\n",
    "    except ZeroDivisionError:\n",
    "        return None\n",
    "\n",
    "numbers = [1,2,3]\n",
    "print(average(numbers))\n"
   ]
  },
  {
   "cell_type": "code",
   "execution_count": null,
   "id": "aff688c4",
   "metadata": {},
   "outputs": [
    {
     "name": "stdout",
     "output_type": "stream",
     "text": [
      "0\n",
      "1\n",
      "1\n",
      "2\n",
      "3\n",
      "5\n",
      "8\n",
      "13\n",
      "21\n",
      "34\n"
     ]
    }
   ],
   "source": [
    "## Assignment 11: Function with Generators\n",
    "##Define a function that generates an infinite sequence of Fibonacci numbers. Test by printing the first 10 numbers in the sequence.\n",
    "\n",
    "def fibonacci_series():\n",
    "    a, b = 0, 1\n",
    "    while True:\n",
    "        yield a#yield pauses the function and returns the current value of a. The function’s state is saved, so it can resume where it left off the next time next() is called.\n",
    "        a,b = b, a+b\n",
    "\n",
    "#Test\n",
    "gen = fibonacci_series()\n",
    "for _ in range(10):\n",
    "    print(next(gen))"
   ]
  },
  {
   "cell_type": "code",
   "execution_count": 72,
   "id": "4568d221",
   "metadata": {},
   "outputs": [
    {
     "name": "stdout",
     "output_type": "stream",
     "text": [
      "6\n"
     ]
    }
   ],
   "source": [
    "## Assignment 12: Currying\n",
    "##Define a curried function that takes three arguments, one at a time, and returns their product. Test the function by providing arguments one at a time.\n",
    "def outer_func(x):\n",
    "    def inner_func(y):\n",
    "        def local_func(z):\n",
    "            return x*y*z\n",
    "        return local_func\n",
    "    return inner_func\n",
    "\n",
    "print(outer_func(1)(2)(3))\n"
   ]
  },
  {
   "cell_type": "code",
   "execution_count": 76,
   "id": "a97e2d42",
   "metadata": {},
   "outputs": [],
   "source": [
    "## Assignment 13: Function with Context Manager\n",
    "##Define a function that uses a context manager to write a list of integers to a file. The function should handle any errors that occur during file operations. Test with different lists.\n",
    "\n",
    "def write_to_file(lst, filename):\n",
    "    try:\n",
    "        with open(filename,'w') as file:\n",
    "            for x in lst:\n",
    "                file.write(f\"{x}\\n\")\n",
    "    except IOError as e:\n",
    "        print(f\"An Error is occured: {e}\")\n",
    "\n",
    "write_to_file([1,2,3,4,5], 'output.txt')"
   ]
  },
  {
   "cell_type": "code",
   "execution_count": 80,
   "id": "42f41a96",
   "metadata": {},
   "outputs": [
    {
     "name": "stdout",
     "output_type": "stream",
     "text": [
      "([1, 2, 3], ['sri', 'kaushik'], [12.3, 45.6, 78.9])\n"
     ]
    }
   ],
   "source": [
    "## Assignment 14: Function with Multiple Return Types\n",
    "## Define a function that takes a list of mixed data types (integers, strings, and floats) and returns three lists: one containing all the integers, one containing all the strings, and one containing all the floats. Test with different inputs.\n",
    "\n",
    "def mixed_data_types(lst):\n",
    "    int_lst, str_lst, float_lst = [], [], [] \n",
    "    for item in lst:\n",
    "        if isinstance(item,int):\n",
    "            int_lst.append(item)\n",
    "        elif isinstance(item,str):\n",
    "            str_lst.append(item)\n",
    "        elif isinstance(item,float):\n",
    "            float_lst.append(item)\n",
    "        else:\n",
    "            return None\n",
    "    return int_lst, str_lst, float_lst\n",
    "numbers = [1,2,3,'sri','kaushik',12.3,45.6,78.9]\n",
    "print(mixed_data_types(numbers))"
   ]
  },
  {
   "cell_type": "code",
   "execution_count": 83,
   "id": "12b7c45e",
   "metadata": {},
   "outputs": [
    {
     "name": "stdout",
     "output_type": "stream",
     "text": [
      "1\n",
      "2\n",
      "3\n"
     ]
    }
   ],
   "source": [
    "## Assignment 15: Function with State\n",
    "##Define a function that maintains state between calls using a mutable default argument. The function should keep track of how many times it has been called. Test by calling the function multiple times.\n",
    "def counter_call(counter={'count' : 0}):\n",
    "    counter['count'] += 1\n",
    "    return counter['count']\n",
    "\n",
    "print(counter_call())\n",
    "print(counter_call())\n",
    "print(counter_call())\n"
   ]
  },
  {
   "cell_type": "code",
   "execution_count": null,
   "id": "c4098859",
   "metadata": {},
   "outputs": [],
   "source": []
  }
 ],
 "metadata": {
  "kernelspec": {
   "display_name": "Python 3",
   "language": "python",
   "name": "python3"
  },
  "language_info": {
   "codemirror_mode": {
    "name": "ipython",
    "version": 3
   },
   "file_extension": ".py",
   "mimetype": "text/x-python",
   "name": "python",
   "nbconvert_exporter": "python",
   "pygments_lexer": "ipython3",
   "version": "3.12.11"
  }
 },
 "nbformat": 4,
 "nbformat_minor": 5
}
