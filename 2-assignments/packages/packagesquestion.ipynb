{
 "cells": [
  {
   "cell_type": "markdown",
   "metadata": {},
   "source": [
    "# Module 5: Modules and Packages Assignments\n",
    "## Lesson 5.1: Importing Modules\n",
    "### Assignment 1: Importing and Using Modules\n",
    "\n",
    "Import the `math` module and use it to calculate the square root of 25 and the sine of 90 degrees.\n",
    "\n",
    "### Assignment 2: Aliasing Modules\n",
    "\n",
    "Import the `datetime` module with an alias and use it to print the current date and time.\n",
    "\n",
    "### Assignment 3: Importing Specific Functions\n",
    "\n",
    "Import the `randint` function from the `random` module and use it to generate a random integer between 1 and 100.\n",
    "\n",
    "### Assignment 4: Importing Multiple Functions\n",
    "\n",
    "Import the `sqrt` and `pow` functions from the `math` module and use them to calculate the square root of 16 and 2 raised to the power of 3.\n",
    "\n",
    "### Assignment 5: Handling Import Errors\n",
    "\n",
    "Write code that attempts to import a non-existent module and gracefully handles the import error by printing an error message.\n",
    "\n",
    "## Lesson 5.2: Standard Library Overview\n",
    "### Assignment 6: Working with the `os` Module\n",
    "\n",
    "Use the `os` module to create a new directory, list the contents of the current directory, and remove the newly created directory.\n",
    "\n",
    "### Assignment 7: Working with the `sys` Module\n",
    "\n",
    "Use the `sys` module to print the Python version currently in use and the command-line arguments passed to the script.\n",
    "\n",
    "### Assignment 8: Working with the `math` Module\n",
    "\n",
    "Use the `math` module to calculate the greatest common divisor (GCD) of two numbers and the factorial of a number.\n",
    "\n",
    "### Assignment 9: Working with the `datetime` Module\n",
    "\n",
    "Use the `datetime` module to print the current date, calculate the date 100 days from today, and determine the day of the week for a given date.\n",
    "\n",
    "### Assignment 10: Working with the `random` Module\n",
    "\n",
    "Use the `random` module to generate a list of 5 random numbers between 1 and 50 and shuffle the elements of a list.\n",
    "\n",
    "## Lesson 5.3: Creating and Using Packages\n",
    "### Assignment 11: Creating a Simple Package\n",
    "\n",
    "Create a package named `mypackage` with two modules: `module1` and `module2`. `module1` should contain a function that adds two numbers, and `module2` should contain a function that multiplies two numbers. Write code to use these functions.\n",
    "\n",
    "### Assignment 12: Using `__init__.py`\n",
    "\n",
    "Modify the `mypackage` package to include an `__init__.py` file that imports the functions from `module1` and `module2`. Write code to use these functions.\n",
    "\n",
    "### Assignment 13: Importing from a Package\n",
    "\n",
    "Write code to import and use the functions from `mypackage` without explicitly importing `module1` and `module2`.\n",
    "\n",
    "### Assignment 14: Relative Imports\n",
    "\n",
    "Create a subpackage named `subpackage` within `mypackage` and move `module2` into `subpackage`. Modify the import statements in `__init__.py` to use relative imports. Write code to use the functions from both modules.\n",
    "\n",
    "### Assignment 15: Handling Package Import Errors\n",
    "\n",
    "Write code that attempts to import a non-existent function from `mypackage` and gracefully handles the import error by printing an error message."
   ]
  },
  {
   "cell_type": "code",
   "execution_count": 1,
   "metadata": {},
   "outputs": [
    {
     "name": "stdout",
     "output_type": "stream",
     "text": [
      "5.0\n",
      "0.8939966636005579\n"
     ]
    }
   ],
   "source": [
    "## Assignment 1: Importing and Using Modules\n",
    "##Import the `math` module and use it to calculate the square root of 25 and the sine of 90 degrees.\n",
    "import math\n",
    "print(math.sqrt(25))\n",
    "print(math.sin(90))"
   ]
  },
  {
   "cell_type": "code",
   "execution_count": 2,
   "id": "51578d03",
   "metadata": {},
   "outputs": [
    {
     "name": "stdout",
     "output_type": "stream",
     "text": [
      "2025-08-03 10:05:50.966774\n"
     ]
    }
   ],
   "source": [
    "## Assignment 2: Aliasing Modules\n",
    "##Import the `datetime` module with an alias and use it to print the current date and time.\n",
    "import datetime as dt \n",
    "print(dt.datetime.now())"
   ]
  },
  {
   "cell_type": "code",
   "execution_count": null,
   "id": "072b64f1",
   "metadata": {},
   "outputs": [
    {
     "name": "stdout",
     "output_type": "stream",
     "text": [
      "53\n"
     ]
    }
   ],
   "source": [
    "## Assignment 3: Importing Specific Functions\n",
    "##Import the `randint` function from the `random` module and use it to generate a random integer between 1 and 100.\n",
    "from random import randint\n",
    "print(randint(1,100))"
   ]
  },
  {
   "cell_type": "code",
   "execution_count": 7,
   "id": "ba6e18d3",
   "metadata": {},
   "outputs": [
    {
     "name": "stdout",
     "output_type": "stream",
     "text": [
      "4.0\n",
      "8.0\n"
     ]
    }
   ],
   "source": [
    "## Assignment 4: Importing Multiple Functions\n",
    "##Import the `sqrt` and `pow` functions from the `math` module and use them to calculate the square root of 16 and 2 raised to the power of 3.\n",
    "from math import sqrt,pow\n",
    "print(sqrt(16))\n",
    "print(pow(2,3))"
   ]
  },
  {
   "cell_type": "code",
   "execution_count": 10,
   "id": "5d97d9c8",
   "metadata": {},
   "outputs": [
    {
     "name": "stdout",
     "output_type": "stream",
     "text": [
      "Import does not exist:No module named 'non_existient_module'\n"
     ]
    }
   ],
   "source": [
    "## Assignment 5: Handling Import Errors\n",
    "##Write code that attempts to import a non-existent module and gracefully handles the import error by printing an error message.\n",
    "try:\n",
    "    import non_existient_module\n",
    "except ImportError as e:\n",
    "    print(f\"Import does not exist:{e}\")"
   ]
  },
  {
   "cell_type": "code",
   "execution_count": 17,
   "id": "7415d7b6",
   "metadata": {},
   "outputs": [
    {
     "name": "stdout",
     "output_type": "stream",
     "text": [
      "['packagesquestion.ipynb', 'advancefunctionsolution.ipynb', 'dictionaries_assignment_solution.ipynb', 'assignment_solution.ipynb', 'tuple_assignment.ipynb', 'list_Assignment.ipynb', 'set_assignments_solution.ipynb', 'assignment_question.ipynb', 'tuple_assignment_solution.ipynb', 'packagessolution.ipynb', 'sets_assignment.ipynb', 'advancefunctions.ipynb', 'Practice.ipynb', 'new_dir', 'dictionaries_assignment.ipynb', 'class', 'assignment_solutions.ipynb', 'assignments.ipynb', 'list_assignment_solution.ipynb', 'output.txt']\n",
      "['packagesquestion.ipynb', 'advancefunctionsolution.ipynb', 'dictionaries_assignment_solution.ipynb', 'assignment_solution.ipynb', 'tuple_assignment.ipynb', 'list_Assignment.ipynb', 'set_assignments_solution.ipynb', 'assignment_question.ipynb', 'tuple_assignment_solution.ipynb', 'packagessolution.ipynb', 'sets_assignment.ipynb', 'advancefunctions.ipynb', 'Practice.ipynb', 'dictionaries_assignment.ipynb', 'class', 'assignment_solutions.ipynb', 'assignments.ipynb', 'list_assignment_solution.ipynb', 'output.txt']\n"
     ]
    }
   ],
   "source": [
    "## Assignment 6: Working with the `os` Module\n",
    "##Use the `os` module to create a new directory, list the contents of the current directory, and remove the newly created directory.\n",
    "import os\n",
    "\n",
    "os.mkdir('new_dir')\n",
    "\n",
    "print(os.listdir('.'))\n",
    "\n",
    "os.rmdir('new_dir')\n",
    "print(os.listdir('.'))"
   ]
  },
  {
   "cell_type": "code",
   "execution_count": 24,
   "id": "12db7df5",
   "metadata": {},
   "outputs": [
    {
     "name": "stdout",
     "output_type": "stream",
     "text": [
      "Python_Version:3.12.11 | packaged by conda-forge | (main, Jun  4 2025, 14:42:11) [Clang 18.1.8 ]\n",
      "command-line:['/Users/kaushikpamidimuklala/Desktop/Python/venv/lib/python3.12/site-packages/ipykernel_launcher.py', '-f', '/Users/kaushikpamidimuklala/Library/Jupyter/runtime/kernel-22d6d014-88bf-4dba-a7aa-6f53698deb39.json']\n"
     ]
    }
   ],
   "source": [
    "## Assignment 7: Working with the `sys` Module\n",
    "##Use the `sys` module to print the Python version currently in use and the command-line arguments passed to the script.\n",
    "import sys\n",
    "print(f\"Python_Version:{sys.version}\")\n",
    "print(f\"command-line:{sys.argv}\")"
   ]
  },
  {
   "cell_type": "code",
   "execution_count": null,
   "id": "e94ae28f",
   "metadata": {},
   "outputs": [],
   "source": [
    "## Assignment 8: Working with the `math` Module\n",
    "##Use the `math` module to calculate the greatest common divisor (GCD) of two numbers and the factorial of a number.\n",
    "import math\n",
    "print(math.gcd(12,9))\n",
    "print(math.factorial(5))"
   ]
  },
  {
   "cell_type": "markdown",
   "id": "955dbb07",
   "metadata": {},
   "source": [
    "#### Format Code %A:\n",
    "\t•\t%A → Full weekday name (e.g., Monday, Tuesday, …)\n",
    "\n",
    "Other common formats:\n",
    "\t•\t%a → Abbreviated weekday name (e.g., Mon, Tue)\n",
    "\t•\t%d → Day of the month (01–31)\n",
    "\t•\t%B → Full month name (e.g., January)\n",
    "\t•\t%Y → Full year (e.g., 2025)\n"
   ]
  },
  {
   "cell_type": "code",
   "execution_count": 32,
   "id": "f701aace",
   "metadata": {},
   "outputs": [
    {
     "name": "stdout",
     "output_type": "stream",
     "text": [
      "2025-08-03 10:34:17.493863\n",
      "2025-11-11 10:34:17.493863\n",
      "Day of the week for a given date: August\n"
     ]
    }
   ],
   "source": [
    "## Assignment 9: Working with the `datetime` Module\n",
    "##Use the `datetime` module to print the current date, calculate the date 100 days from today, and determine the day of the week for a given date.\n",
    "import datetime\n",
    "\n",
    "today = datetime.datetime.now()\n",
    "print(today)\n",
    "\n",
    "day_from_today =today + datetime.timedelta(days=100)\n",
    "print(day_from_today)\n",
    "\n",
    "given = datetime.date(2025,8,3)\n",
    "print(f\"Day of the week for a given date: {given.strftime('%B')}\")"
   ]
  },
  {
   "cell_type": "code",
   "execution_count": 37,
   "id": "2e398fb9",
   "metadata": {},
   "outputs": [
    {
     "name": "stdout",
     "output_type": "stream",
     "text": [
      "[20, 7, 39, 42, 43]\n",
      "[1, 3, 2, 5, 4]\n"
     ]
    }
   ],
   "source": [
    "## Assignment 10: Working with the `random` Module\n",
    "##Use the `random` module to generate a list of 5 random numbers between 1 and 50 and shuffle the elements of a list.\n",
    "import random\n",
    "\n",
    "random_numbers = [random.randint(1,50) for _ in range(5)]\n",
    "print(random_numbers)\n",
    "\n",
    "lis = [1,2,3,4,5]\n",
    "random.shuffle(lis)\n",
    "print(lis)"
   ]
  },
  {
   "cell_type": "code",
   "execution_count": 27,
   "id": "6762c9d6",
   "metadata": {},
   "outputs": [
    {
     "ename": "AttributeError",
     "evalue": "module 'mypackage.module1' has no attribute 'add'",
     "output_type": "error",
     "traceback": [
      "\u001b[31m---------------------------------------------------------------------------\u001b[39m",
      "\u001b[31mAttributeError\u001b[39m                            Traceback (most recent call last)",
      "\u001b[36mCell\u001b[39m\u001b[36m \u001b[39m\u001b[32mIn[27]\u001b[39m\u001b[32m, line 6\u001b[39m\n\u001b[32m      3\u001b[39m \u001b[38;5;28;01mfrom\u001b[39;00m\u001b[38;5;250m \u001b[39m\u001b[34;01mmypackage\u001b[39;00m\u001b[38;5;250m \u001b[39m\u001b[38;5;28;01mimport\u001b[39;00m module1\n\u001b[32m      4\u001b[39m \u001b[38;5;28;01mfrom\u001b[39;00m\u001b[38;5;250m \u001b[39m\u001b[34;01mmypackage\u001b[39;00m\u001b[38;5;250m \u001b[39m\u001b[38;5;28;01mimport\u001b[39;00m module2\n\u001b[32m----> \u001b[39m\u001b[32m6\u001b[39m \u001b[38;5;28mprint\u001b[39m(\u001b[43mmodule1\u001b[49m\u001b[43m.\u001b[49m\u001b[43madd\u001b[49m(\u001b[32m2\u001b[39m, \u001b[32m3\u001b[39m))       \n\u001b[32m      7\u001b[39m \u001b[38;5;28mprint\u001b[39m(module2.multiply(\u001b[32m2\u001b[39m, \u001b[32m3\u001b[39m)) \n",
      "\u001b[31mAttributeError\u001b[39m: module 'mypackage.module1' has no attribute 'add'"
     ]
    }
   ],
   "source": [
    "## Assignment 11: Creating a Simple Package\n",
    "##Create a package named `mypackage` with two modules: `module1` and `module2`. `module1` should contain a function that adds two numbers, and `module2` should contain a function that multiplies two numbers. Write code to use these functions.\n",
    "from mypackage import module1\n",
    "from mypackage import module2\n",
    "\n",
    "print(module1.add(2, 3))       \n",
    "print(module2.multiply(2, 3)) "
   ]
  },
  {
   "cell_type": "code",
   "execution_count": null,
   "id": "e97648af",
   "metadata": {},
   "outputs": [
    {
     "ename": "ImportError",
     "evalue": "cannot import name 'add' from 'mypackage' (unknown location)",
     "output_type": "error",
     "traceback": [
      "\u001b[31m---------------------------------------------------------------------------\u001b[39m",
      "\u001b[31mImportError\u001b[39m                               Traceback (most recent call last)",
      "\u001b[36mCell\u001b[39m\u001b[36m \u001b[39m\u001b[32mIn[28]\u001b[39m\u001b[32m, line 3\u001b[39m\n\u001b[32m      1\u001b[39m \u001b[38;5;66;03m## Assignment 12: Using `__init__.py`\u001b[39;00m\n\u001b[32m      2\u001b[39m \u001b[38;5;66;03m##Modify the `mypackage` package to include an `__init__.py` file that imports the functions from `module1` and `module2`. Write code to use these functions.\u001b[39;00m\n\u001b[32m----> \u001b[39m\u001b[32m3\u001b[39m \u001b[38;5;28;01mfrom\u001b[39;00m\u001b[38;5;250m \u001b[39m\u001b[34;01mmypackage\u001b[39;00m\u001b[38;5;250m \u001b[39m\u001b[38;5;28;01mimport\u001b[39;00m add\n\u001b[32m      5\u001b[39m \u001b[38;5;28mprint\u001b[39m(add(\u001b[32m2\u001b[39m,\u001b[32m3\u001b[39m))\n",
      "\u001b[31mImportError\u001b[39m: cannot import name 'add' from 'mypackage' (unknown location)"
     ]
    }
   ],
   "source": [
    "## Assignment 12: Using `__init__.py`\n",
    "##Modify the `mypackage` package to include an `__init__.py` file that imports the functions from `module1` and `module2`. Write code to use these functions.\n",
    "from mypackage import add\n",
    "print(add(2,3))"
   ]
  },
  {
   "cell_type": "code",
   "execution_count": null,
   "id": "853daa1d",
   "metadata": {},
   "outputs": [],
   "source": []
  },
  {
   "cell_type": "code",
   "execution_count": null,
   "id": "ceef1329",
   "metadata": {},
   "outputs": [],
   "source": []
  },
  {
   "cell_type": "code",
   "execution_count": null,
   "id": "3285306a",
   "metadata": {},
   "outputs": [],
   "source": []
  }
 ],
 "metadata": {
  "kernelspec": {
   "display_name": "Python 3",
   "language": "python",
   "name": "python3"
  },
  "language_info": {
   "codemirror_mode": {
    "name": "ipython",
    "version": 3
   },
   "file_extension": ".py",
   "mimetype": "text/x-python",
   "name": "python",
   "nbconvert_exporter": "python",
   "pygments_lexer": "ipython3",
   "version": "3.12.11"
  }
 },
 "nbformat": 4,
 "nbformat_minor": 5
}
