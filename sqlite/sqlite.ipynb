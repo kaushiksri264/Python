{
 "cells": [
  {
   "cell_type": "markdown",
   "id": "0da6d105",
   "metadata": {},
   "source": [
    "#### SQL and SQLite\n",
    "SQL(Structured Query Language) is a standard language for managing and manipulating relational databases. SQLite is a self-contained,serverless and zero-configuration database that is widely used for embedded database systems."
   ]
  },
  {
   "cell_type": "code",
   "execution_count": 25,
   "id": "58e1574b",
   "metadata": {},
   "outputs": [],
   "source": [
    "import sqlite3"
   ]
  },
  {
   "cell_type": "code",
   "execution_count": 26,
   "id": "fde0b9a8",
   "metadata": {},
   "outputs": [
    {
     "data": {
      "text/plain": [
       "<sqlite3.Connection at 0x1124dd4e0>"
      ]
     },
     "execution_count": 26,
     "metadata": {},
     "output_type": "execute_result"
    }
   ],
   "source": [
    "## Connect to an SQLite database\n",
    "connection = sqlite3.connect('example.db')\n",
    "connection"
   ]
  },
  {
   "cell_type": "code",
   "execution_count": 27,
   "id": "41cec2aa",
   "metadata": {},
   "outputs": [],
   "source": [
    "cursor = connection.cursor()"
   ]
  },
  {
   "cell_type": "code",
   "execution_count": 28,
   "id": "76f37c76",
   "metadata": {},
   "outputs": [
    {
     "data": {
      "text/plain": [
       "<sqlite3.Cursor at 0x112397940>"
      ]
     },
     "execution_count": 28,
     "metadata": {},
     "output_type": "execute_result"
    }
   ],
   "source": [
    "#Create a table\n",
    "cursor.execute('''\n",
    "Create Table If Not Exists employee(\n",
    "               id Integer Primary Key,\n",
    "               name Text Not Null,\n",
    "               age Integer,\n",
    "               department text\n",
    "            )\n",
    "''')"
   ]
  },
  {
   "cell_type": "code",
   "execution_count": 29,
   "id": "0538105d",
   "metadata": {},
   "outputs": [],
   "source": [
    "##Commit the changes\n",
    "connection.commit()"
   ]
  },
  {
   "cell_type": "code",
   "execution_count": 30,
   "id": "10354352",
   "metadata": {},
   "outputs": [
    {
     "data": {
      "text/plain": [
       "<sqlite3.Cursor at 0x112397940>"
      ]
     },
     "execution_count": 30,
     "metadata": {},
     "output_type": "execute_result"
    }
   ],
   "source": [
    "cursor.execute('''\n",
    "Select * From employee\n",
    "''')"
   ]
  },
  {
   "cell_type": "code",
   "execution_count": 31,
   "id": "84254407",
   "metadata": {},
   "outputs": [
    {
     "data": {
      "text/plain": [
       "<sqlite3.Cursor at 0x112397940>"
      ]
     },
     "execution_count": 31,
     "metadata": {},
     "output_type": "execute_result"
    }
   ],
   "source": [
    "##Insert data in sqlite3\n",
    "cursor.execute('''\n",
    "Insert Into employee(name, age, department)\n",
    "               Values('Sri',26,'Python Developer')\n",
    "''')\n",
    "\n",
    "cursor.execute('''\n",
    "Insert Into employee(name, age, department)\n",
    "               Values('Kaushik',25,'Java Developer')\n",
    "''')\n",
    "\n",
    "cursor.execute('''\n",
    "Insert Into employee(name, age, department)\n",
    "               Values('Pamidimukkala',27,'AI/ML Engineer')\n",
    "''')"
   ]
  },
  {
   "cell_type": "code",
   "execution_count": 32,
   "id": "44f089b5",
   "metadata": {},
   "outputs": [],
   "source": [
    "##\n",
    "connection.commit()"
   ]
  },
  {
   "cell_type": "code",
   "execution_count": 33,
   "id": "d203e5bd",
   "metadata": {},
   "outputs": [
    {
     "name": "stdout",
     "output_type": "stream",
     "text": [
      "(1, 'Sri', 26, 'Python Developer')\n",
      "(3, 'Pamidimukkala', 27, 'AI/ML Engineer')\n",
      "(4, 'Sri', 26, 'Python Developer')\n",
      "(5, 'Kaushik', 25, 'Java Developer')\n",
      "(6, 'Pamidimukkala', 27, 'AI/ML Engineer')\n"
     ]
    }
   ],
   "source": [
    "##Querying data from table\n",
    "cursor.execute('Select * From employee')\n",
    "rows = cursor.fetchall()\n",
    "\n",
    "#Print querying data\n",
    "for row in rows:\n",
    "    print(row)"
   ]
  },
  {
   "cell_type": "code",
   "execution_count": 34,
   "id": "f0414ed2",
   "metadata": {},
   "outputs": [],
   "source": [
    "##Update data in the table\n",
    "cursor.execute('''\n",
    "UPDATE employee\n",
    "    set age = 28\n",
    "Where name = 'Kaushik'\n",
    "''')\n",
    "\n",
    "##Commit\n",
    "connection.commit()"
   ]
  },
  {
   "cell_type": "code",
   "execution_count": 35,
   "id": "358899fe",
   "metadata": {},
   "outputs": [
    {
     "name": "stdout",
     "output_type": "stream",
     "text": [
      "(1, 'Sri', 26, 'Python Developer')\n",
      "(3, 'Pamidimukkala', 27, 'AI/ML Engineer')\n",
      "(4, 'Sri', 26, 'Python Developer')\n",
      "(5, 'Kaushik', 28, 'Java Developer')\n",
      "(6, 'Pamidimukkala', 27, 'AI/ML Engineer')\n"
     ]
    }
   ],
   "source": [
    "cursor.execute('Select * From employee')\n",
    "rows = cursor.fetchall()\n",
    "\n",
    "for row in rows:\n",
    "    print(row)\n"
   ]
  },
  {
   "cell_type": "code",
   "execution_count": 36,
   "id": "76520551",
   "metadata": {},
   "outputs": [],
   "source": [
    "##Delete data\n",
    "cursor.execute('''\n",
    "Delete From employee\n",
    "Where name = 'Kaushik'\n",
    "''')\n",
    "\n",
    "connection.commit()"
   ]
  },
  {
   "cell_type": "code",
   "execution_count": 37,
   "id": "da4e265b",
   "metadata": {},
   "outputs": [
    {
     "name": "stdout",
     "output_type": "stream",
     "text": [
      "(1, 'Sri', 26, 'Python Developer')\n",
      "(3, 'Pamidimukkala', 27, 'AI/ML Engineer')\n",
      "(4, 'Sri', 26, 'Python Developer')\n",
      "(6, 'Pamidimukkala', 27, 'AI/ML Engineer')\n"
     ]
    }
   ],
   "source": [
    "cursor.execute('Select * From employee')\n",
    "rows = cursor.fetchall()\n",
    "\n",
    "for row in rows:\n",
    "    print(row)\n",
    "\n"
   ]
  },
  {
   "cell_type": "code",
   "execution_count": 38,
   "id": "2aebd2e8",
   "metadata": {},
   "outputs": [],
   "source": [
    "connection.close()"
   ]
  },
  {
   "cell_type": "code",
   "execution_count": 39,
   "id": "cb5ea354",
   "metadata": {},
   "outputs": [
    {
     "data": {
      "text/plain": [
       "<sqlite3.Connection at 0x1124de2f0>"
      ]
     },
     "execution_count": 39,
     "metadata": {},
     "output_type": "execute_result"
    }
   ],
   "source": [
    "## Working with sales Data\n",
    "##Connect to database\n",
    "connection = sqlite3.connect('sales_data.db')\n",
    "connection"
   ]
  },
  {
   "cell_type": "code",
   "execution_count": 40,
   "id": "57c3a64e",
   "metadata": {},
   "outputs": [
    {
     "data": {
      "text/plain": [
       "<sqlite3.Cursor at 0x118044940>"
      ]
     },
     "execution_count": 40,
     "metadata": {},
     "output_type": "execute_result"
    }
   ],
   "source": [
    "##Cursor to move around\n",
    "cursor = connection.cursor()\n",
    "cursor"
   ]
  },
  {
   "cell_type": "code",
   "execution_count": 41,
   "id": "95429457",
   "metadata": {},
   "outputs": [],
   "source": [
    "##Create table sales\n",
    "cursor.execute('''\n",
    "CREATE TABLE IF NOT EXISTS sales(\n",
    "               id INTEGER PRIMARY KEY,\n",
    "               date TEXT NOT NULL,\n",
    "               product TEXT NOT NULL,\n",
    "               sales INTEGER,\n",
    "               region TEXT\n",
    "               )\n",
    "''')\n",
    "\n",
    "##Commit - save\n",
    "connection.commit()"
   ]
  },
  {
   "cell_type": "code",
   "execution_count": 42,
   "id": "3af19538",
   "metadata": {},
   "outputs": [
    {
     "data": {
      "text/plain": [
       "<sqlite3.Cursor at 0x118044940>"
      ]
     },
     "execution_count": 42,
     "metadata": {},
     "output_type": "execute_result"
    }
   ],
   "source": [
    "cursor.execute('''\n",
    "SELECT * FROM sales\n",
    "''')"
   ]
  },
  {
   "cell_type": "code",
   "execution_count": 43,
   "id": "45fc36f5",
   "metadata": {},
   "outputs": [],
   "source": [
    "##Insert values \n",
    "sales_data = [\n",
    "    ('2025-01-01','Product1',100,'North'),\n",
    "    ('2025-01-02','Product2',200,'South'),\n",
    "    ('2025-01-03','Product1',150,'East'),\n",
    "    ('2025-01-04','Product3',250,'West'),\n",
    "    ('2025-01-05','Product2',300,'North')\n",
    "    ]\n",
    "\n",
    "cursor.executemany('''\n",
    "INSERT INTO sales(date,product,sales,region)\n",
    "                   VALUES(?,?,?,?)\n",
    "''',sales_data)\n",
    "connection.commit()"
   ]
  },
  {
   "cell_type": "code",
   "execution_count": 44,
   "id": "9d157504",
   "metadata": {},
   "outputs": [
    {
     "name": "stdout",
     "output_type": "stream",
     "text": [
      "(1, '2025-01-01', 'Product1', 100, 'North')\n",
      "(2, '2025-01-02', 'Product2', 200, 'South')\n",
      "(3, '2025-01-03', 'Product1', 150, 'East')\n",
      "(4, '2025-01-04', 'Product3', 250, 'West')\n",
      "(5, '2025-01-05', 'Product2', 300, 'North')\n",
      "(6, '2025-01-01', 'Product1', 100, 'North')\n",
      "(7, '2025-01-02', 'Product2', 200, 'South')\n",
      "(8, '2025-01-03', 'Product1', 150, 'East')\n",
      "(9, '2025-01-04', 'Product3', 250, 'West')\n",
      "(10, '2025-01-05', 'Product2', 300, 'North')\n"
     ]
    }
   ],
   "source": [
    "cursor.execute('SELECT * FROM sales')\n",
    "rows = cursor.fetchall()\n",
    "\n",
    "for row in rows:\n",
    "    print(row)"
   ]
  },
  {
   "cell_type": "code",
   "execution_count": 45,
   "id": "46f02c2e",
   "metadata": {},
   "outputs": [],
   "source": [
    "connection.close()"
   ]
  },
  {
   "cell_type": "code",
   "execution_count": null,
   "id": "61137f55",
   "metadata": {},
   "outputs": [],
   "source": []
  }
 ],
 "metadata": {
  "kernelspec": {
   "display_name": "base",
   "language": "python",
   "name": "python3"
  },
  "language_info": {
   "codemirror_mode": {
    "name": "ipython",
    "version": 3
   },
   "file_extension": ".py",
   "mimetype": "text/x-python",
   "name": "python",
   "nbconvert_exporter": "python",
   "pygments_lexer": "ipython3",
   "version": "3.13.5"
  }
 },
 "nbformat": 4,
 "nbformat_minor": 5
}
