{
 "cells": [
  {
   "cell_type": "markdown",
   "metadata": {},
   "source": [
    "# Module: File Handling Assignments\n",
    "## Lesson: File Handling and Operations\n",
    "### Assignment 1: Reading a File\n",
    "\n",
    "Write a function that reads the contents of a file named `sample.txt` and prints each line.\n",
    "\n",
    "### Assignment 2: Writing to a File\n",
    "\n",
    "Write a function that writes a list of strings to a file named `output.txt`, with each string on a new line.\n",
    "\n",
    "### Assignment 3: Copying a File\n",
    "\n",
    "Write a function that copies the contents of a file named `source.txt` to a new file named `destination.txt`.\n",
    "\n",
    "### Assignment 4: Appending to a File\n",
    "\n",
    "Write a function that appends a given string to the end of a file named `log.txt`.\n",
    "\n",
    "### Assignment 5: Counting Words in a File\n",
    "\n",
    "Write a function that reads the contents of a file named `document.txt` and returns the number of words in the file.\n",
    "\n",
    "### Assignment 6: Finding and Replacing Text\n",
    "\n",
    "Write a function that finds and replaces all occurrences of a given word in a file named `data.txt` with another word.\n",
    "\n",
    "### Assignment 7: Reading a File in Reverse\n",
    "\n",
    "Write a function that reads the contents of a file named `reverse.txt` and prints each line in reverse order.\n",
    "\n",
    "### Assignment 8: Counting Lines, Words, and Characters\n",
    "\n",
    "Write a function that reads the contents of a file named `stats.txt` and returns the number of lines, words, and characters in the file.\n",
    "\n",
    "### Assignment 9: Merging Multiple Files\n",
    "\n",
    "Write a function that merges the contents of multiple files into a single file named `merged.txt`.\n",
    "\n",
    "### Assignment 10: Splitting a Large File\n",
    "\n",
    "Write a function that splits a large file named `large.txt` into smaller files of 100 lines each.\n",
    "\n",
    "### Assignment 11: Creating a Log File\n",
    "\n",
    "Write a function that creates a log file named `activity.log` and writes log messages with timestamps.\n",
    "\n",
    "### Assignment 12: Binary File Operations\n",
    "\n",
    "Write a function that reads a binary file named `image.bin` and writes its contents to another binary file named `copy_image.bin`.\n",
    "\n",
    "### Assignment 13: CSV File Operations\n",
    "\n",
    "Write a function that reads a CSV file named `data.csv` and prints its contents as a list of dictionaries.\n",
    "\n",
    "### Assignment 14: JSON File Operations\n",
    "\n",
    "Write a function that reads a JSON file named `data.json` and prints its contents as a Python dictionary.\n",
    "\n",
    "### Assignment 15: File Permission Handling\n",
    "\n",
    "Write a function that attempts to read a file named `protected.txt` and handles any permission errors gracefully by printing an error message."
   ]
  },
  {
   "cell_type": "code",
   "execution_count": 3,
   "id": "231e324a",
   "metadata": {},
   "outputs": [
    {
     "name": "stdout",
     "output_type": "stream",
     "text": [
      "I want to do Databricks Certification\n",
      "I want to work in Amazon\n",
      "I want to do AWS Certification\n",
      "I want to do GEN AI Certification\n",
      "\n"
     ]
    }
   ],
   "source": [
    "## Assignment 1: Reading a File\n",
    "##Write a function that reads the contents of a file named `sample.txt` and prints each line.\n",
    "\n",
    "with open('sample.txt','r')as file:\n",
    "    lines = file.read()\n",
    "    print(lines)\n"
   ]
  },
  {
   "cell_type": "code",
   "execution_count": 6,
   "id": "03c311d2",
   "metadata": {},
   "outputs": [],
   "source": [
    "# Assignment 2: Writing to a File\n",
    "#Write a function that writes a list of strings to a file named `output.txt`, with each string on a new line.\n",
    "list_str = [\"I want to complete leetcode\\n\",\"I want to study DSA\\n\", \"I want to finsih System Design\"]\n",
    "\n",
    "with open('output.txt','w') as file:\n",
    "    for st in list_str:\n",
    "        file.write(st)\n"
   ]
  },
  {
   "cell_type": "code",
   "execution_count": 7,
   "id": "0025d205",
   "metadata": {},
   "outputs": [],
   "source": [
    "## Assignment 3: Copying a File\n",
    "## Write a function that copies the contents of a file named `source.txt` to a new file named `destination.txt`.\n",
    "\n",
    "with open('destination.txt','w') as file:\n",
    "    file.write(lines)"
   ]
  },
  {
   "cell_type": "code",
   "execution_count": null,
   "id": "1e0e8f3e",
   "metadata": {},
   "outputs": [],
   "source": [
    "## Assignment 4: Appending to a File\n",
    "##Write a function that appends a given string to the end of a file named `log.txt`.\n",
    "st = \"This file is successfully appeneded!\"\n",
    "with open('log.txt','a') as file:\n",
    "    file.write(st)"
   ]
  },
  {
   "cell_type": "code",
   "execution_count": 24,
   "id": "4e37c0c9",
   "metadata": {},
   "outputs": [
    {
     "name": "stdout",
     "output_type": "stream",
     "text": [
      "11\n"
     ]
    }
   ],
   "source": [
    "## Assignment 5: Counting Words in a File\n",
    "##Write a function that reads the contents of a file named `document.txt` and returns the number of words in the file.\n",
    "def word_count(filepath):\n",
    "    with open(filepath,'r') as file:\n",
    "        lines = file.read()\n",
    "        word_count = lines.split()\n",
    "    return len(word_count)\n",
    "\n",
    "filepath = 'log.txt'\n",
    "count_words = word_count(filepath)\n",
    "print(count_words)\n"
   ]
  },
  {
   "cell_type": "code",
   "execution_count": 29,
   "id": "aabff96f",
   "metadata": {},
   "outputs": [],
   "source": [
    "## Assignment 6: Finding and Replacing Text\n",
    "##Write a function that finds and replaces all occurrences of a given word in a file named `data.txt` with another word.\n",
    "def replace_word(filepath,old_word,new_word):\n",
    "    with open(filepath,'r')as file:\n",
    "        text = file.read()\n",
    "        word_replace = text.replace(old_word,new_word)\n",
    "    with open(filepath,'w')as file:\n",
    "        file.write(word_replace)\n",
    "\n",
    "filepath = 'destination.txt'\n",
    "word_rep = replace_word(filepath,'I', 'U')"
   ]
  },
  {
   "cell_type": "code",
   "execution_count": 43,
   "id": "2a3c0172",
   "metadata": {},
   "outputs": [
    {
     "name": "stdout",
     "output_type": "stream",
     "text": [
      "['Certification', 'AU', 'GEN', 'do', 'to', 'want', 'U']\n",
      "['Certification', 'AWS', 'do', 'to', 'want', 'U']\n",
      "['Amazon', 'in', 'work', 'to', 'want', 'U']\n",
      "['Certification', 'Databricks', 'do', 'to', 'want', 'U']\n"
     ]
    }
   ],
   "source": [
    "## Assignment 7: Reading a File in Reverse\n",
    "##Write a function that reads the contents of a file named `reverse.txt` and prints each line in reverse order.\n",
    "def read_reverse(file_name):\n",
    "    with open(file_name,'r') as file:\n",
    "        read_file = file.readlines()\n",
    "        for line in reversed(read_file):\n",
    "             print(line.split()[::-1])\n",
    "\n",
    "\n",
    "file_name = 'destination.txt'\n",
    "read_reverse(file_name)\n"
   ]
  },
  {
   "cell_type": "code",
   "execution_count": 48,
   "id": "725cdd13",
   "metadata": {},
   "outputs": [
    {
     "name": "stdout",
     "output_type": "stream",
     "text": [
      "Lines: 4\n",
      "Words: 25\n",
      "Characters: 128\n"
     ]
    }
   ],
   "source": [
    "## Assignment 8: Counting Lines, Words, and Characters\n",
    "##Write a function that reads the contents of a file named `stats.txt` and returns the number of lines, words, and characters in the file.\n",
    "def counting(file_name):\n",
    "    with open(file_name, 'r') as file:\n",
    "        lines = file.readlines()\n",
    "        line_count = len(lines)\n",
    "        words_count = sum(len(line.split()) for line in lines)\n",
    "        char_count = sum(len(line) for line in lines)\n",
    "    return line_count, words_count, char_count\n",
    "\n",
    "file_name = 'destination.txt'\n",
    "line, words, char = counting(file_name)\n",
    "print(\"Lines:\", line)\n",
    "print(\"Words:\", words)\n",
    "print(\"Characters:\", char)\n"
   ]
  },
  {
   "cell_type": "code",
   "execution_count": 53,
   "id": "d398dbee",
   "metadata": {},
   "outputs": [
    {
     "name": "stdout",
     "output_type": "stream",
     "text": [
      "None\n"
     ]
    }
   ],
   "source": [
    "## Assignment 9: Merging Multiple Files\n",
    "##Write a function that merges the contents of multiple files into a single file named `merged.txt`.\n",
    "def merge_file(file_list,output_file):\n",
    "    with open(output_file,'w') as out_file:\n",
    "        for file in file_list:\n",
    "            with open(file, 'r') as infile:\n",
    "                out_file.write(infile.read() + '\\n')\n",
    "\n",
    "file_list = ['destination.txt','log.txt']\n",
    "output_file = 'merge_file.txt'\n",
    "print(merge_file(file_list,output_file))"
   ]
  },
  {
   "cell_type": "code",
   "execution_count": 57,
   "id": "1aef3b11",
   "metadata": {},
   "outputs": [
    {
     "name": "stdout",
     "output_type": "stream",
     "text": [
      "None\n"
     ]
    }
   ],
   "source": [
    "## Assignment 10: Splitting a Large File\n",
    "##Write a function that splits a large file named `large.txt` into smaller files of 100 lines each.\n",
    "\n",
    "def splitting_file(file_name,lines_per_line):\n",
    "    with open(file_name,'r') as file:\n",
    "        lines = file.readlines()\n",
    "        for i in range(0,len(lines), lines_per_line):\n",
    "            with open(f\"{file_name}_part{i//lines_per_line}\",'w') as infile:\n",
    "                infile.writelines(lines[i : i + lines_per_line])\n",
    "\n",
    "file_name = 'merge_file.txt'\n",
    "line_per_file = 1\n",
    "print(splitting_file(file_name,line_per_file))"
   ]
  },
  {
   "cell_type": "code",
   "execution_count": null,
   "id": "8ad6d242",
   "metadata": {},
   "outputs": [],
   "source": []
  },
  {
   "cell_type": "code",
   "execution_count": null,
   "id": "463f92ec",
   "metadata": {},
   "outputs": [],
   "source": []
  },
  {
   "cell_type": "code",
   "execution_count": null,
   "id": "8a75d589",
   "metadata": {},
   "outputs": [],
   "source": []
  },
  {
   "cell_type": "code",
   "execution_count": null,
   "id": "f6bfbb2e",
   "metadata": {},
   "outputs": [],
   "source": []
  },
  {
   "cell_type": "code",
   "execution_count": null,
   "id": "1e06c00a",
   "metadata": {},
   "outputs": [],
   "source": []
  },
  {
   "cell_type": "code",
   "execution_count": null,
   "id": "4ccd957b",
   "metadata": {},
   "outputs": [],
   "source": []
  },
  {
   "cell_type": "code",
   "execution_count": null,
   "id": "4143cdc2",
   "metadata": {},
   "outputs": [],
   "source": []
  },
  {
   "cell_type": "code",
   "execution_count": null,
   "id": "34447a34",
   "metadata": {},
   "outputs": [],
   "source": []
  },
  {
   "cell_type": "code",
   "execution_count": null,
   "id": "43238783",
   "metadata": {},
   "outputs": [],
   "source": []
  },
  {
   "cell_type": "code",
   "execution_count": null,
   "id": "3e86fe74",
   "metadata": {},
   "outputs": [],
   "source": []
  },
  {
   "cell_type": "code",
   "execution_count": null,
   "id": "899ac093",
   "metadata": {},
   "outputs": [],
   "source": []
  },
  {
   "cell_type": "code",
   "execution_count": null,
   "metadata": {},
   "outputs": [],
   "source": []
  }
 ],
 "metadata": {
  "kernelspec": {
   "display_name": "Python 3",
   "language": "python",
   "name": "python3"
  },
  "language_info": {
   "codemirror_mode": {
    "name": "ipython",
    "version": 3
   },
   "file_extension": ".py",
   "mimetype": "text/x-python",
   "name": "python",
   "nbconvert_exporter": "python",
   "pygments_lexer": "ipython3",
   "version": "3.12.11"
  }
 },
 "nbformat": 4,
 "nbformat_minor": 5
}
