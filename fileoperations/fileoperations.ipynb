{
 "cells": [
  {
   "cell_type": "markdown",
   "id": "bb17cbc9",
   "metadata": {},
   "source": [
    "#### Files Operation - Write and Read\n",
    "#### File Operations are cruial in every programming language, Python provides built-in functions nd methods to read and write to file in binary and text."
   ]
  },
  {
   "cell_type": "code",
   "execution_count": 25,
   "id": "d7939d40",
   "metadata": {},
   "outputs": [
    {
     "name": "stdout",
     "output_type": "stream",
     "text": [
      "I want to do Databricks Certification\n",
      "I want to work in Amazon\n",
      "I want to do AWS Certification\n",
      "I want to do GEN AI CertificationI am currently learning Python Programming\n",
      "I will learn AI/Ml\n",
      "\n",
      "I am currently learning Python Programming\n",
      "I will learn AI/Ml\n",
      "I am currently learning Python Programming\n",
      "I will learn AI/Ml\n",
      "\n"
     ]
    }
   ],
   "source": [
    "##Read\n",
    "try:\n",
    "    with open('example.txt','r') as file: #\tUsing with is good because it automatically closes the file.\n",
    "        content = file.read()\n",
    "        print(content)\n",
    "except FileNotFoundError as e:\n",
    "    print(f\"File does not exist:{e}\")"
   ]
  },
  {
   "cell_type": "code",
   "execution_count": 26,
   "id": "8867ef4a",
   "metadata": {},
   "outputs": [
    {
     "name": "stdout",
     "output_type": "stream",
     "text": [
      "I want to do Databricks Certification\n",
      "I want to work in Amazon\n",
      "I want to do AWS Certification\n",
      "I want to do GEN AI CertificationI am currently learning Python Programming\n",
      "I will learn AI/Ml\n",
      "\n",
      "I am currently learning Python Programming\n",
      "I will learn AI/Ml\n",
      "I am currently learning Python Programming\n",
      "I will learn AI/Ml\n"
     ]
    }
   ],
   "source": [
    "with open('example.txt','r') as file:\n",
    "    for line in file:\n",
    "        print(line.strip()) #Strip removes new line characters\n",
    "    "
   ]
  },
  {
   "cell_type": "code",
   "execution_count": 27,
   "id": "8f883a63",
   "metadata": {},
   "outputs": [],
   "source": [
    "#Writing to file - overwriting\n",
    "with open('example.txt', 'w') as file:\n",
    "    file.write(\"I want to do Databricks Certification\\n\")\n",
    "    file.write(\"I want to work in Amazon\\n\")\n"
   ]
  },
  {
   "cell_type": "code",
   "execution_count": 28,
   "id": "fdd19d5c",
   "metadata": {},
   "outputs": [
    {
     "name": "stdout",
     "output_type": "stream",
     "text": [
      "I want to do Databricks Certification\n",
      "I want to work in Amazon\n",
      "\n"
     ]
    }
   ],
   "source": [
    "with open('example.txt','r') as file: #\tUsing with is good because it automatically closes the file.\n",
    "        content = file.read()\n",
    "        print(content)"
   ]
  },
  {
   "cell_type": "code",
   "execution_count": 29,
   "id": "39c90cf5",
   "metadata": {},
   "outputs": [],
   "source": [
    "#Writing to file - non-overwriting\n",
    "with open('example.txt', 'a') as file:\n",
    "    file.write(\"I want to do AWS Certification\\n\")\n",
    "    file.write(\"I want to do GEN AI Certification\\n\")"
   ]
  },
  {
   "cell_type": "code",
   "execution_count": 30,
   "id": "171d44e6",
   "metadata": {},
   "outputs": [
    {
     "name": "stdout",
     "output_type": "stream",
     "text": [
      "I want to do Databricks Certification\n",
      "I want to work in Amazon\n",
      "I want to do AWS Certification\n",
      "I want to do GEN AI Certification\n",
      "\n"
     ]
    }
   ],
   "source": [
    "with open('example.txt','r') as file: #\tUsing with is good because it automatically closes the file.\n",
    "        content = file.read()\n",
    "        print(content)"
   ]
  },
  {
   "cell_type": "code",
   "execution_count": 31,
   "id": "b87c2aaa",
   "metadata": {},
   "outputs": [],
   "source": [
    "lines = ['I am currently learning Python Programming\\n','I will learn AI/Ml\\n']\n",
    "with open('example.txt', 'a')as file:\n",
    "    file.writelines(lines)"
   ]
  },
  {
   "cell_type": "code",
   "execution_count": 32,
   "id": "780f4fcc",
   "metadata": {},
   "outputs": [],
   "source": [
    "##Binary files\n",
    "data = b'\\x00\\x01\\x02\\x03\\x04'\n",
    "with open('example.bin','wb')as file:\n",
    "    file.write(data)"
   ]
  },
  {
   "cell_type": "code",
   "execution_count": 35,
   "id": "0cace449",
   "metadata": {},
   "outputs": [],
   "source": [
    "##read from source file and write to destination file\n",
    "with open('destination_file','w') as file:\n",
    "    file.write(content)"
   ]
  },
  {
   "cell_type": "code",
   "execution_count": 53,
   "id": "f3fbd7b4",
   "metadata": {},
   "outputs": [
    {
     "name": "stdout",
     "output_type": "stream",
     "text": [
      "['I want to do Databricks Certification\\n', 'I want to work in Amazon\\n', 'I want to do AWS Certification\\n', 'I want to do GEN AI Certification\\n']\n",
      "4\n",
      "25\n"
     ]
    }
   ],
   "source": [
    "##Read from des and count words\n",
    "\n",
    "try:\n",
    "    def count_text_file(file_path):\n",
    "        with open(file_path, 'r')as file:\n",
    "            lines = file.readlines()\n",
    "            print(lines)\n",
    "            line_count = len(lines)\n",
    "            print(line_count)\n",
    "            word_count = sum(len(line.split()) for line in lines)\n",
    "            print(word_count)\n",
    "            char_count = (len(line) for line in lines)\n",
    "        return line_count, word_count,char_count\n",
    "except FileNotFoundError as e:\n",
    "    print(f\"File Does not exist:{e}\")\n",
    "\n",
    "file_path = 'destination_file'\n",
    "lines, words, characters = count_text_file(file_path)"
   ]
  },
  {
   "cell_type": "code",
   "execution_count": 70,
   "id": "93a8053f",
   "metadata": {},
   "outputs": [
    {
     "name": "stdout",
     "output_type": "stream",
     "text": [
      "HI\n",
      "Sri Kaushik\n",
      "\n"
     ]
    }
   ],
   "source": [
    "##Write to a file and then read\n",
    "with open('example.txt', 'w+')as file:\n",
    "    file.write(\"HI\\n\")\n",
    "    file.write(\"Sri Kaushik\\n\")\n",
    "    file.seek(0)\n",
    "    content = file.read()\n",
    "    print(content)"
   ]
  },
  {
   "cell_type": "code",
   "execution_count": null,
   "id": "0020bb7b",
   "metadata": {},
   "outputs": [],
   "source": []
  },
  {
   "cell_type": "code",
   "execution_count": null,
   "id": "d51afb2b",
   "metadata": {},
   "outputs": [],
   "source": []
  }
 ],
 "metadata": {
  "kernelspec": {
   "display_name": "Python 3",
   "language": "python",
   "name": "python3"
  },
  "language_info": {
   "codemirror_mode": {
    "name": "ipython",
    "version": 3
   },
   "file_extension": ".py",
   "mimetype": "text/x-python",
   "name": "python",
   "nbconvert_exporter": "python",
   "pygments_lexer": "ipython3",
   "version": "3.12.11"
  }
 },
 "nbformat": 4,
 "nbformat_minor": 5
}
