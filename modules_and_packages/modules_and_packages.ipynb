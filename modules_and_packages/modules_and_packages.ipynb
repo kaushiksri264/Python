{
 "cells": [
  {
   "cell_type": "markdown",
   "id": "db495408",
   "metadata": {},
   "source": [
    "#### Importing Modules and Packages\n",
    "#### In python modules and packages help organize reuse of code."
   ]
  },
  {
   "cell_type": "code",
   "execution_count": 6,
   "id": "792b4ea5",
   "metadata": {},
   "outputs": [
    {
     "data": {
      "text/plain": [
       "5.0"
      ]
     },
     "execution_count": 6,
     "metadata": {},
     "output_type": "execute_result"
    }
   ],
   "source": [
    "import math\n",
    "math.sqrt(25)"
   ]
  },
  {
   "cell_type": "code",
   "execution_count": 12,
   "id": "062a0835",
   "metadata": {},
   "outputs": [
    {
     "name": "stdout",
     "output_type": "stream",
     "text": [
      "6.0\n",
      "3.141592653589793\n"
     ]
    }
   ],
   "source": [
    "from math import sqrt,pi\n",
    "print(sqrt(36))\n",
    "print(pi)"
   ]
  },
  {
   "cell_type": "code",
   "execution_count": 16,
   "id": "2b344f7f",
   "metadata": {},
   "outputs": [
    {
     "data": {
      "text/plain": [
       "array([1, 2, 3, 4, 5])"
      ]
     },
     "execution_count": 16,
     "metadata": {},
     "output_type": "execute_result"
    }
   ],
   "source": [
    "import numpy as np\n",
    "np.array([1,2,3,4,5])"
   ]
  },
  {
   "cell_type": "code",
   "execution_count": 17,
   "id": "9aad663f",
   "metadata": {},
   "outputs": [
    {
     "data": {
      "text/plain": [
       "2.0"
      ]
     },
     "execution_count": 17,
     "metadata": {},
     "output_type": "execute_result"
    }
   ],
   "source": [
    "from math import *\n",
    "sqrt(4)"
   ]
  },
  {
   "cell_type": "code",
   "execution_count": 26,
   "id": "fa7ebaf9",
   "metadata": {},
   "outputs": [
    {
     "name": "stdout",
     "output_type": "stream",
     "text": [
      "9\n"
     ]
    }
   ],
   "source": [
    "from package.maths import addtion\n",
    "print(addtion(4,5))"
   ]
  },
  {
   "cell_type": "markdown",
   "id": "267e7fe7",
   "metadata": {},
   "source": [
    "#### Standard Library Overview\n",
    "#### Pythons standard librabry is a vast collection of modules and packages that come bundle with python,\n",
    "#### providing wide range of functionalities out of the box."
   ]
  },
  {
   "cell_type": "code",
   "execution_count": null,
   "id": "8540c871",
   "metadata": {},
   "outputs": [
    {
     "name": "stdout",
     "output_type": "stream",
     "text": [
      "array('i', [1, 2, 3, 4])\n"
     ]
    }
   ],
   "source": [
    "import array\n",
    "arr = array.array('i',[1,2,3,4]) #It refers to whether a number can be negative or not, especially in lower-level programming and memory-efficient data structures (like arrays or C-based systems).\n",
    "print(arr)"
   ]
  },
  {
   "cell_type": "code",
   "execution_count": 34,
   "id": "a2c1cf38",
   "metadata": {},
   "outputs": [
    {
     "name": "stdout",
     "output_type": "stream",
     "text": [
      "4.0\n",
      "3.141592653589793\n"
     ]
    }
   ],
   "source": [
    "import math\n",
    "print(math.sqrt(16))\n",
    "print(math.pi)"
   ]
  },
  {
   "cell_type": "code",
   "execution_count": 41,
   "id": "402bc986",
   "metadata": {},
   "outputs": [
    {
     "name": "stdout",
     "output_type": "stream",
     "text": [
      "2\n",
      "apple\n"
     ]
    }
   ],
   "source": [
    "import random\n",
    "print(random.randint(1,10))#Based on the values we provide gives the randon integers\n",
    "print(random.choice(['apple','banana','orange']))"
   ]
  },
  {
   "cell_type": "code",
   "execution_count": 42,
   "id": "0bf533ae",
   "metadata": {},
   "outputs": [
    {
     "name": "stdout",
     "output_type": "stream",
     "text": [
      "/Users/kaushikpamidimuklala/Desktop/Python/Modules_and_Packages\n"
     ]
    }
   ],
   "source": [
    "## File Directory access\n",
    "import os\n",
    "print(os.getcwd())"
   ]
  },
  {
   "cell_type": "code",
   "execution_count": 43,
   "id": "361680d5",
   "metadata": {},
   "outputs": [],
   "source": [
    "os.mkdir('test_dir')"
   ]
  },
  {
   "cell_type": "code",
   "execution_count": 45,
   "id": "d580aad0",
   "metadata": {},
   "outputs": [],
   "source": [
    "os.rmdir('test_dir')"
   ]
  },
  {
   "cell_type": "code",
   "execution_count": 46,
   "id": "1b298927",
   "metadata": {},
   "outputs": [
    {
     "data": {
      "text/plain": [
       "'destination.txt'"
      ]
     },
     "execution_count": 46,
     "metadata": {},
     "output_type": "execute_result"
    }
   ],
   "source": [
    "##Highlevel operation on files and collection of files\n",
    "import shutil\n",
    "shutil.copy('source.txt','destination.txt')"
   ]
  },
  {
   "cell_type": "code",
   "execution_count": 47,
   "id": "51561f7b",
   "metadata": {},
   "outputs": [
    {
     "name": "stdout",
     "output_type": "stream",
     "text": [
      "{\"name\": \"Sri\", \"age\": 26}\n",
      "<class 'str'>\n",
      "{'name': 'Sri', 'age': 26}\n",
      "<class 'dict'>\n"
     ]
    }
   ],
   "source": [
    "##Data Serelization\n",
    "import json\n",
    "data = {\n",
    "    \"name\" : 'Sri',\n",
    "    \"age\" : 26\n",
    "}\n",
    "\n",
    "js_str = json.dumps(data)\n",
    "print(js_str)\n",
    "print(type(js_str))\n",
    "\n",
    "parsed_data = json.loads(js_str)\n",
    "print(parsed_data)\n",
    "print(type(parsed_data))"
   ]
  },
  {
   "cell_type": "code",
   "execution_count": 49,
   "id": "24203d71",
   "metadata": {},
   "outputs": [
    {
     "name": "stdout",
     "output_type": "stream",
     "text": [
      "['name', 'age']\n",
      "['Kasuhik', '26']\n"
     ]
    }
   ],
   "source": [
    "##csv\n",
    "\n",
    "import csv\n",
    "#Writ OP\n",
    "with open('example.csv', mode='w',newline='') as file:\n",
    "    writer = csv.writer(file)\n",
    "    writer.writerow(['name', 'age'])\n",
    "    writer.writerow(['Kasuhik',26])\n",
    "\n",
    "#Read OP\n",
    "\n",
    "with open('example.csv',mode='r') as file:\n",
    "    reader = csv.reader(file)\n",
    "    for row in reader:\n",
    "        print(row)"
   ]
  },
  {
   "cell_type": "code",
   "execution_count": 2,
   "id": "5d7491ee",
   "metadata": {},
   "outputs": [
    {
     "name": "stdout",
     "output_type": "stream",
     "text": [
      "2025-08-03 07:51:15.030621\n",
      "2025-08-02 07:51:15.030621\n"
     ]
    }
   ],
   "source": [
    "##Date_Time\n",
    "from datetime import datetime, timedelta\n",
    "\n",
    "now = datetime.now()\n",
    "print(now)\n",
    "\n",
    "yesterday = now - timedelta(days=1)\n",
    "print(yesterday)"
   ]
  },
  {
   "cell_type": "code",
   "execution_count": 3,
   "id": "b503603f",
   "metadata": {},
   "outputs": [
    {
     "name": "stdout",
     "output_type": "stream",
     "text": [
      "1754225543.730013\n"
     ]
    },
    {
     "data": {
      "text/plain": [
       "1754225545.735487"
      ]
     },
     "execution_count": 3,
     "metadata": {},
     "output_type": "execute_result"
    }
   ],
   "source": [
    "##Time\n",
    "import time\n",
    "print(time.time())\n",
    "time.sleep(2)\n",
    "time.time()"
   ]
  },
  {
   "cell_type": "code",
   "execution_count": 8,
   "id": "c7698bd7",
   "metadata": {},
   "outputs": [
    {
     "name": "stdout",
     "output_type": "stream",
     "text": [
      "26\n"
     ]
    }
   ],
   "source": [
    "## regular expression\n",
    "import re\n",
    "pattern = r'\\d+'\n",
    "text = 'hi what is your age 26 is age '\n",
    "match_re = re.search(pattern,text)\n",
    "print(match_re.group())"
   ]
  },
  {
   "cell_type": "code",
   "execution_count": null,
   "id": "fbee7fd5",
   "metadata": {},
   "outputs": [],
   "source": []
  }
 ],
 "metadata": {
  "kernelspec": {
   "display_name": "Python 3",
   "language": "python",
   "name": "python3"
  },
  "language_info": {
   "codemirror_mode": {
    "name": "ipython",
    "version": 3
   },
   "file_extension": ".py",
   "mimetype": "text/x-python",
   "name": "python",
   "nbconvert_exporter": "python",
   "pygments_lexer": "ipython3",
   "version": "3.12.11"
  }
 },
 "nbformat": 4,
 "nbformat_minor": 5
}
